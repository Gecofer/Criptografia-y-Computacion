{
 "cells": [
  {
   "cell_type": "markdown",
   "metadata": {},
   "source": [
    "# Práctica 3 : Funciones de un solo sentido"
   ]
  },
  {
   "cell_type": "markdown",
   "metadata": {},
   "source": [
    "## Ejercicio 1\n",
    "\n",
    "Sea $(a_1, ... , ak)$ una secuencia super-creciente de números positivos (la suma de los términos que preceden a $a_i$ es menor que $a_i$, para todo $i$). Elige $n > \\sum{a_i}$, y $u$ un entero positivo tal que $gcd(n,u) = 1$. Define $a_i^∗=u a_i \\pmod {n}$. La función mochila (knapsack) asociada a $(a_1^∗, ... , a_k^∗)$ es\n",
    "\n",
    "$$ f : \\mathbb{Z}_2^k \\rightarrow \\mathbb{N},\\ f(x_1, ... , x_k) = \\displaystyle\\sum_{i=1}^k x_i a_i^* $$\n",
    "\n",
    "Implementa esta función y su inversa, tal y como se explica en _[2, §4.5]_. La llave pública es $(a_1^∗, ... , a_k^∗)$, mientras que la privada (y puerta de atrás) es $((a_1, ... , a_k), n, u)$."
   ]
  },
  {
   "cell_type": "markdown",
   "metadata": {},
   "source": [
    "Para realizar este ejercicio, nos basamos en [4.5.The knapsack cipher](http://www.maths.qmul.ac.uk/~pjc/notes/crypt.pdf).\n",
    "\n",
    "En este ejercicio se nos pide implementar un cifrado de mochila de clave asimétrica donde la clave privada es una lista super-creciente y dos enteros $n$ y $u$ primos entre sí. La clave pública es una versión modificada de la lista super-creciente obtenida multiplicando cada elemento de la lista supercreciente por $u \\pmod n$."
   ]
  },
  {
   "cell_type": "markdown",
   "metadata": {},
   "source": [
    "En el **problema de la mochila**, se nos da una mochila con un volumen $b$ y unidades $a_1, a_2, ..., a_k$. Queremos saber si podemos llenar la mochila usando algunos de las unidades. Los datos de entrada de este problema consisten en el número $b$ y la lista $(a1, a2, ..., ak)$ de números. \n",
    "\n",
    "La sucesión $(a_1, a_2, ..., a_k)$ de enteros positivos se llama super-creciente si cada término es mayor que la suma de sus predecesores, entonces si los datos del problema de la mochila son super-crecientes, entonces el algoritmo voraz está garantizado para resolver el problema. "
   ]
  },
  {
   "cell_type": "markdown",
   "metadata": {},
   "source": [
    "#### Algoritmo Greedy:\n",
    "\n",
    "**Entrada**:\n",
    " - **n**: número del cual quiere conocerse sus sumandos en la lista $s$\n",
    " - **lista**: secuencia super-creciente\n",
    "  \n",
    "**Salida**:\n",
    " - **out**: lista que contiene los elementos de $s$ que al sumar dan $n$"
   ]
  },
  {
   "cell_type": "code",
   "execution_count": 1,
   "metadata": {
    "collapsed": true
   },
   "outputs": [],
   "source": [
    "# Función Greedy\n",
    "# --------------------------------------------------------------------------------------------\n",
    "def alg_greedy(n, lista):\n",
    "    \n",
    "    l = lista[:] # Realizamos una copia profunda de nuestra secuencia\n",
    "    suma = 0 # Variable que suma los valores cogidos de la lista\n",
    "    out = [] # Variable de salida\n",
    "    \n",
    "    # Mientras la suma sea distinta al elemento y no sobrepasemos la longitud de la secuencia\n",
    "    while (suma != n) and (len(l)>0):\n",
    "        \n",
    "        # Cogemos el valor mayor de la lista\n",
    "        aux = max(l)\n",
    "        \n",
    "        # Comenzamos a obtener los sumandos de la lista para n \n",
    "        # Si ese valor cogido es menor que nuestro número\n",
    "        if (suma + aux) <= n:\n",
    "            \n",
    "            # Lo añadimos a la lista\n",
    "            out.append(lista.index(aux))\n",
    "            \n",
    "            # Y sumamos ese valor \n",
    "            suma += aux            \n",
    "           \n",
    "        # Lo elimamos de la lista\n",
    "        l.remove(aux)\n",
    "        \n",
    "    # Devolvemos la lista final\n",
    "    return out"
   ]
  },
  {
   "cell_type": "markdown",
   "metadata": {},
   "source": [
    "Para **cifrar**, cada bit del mensaje se multiplica por un elemento de la lista super-creciente (que es la llave pública) y se suma cada uno de estos productos, obteniéndose un número. \n",
    "\n",
    "La función de cifrado, es la sumatoria del producto de cada bit del mensaje por cada elemento de la llave pública. La clave pública consiste en una k-tupla $(a_1, a_2, ..., a_k)$ de enteros. "
   ]
  },
  {
   "cell_type": "markdown",
   "metadata": {},
   "source": [
    "#### Cifrado de Knapstack:\n",
    "\n",
    "**Entrada**:\n",
    " - **n** y **u**: numeros primos entre sí\n",
    " - **lista**: secuencia super-creciente\n",
    " - **m**: mensaje a cifrar formado por lista binaria de 1 y 0\n",
    "  \n",
    "**Salida**:\n",
    " - **c**: mensaje cifrado"
   ]
  },
  {
   "cell_type": "code",
   "execution_count": 2,
   "metadata": {
    "collapsed": true
   },
   "outputs": [],
   "source": [
    "import fun_auxiliares as aux\n",
    "\n",
    "# Función Cifrado de Knapstack\n",
    "# --------------------------------------------------------------------------------------------\n",
    "def knapsack(n, u, lista, m):\n",
    "        \n",
    "    # Condiciones que deben cumplirse siempre\n",
    "    # Condición 1: Que n sea más grande que la suma de nuestra secuencia super-creciente \n",
    "    assert(n > sum(lista))\n",
    "    # Condición 2: Que n y u sean primos relativos entre sí (mcd(n,u) = 1)\n",
    "    assert(aux.alg_euclides(n, u)[4] == 1)\n",
    "    \n",
    "    # Obtenemos llave pública\n",
    "    # Secuencia obtenida a partir de una super-creciente [a1*...ak*] haciendo \"u·a[i] mod n\"\n",
    "    llave = [(a*u)%n for a in lista] \n",
    "    \n",
    "    # Obtenemos el mensaje cifrado\n",
    "    c = sum([e*a for e,a in zip(m, llave)])\n",
    "    \n",
    "    # Devolvemos la llave y el mensaje cifrado\n",
    "    return llave, c"
   ]
  },
  {
   "cell_type": "markdown",
   "metadata": {},
   "source": [
    "Para descifar, se calcula la sumatoria del producto de cada bit del mensaje con la lista super-creciente y descomponemos este número como suma de los elementos de la lista super-creciente.\n",
    "\n",
    "Por lo que calcularemos el inverso $v$ de $u \\pmod n$ usando el Algoritmo de Euclides. Luego calcularemos $b = vb^* \\pmod n$ y tenemos:\n",
    "\n",
    "$b = vb^* \\pmod n \\longrightarrow$ $b^*$ es el mensaje cifrado  \n",
    "$b = v \\cdot \\sum e_i a_i^* \\longrightarrow$ $a_i^*$ es la lista super-creciente modificada y $e_i$ el mensaje a cifrar  \n",
    "$b = v \\cdot \\sum e_i(ua_i) \\pmod n \\longrightarrow$ $a_i$ es la lista super-creciente  \n",
    "$b = (uv) \\cdot \\sum e_i a_i$  \n",
    "$b = \\sum e_i a_i \\pmod n$  \n",
    "\n",
    "Al final el descifrado se convierte en buscar los sumandos de $b$ en la lista supercreciente."
   ]
  },
  {
   "cell_type": "markdown",
   "metadata": {},
   "source": [
    "#### Inversa de Knapstack:\n",
    "\n",
    "**Entrada**:\n",
    " - **n** y **u**: numeros primos entre sí\n",
    " - **lista**: secuencia super-creciente\n",
    " - **c**: mensaje cifrado\n",
    "  \n",
    "**Salida**:\n",
    " - **out**: mensaje descifrado (lista binaria)"
   ]
  },
  {
   "cell_type": "code",
   "execution_count": 3,
   "metadata": {
    "collapsed": true
   },
   "outputs": [],
   "source": [
    "import fun_auxiliares as aux\n",
    "\n",
    "# Función Descifrado de Knapstack (Inversa de Knapstack)\n",
    "# --------------------------------------------------------------------------------------------\n",
    "def inversa_knapsack(n, u, lista, c):\n",
    "    \n",
    "    # Calculamos el inverso\n",
    "    inverso = aux.alg_inverso(u, n)\n",
    "    l_orig = [(a*inverso) % n for a in lista]\n",
    "    b = (c*inverso) % n\n",
    "    \n",
    "    # Descomponemos b como suma de elementos de la mochila\n",
    "    indices = alg_greedy(b, l_orig)\n",
    "    \n",
    "    # Expresamos los elementos de la mochila como binario\n",
    "    out = [0 for i in l_orig] # Establecemos todos a cero \n",
    "    \n",
    "    # Si el elemento de lista está en la mochila, ponemos 1\n",
    "    for i in indices: \n",
    "        out[i] = 1\n",
    "        \n",
    "    # Devolvemos el mensaje descifrado\n",
    "    return out"
   ]
  },
  {
   "cell_type": "markdown",
   "metadata": {},
   "source": [
    "Realizaremos un pequeño ejemplo:"
   ]
  },
  {
   "cell_type": "code",
   "execution_count": 4,
   "metadata": {},
   "outputs": [
    {
     "name": "stdout",
     "output_type": "stream",
     "text": [
      "Mensaje:  [0, 1, 1, 0, 0, 1, 0, 1]\n",
      "Mensaje cifrado: 1228\n",
      "Llave: [323, 412, 33, 389, 544, 297, 360, 486]\n",
      "Mensaje descifrado: [0, 1, 1, 0, 0, 1, 0, 1]\n"
     ]
    }
   ],
   "source": [
    "# Secuencia super-creciente\n",
    "s = [1, 3, 7, 15, 31, 63, 127, 255]\n",
    "\n",
    "# Escojamos dos números primos entre sí\n",
    "n = 557\n",
    "u = 323\n",
    "\n",
    "# Nuestro mensaje\n",
    "m = [0,1,1,0,0,1,0,1] # 1228\n",
    "print(\"Mensaje: \", m)\n",
    "\n",
    "# Ciframos\n",
    "llave, c = knapsack(n, u, s, m)\n",
    "print(\"Mensaje cifrado:\", c)\n",
    "print(\"Llave:\", llave)\n",
    "\n",
    "# Desciframos nuestro mensaje\n",
    "d = inversa_knapsack(n, u, llave, c)\n",
    "print(\"Mensaje descifrado:\", d)"
   ]
  },
  {
   "cell_type": "markdown",
   "metadata": {},
   "source": [
    "----"
   ]
  },
  {
   "cell_type": "markdown",
   "metadata": {},
   "source": [
    "## Ejercicio 2\n",
    "\n",
    "Sea $p$ un (pseudo-)primo mayor o igual que vuestro número de identidad. Encuentra un elemento primitivo, $\\alpha$, de $\\mathbb{Z}_p^*$ (se puede usar _[3, 2.132 (iv)]_; para facilitar el criterio, es bueno escoger $p$ de forma que $(p − 1)/2$ sea también primo, y para ello usamos Miller-Rabin). Definimos\n",
    "\n",
    "$$ f : \\mathbb{Z}_p \\rightarrow \\mathbb{Z}_p, x \\rightarrow \\alpha $$\n",
    "\n",
    "Calcula el inverso de tu fecha de nacimiento con el formato AAAAMMDD."
   ]
  },
  {
   "cell_type": "markdown",
   "metadata": {},
   "source": [
    "Lo que nos pide es el **Logaritmo discreto**. Para ello, haremos uso de las funciones $alg\\_miller\\_rabin1()$, $jacobi()$ y $paso\\_enano\\_paso\\_gigante()$.\n",
    "\n",
    "Por tanto, ya estamos en disposición de implementar lo que nos piden en el ejercicio. La función busca un elemento primitivo alfa de $\\mathbb{Z}_p^*$, con $p$ el primer primo mayor que mi DNI. Un elemento $\\alpha$ será primitivo si el símbolo de jacobi de $\\alpha$ sobre $p$ es $-1$. Después, se calcula la inversa de mi fecha de nacimiento usando el logaritmo discreto, que es la inversa de la función que se propone."
   ]
  },
  {
   "cell_type": "markdown",
   "metadata": {},
   "source": [
    "Primero vamos a obtener el siguiente primo mayor que mi DNI:\n",
    "\n",
    "- Mi DNI: 75572158\n",
    "- Siguiente primo mayor: 75572183\n",
    "\n",
    "> Para obtener el siguiente primo mayor que mi DNI, he usado en GAP, la siguiente función _NextPrimeInt(75572158)_"
   ]
  },
  {
   "cell_type": "markdown",
   "metadata": {},
   "source": [
    "#### Pseudocódigo\n",
    "\n",
    "**Entrada**:\n",
    "- **fecha**: El valor de la fecha de nacimiento en formato AAAMMDD\n",
    "    \n",
    "**Salida**: \n",
    "- El inverso de la fecha de nacimiento"
   ]
  },
  {
   "cell_type": "code",
   "execution_count": 5,
   "metadata": {
    "collapsed": true
   },
   "outputs": [],
   "source": [
    "import fun_auxiliares as aux\n",
    "\n",
    "# Función que encuentra un elemento primitivo -> Calcula el inverso de mi fecha de nacimiento\n",
    "# --------------------------------------------------------------------------------------------\n",
    "def primitivo(fecha):\n",
    "\n",
    "    # Encuentra un elemento primitivo alfa de Zp, n es fecha de nacimiento\n",
    "    \n",
    "    # Buscamos un pseudoprimo mayor o igual que mi DNI\n",
    "    p = 75572158\n",
    "    primo = False\n",
    "    \n",
    "    # Mientro no sea primo\n",
    "    while not primo:\n",
    "        \n",
    "        # Comprobar que 'p' y '(p-1)/2' son primos\n",
    "        if ( (aux.alg_miller_rabin1(p,10)) and (aux.alg_miller_rabin1((p-1)/2, 10)) ):\n",
    "            primo = True\n",
    "        \n",
    "        # Sino, sumamos uno a 'p'\n",
    "        else:\n",
    "            p = p+1\n",
    "    \n",
    "    # Búsqueda del elemento primitivo    \n",
    "    primitivo = False\n",
    "    alfa = 2\n",
    "            \n",
    "    # Mientras no sea primitivo        \n",
    "    while not primitivo:\n",
    "\n",
    "        # Comprobamos con Jacobi si alfa es primitivo\n",
    "        if (aux.jacobi(alfa,p) == -1):\n",
    "            primitivo = True\n",
    "        \n",
    "        # Sino, sumamos uno a alfa\n",
    "        else:\n",
    "            alfa = alfa +1\n",
    "    \n",
    "    # La inversa de la función es el logaritmo discreto\n",
    "    inv = aux.paso_enano_paso_gigante(alfa, fecha, p)\n",
    "            \n",
    "    # Devolvemos la inversa, el alfa y nuestro número primo\n",
    "    return inv, alfa, p"
   ]
  },
  {
   "cell_type": "markdown",
   "metadata": {},
   "source": [
    "Hagamos un ejemplo, para ello introducimos nuestra fecha de nacimiento con el formato AAAAMMDD."
   ]
  },
  {
   "cell_type": "code",
   "execution_count": 6,
   "metadata": {},
   "outputs": [
    {
     "name": "stdout",
     "output_type": "stream",
     "text": [
      "11352288 5 75572423\n"
     ]
    }
   ],
   "source": [
    "fecha = 19952508\n",
    "inv,alfa,p = primitivo(fecha)\n",
    "print (inv,alfa,p)"
   ]
  },
  {
   "cell_type": "markdown",
   "metadata": {},
   "source": [
    "El primer número ($inv$) es el inverso, el segundo ($alfa$) el alfa primitivo y el tercero ($p$) el primo. Para comprobar que está bien, solo hay que aplicar la función al resultado, es decir, hacer $alfa^{11352288} \\pmod p$"
   ]
  },
  {
   "cell_type": "code",
   "execution_count": 7,
   "metadata": {},
   "outputs": [
    {
     "name": "stdout",
     "output_type": "stream",
     "text": [
      "19952508\n"
     ]
    }
   ],
   "source": [
    "print (aux.alg_potencia(alfa,inv,p))"
   ]
  },
  {
   "cell_type": "markdown",
   "metadata": {},
   "source": [
    "---"
   ]
  },
  {
   "cell_type": "markdown",
   "metadata": {},
   "source": [
    "**En lo que sigue, $p$ y $q$ son enteros primos, y $n = pq$**"
   ]
  },
  {
   "cell_type": "markdown",
   "metadata": {},
   "source": [
    "## Ejercicio 3\n",
    "\n",
    "Sea $f : \\mathbb{Z}_n \\rightarrow \\mathbb{Z}_n$ la función de Rabin: $f(x) = x^2$. Sea $n = 48478872564493742276963$. Sabemos que $f(12) = 144 = f (37659670402359614687722)$. Usando esta información, calcula $p$ y $q$ (mira la demostración de _[1, Lemma 2.43]_)."
   ]
  },
  {
   "cell_type": "markdown",
   "metadata": {},
   "source": [
    "En este ejercicio se nos pide que hagamos la descomposición en primos de un número."
   ]
  },
  {
   "cell_type": "code",
   "execution_count": 8,
   "metadata": {
    "collapsed": true
   },
   "outputs": [],
   "source": [
    "import fun_auxiliares as aux\n",
    "\n",
    "# Función que realiza una descomposición en primos\n",
    "# --------------------------------------------------------------------------------------------\n",
    "def alg_descomposicion(n, f1, f2):\n",
    "    \n",
    "    # 37659670402359614687722 + 12\n",
    "    r1 = f1 + f2\n",
    "\n",
    "    # 37659670402359614687722 - 12\n",
    "    r2 = abs(f1-f2)\n",
    "    \n",
    "    # Calculamos el mcd de r1 y n\n",
    "    mcd1 = aux.mcd(r1, n)\n",
    "    \n",
    "    # Si es distinto de 1, hemos terminado\n",
    "    if mcd1 != 1:\n",
    "        return (mcd1, n//mcd1)\n",
    "    \n",
    "    else:\n",
    "        \n",
    "        # Calculamos el mcd de r2 y n\n",
    "        mcd2 = aux.mcd(r2, n)\n",
    "        \n",
    "        # Si es distinto de 1, hemos terminado\n",
    "        if mcd2 != 1:\n",
    "            return (mcd2, n//mcd2)\n",
    "    \n",
    "    # Sino ha entrado en el IF de antes, comprobamos que nuestro n es primo\n",
    "    if aux.alg_miller_rabin1(n, 10):\n",
    "        return (n, 1)"
   ]
  },
  {
   "cell_type": "markdown",
   "metadata": {},
   "source": [
    "Vamos hacer un ejemplo. Para ello pasamo como entrada:\n",
    "\n",
    "- $n=48478872564493742276963$\n",
    "\n",
    "Además, sabemos que  $f(12) = 144 = f(37659670402359614687722)$\n",
    "\n",
    "- $f1 = 12$\n",
    "- $f2 = 37659670402359614687722$"
   ]
  },
  {
   "cell_type": "code",
   "execution_count": 9,
   "metadata": {},
   "outputs": [
    {
     "name": "stdout",
     "output_type": "stream",
     "text": [
      "Número:  48478872564493742276963\n",
      "Descomposicion de n:  (303948303229, 159497098847)\n",
      "Multiplicación de la descomposición de n: 48478872564493742276963\n"
     ]
    }
   ],
   "source": [
    "n = 48478872564493742276963\n",
    "f1 = 12\n",
    "f2 = 37659670402359614687722\n",
    "\n",
    "d = alg_descomposicion(n, f1, f2)\n",
    "\n",
    "print(\"Número: \", n)\n",
    "print(\"Descomposicion de n: \", d)\n",
    "\n",
    "# Vamos a comprobar que devuelven el número original (de que son divisores de n)\n",
    "print(\"Multiplicación de la descomposición de n:\", d[0]*d[1])"
   ]
  },
  {
   "cell_type": "markdown",
   "metadata": {},
   "source": [
    "---"
   ]
  },
  {
   "cell_type": "markdown",
   "metadata": {},
   "source": [
    "## Ejercicio 4\n",
    "\n",
    "Elige $a_0$ y $a_1$ dos cuadrados arbitrarios módulo $n$ ($n$ como en el _Ejercicio 3_). Sea \n",
    "\n",
    "$$ h : \\mathbb{Z}_2 × (\\mathbb{Z}_n)^* \\rightarrow (\\mathbb{Z}_n)^*, h(b,x) = x^2 a_0^b a_1^{1-b} $$\n",
    "    \n",
    "Usa la construcción de Merkle-Damgard para implementar una función resumen tomando $h$ como función de compresión (esta $h$ fue definida por Goldwasser, Micali y Rivest). Los parámetros $a_0$, $a_1$ y $n$ se hacen públicos (la función debería admitir un parámetro en el que venga especificado el vector inicial)."
   ]
  },
  {
   "cell_type": "markdown",
   "metadata": {},
   "source": [
    "Una **función resumen** (o función hash) es una función de una sola dirección resistente a colisiones. Estas funciones transforman cada posible mensaje en un resumen de un tamaño determinado (por ejemplo, $128$ ó $160$ bits). \n",
    "\n",
    "Las condiciones que tiene que satisfacer una función resumen son:\n",
    "\n",
    "1. _Facilidad de cálculo._ Dado un mensaje $m$, el cálculo de $y = h(m)$ es sencillo y rápido.\n",
    "2. _Unidireccionalidad._ Dado un resumen $h(m)$ es computacionalmente muy costoso encontrar $m$ tal que $y = h(x)$.\n",
    "3. _Difusión._ El resumen debe ser función de todos los bits del mensaje. Un cambio en un bit debe afectar a aproximadamente la mitad de los bits del resumen.\n",
    "4. _Compresión._ El resumen debe tener longitud fija.\n",
    "5. _Resistencia débil a colisiones._ Dado $m$ es computacionalmente intratable encontrar $m' != m$ tal que $h(m) = h(m')$\n",
    "6. _Resistencia fuerte a colisiones._ Es computacionalmente inviable encontrar $m$ y $m'$, distintos, tales que $h(m) = h(m')$."
   ]
  },
  {
   "cell_type": "code",
   "execution_count": 10,
   "metadata": {
    "collapsed": true
   },
   "outputs": [],
   "source": [
    "import random\n",
    "import fun_auxiliares as aux\n",
    "\n",
    "# Función h, tomada como compresión\n",
    "# --------------------------------------------------------------------------------------------\n",
    "def funcion_h(b, x):\n",
    "    \n",
    "    # Obtenemos n (el del ejercicio 3)\n",
    "    n = 48478872564493742276963\n",
    "    \n",
    "    # Elegimos a0 y a1 dos cuadrados arbitrarios mod n\n",
    "    #a0 = (6347823468234**2) % n\n",
    "    a0 = (random.randint(1, n-1) ** 2) % n\n",
    "    #a1 = (5143151387122**2) % n\n",
    "    a1 = (random.randint(1, n-1) ** 2) % n\n",
    "    \n",
    "    # Calculamos la función\n",
    "    salida = ( aux.alg_potencia(x,2,n) * aux.alg_potencia(a0,b,n) * aux.alg_potencia(a1,1-b,n) )\n",
    "    \n",
    "    salida = salida % n\n",
    "    \n",
    "    return salida"
   ]
  },
  {
   "cell_type": "markdown",
   "metadata": {},
   "source": [
    "Ahora, vamos a proceder a calcular la función resumen, que usa una estructura de Merkle-Damgard usando h como función de compresión.\n",
    "\n",
    "- **Entrada**: Función de compresión (h).\n",
    "\n",
    "- **Salida:** Funcion resumen.\n",
    "\n",
    "La función empezará calculando $h$, para un bit principal $x$, para los sucesivos bits se usa el resultado obtenido en el anterior bit. Cuando hemos recorrido nuestro mensaje (bits), se devuelve el resultado del último bit."
   ]
  },
  {
   "cell_type": "markdown",
   "metadata": {},
   "source": [
    "Para ello, haremos uso de la función implementada en la P2, que convierte un string a bits."
   ]
  },
  {
   "cell_type": "code",
   "execution_count": 11,
   "metadata": {
    "collapsed": true
   },
   "outputs": [],
   "source": [
    "# Funcion que convierte un string a bits\n",
    "# --------------------------------------------------------------------------------------\n",
    "def str_to_binlist(message):\n",
    "    \n",
    "    # get a binary list\n",
    "    binary = list(bin(int.from_bytes(message.encode('utf-8'), byteorder='big')))\n",
    "    \n",
    "    # return the stream of 0s and 1s\n",
    "    binary.remove('b')\n",
    "    \n",
    "    return list(map(lambda x: int(x), binary))"
   ]
  },
  {
   "cell_type": "code",
   "execution_count": 12,
   "metadata": {
    "collapsed": true
   },
   "outputs": [],
   "source": [
    "# Función resumen, tomada como compresión\n",
    "# --------------------------------------------------------------------------------------------\n",
    "def funcion_resumen(x, m):\n",
    "    \n",
    "    # x vector inicial\n",
    "    # m mensaje al que aplicar el hash\n",
    "\n",
    "    # Pasamos nuestro mensaje a binario\n",
    "    m_bin = str_to_binlist(m) # Función implementada en la P2\n",
    "    \n",
    "    salida = 0\n",
    "    \n",
    "    for i in range(0, len(m_bin)):\n",
    "        \n",
    "        # Construccion Merkle-Damgard\n",
    "        # La salida de la h se combina en una nueva h con el nuevo bloque de mensaje que es m[i]\n",
    "        salida = funcion_h(m_bin[i], x) # m[i] es b\n",
    "        \n",
    "        # Se sustituye al vector inicial en los siguientes pasos \n",
    "        x = salida \n",
    "        \n",
    "    # salida_bin = bin(salida)    \n",
    "    return salida"
   ]
  },
  {
   "cell_type": "markdown",
   "metadata": {},
   "source": [
    "Vamos a probar un pequeño ejemplo, en donde nuestra llave es $7687$ y nuestro mensaje \"hola\"."
   ]
  },
  {
   "cell_type": "code",
   "execution_count": 13,
   "metadata": {},
   "outputs": [
    {
     "data": {
      "text/plain": [
       "33951221760290832876277"
      ]
     },
     "execution_count": 13,
     "metadata": {},
     "output_type": "execute_result"
    }
   ],
   "source": [
    "clave = 7687\n",
    "mensaje = \"hola\"\n",
    "\n",
    "# Obtenemos la función resumen\n",
    "funcion_resumen(clave, mensaje)"
   ]
  },
  {
   "cell_type": "markdown",
   "metadata": {},
   "source": [
    "---"
   ]
  },
  {
   "cell_type": "markdown",
   "metadata": {},
   "source": [
    "## Ejercicio 5\n",
    "\n",
    "Sea $p$ el menor primo entero mayor o igual que tu número de identidad, y sea $q$ el primer primo mayor o igual que tu fecha de nacimiento (AAAAMMDD). Selecciona $e$ tal que $gcd(e,(p−1)(q−1)) = 1$. Define la función RSA\n",
    "\n",
    "$$ f : \\mathbb{Z}_n \\rightarrow \\mathbb{Z}_n, x \\rightarrow x^e $$\n",
    "\n",
    "Calcula el inverso de 1234567890."
   ]
  },
  {
   "cell_type": "markdown",
   "metadata": {},
   "source": [
    "La fortaleza del **RSA** se basa en el problema de la factorización de números enteros como producto de primos.\n",
    "Lo primero que hay que hacer es elegir las claves. Como en todo sistema de cifrado asimétrico, las claves van por parejas: pública y privada.\n",
    "\n",
    "1. Para elegir la pareja de claves, lo primero que necesitamos es elegir dos primos grandes $p$ y $q$, y calcular su producto $n = p \\cdot q$.\n",
    "2. Ahora se elige un entero $e$ tal que $mcd(e,\\phi(n)) = 1$. Recordemos que $\\phi(n) = (p-1)\\cdot(q-1)$. Ambos valores, $(n, e)$ constituyen la clave pública del criptosistema. El número $n$ se conoce como módulo del Criptosistema.\n",
    "3. La clave privada es un entero $d$ tal que $d \\cdot e = 1 \\pmod {\\phi(n)}$."
   ]
  },
  {
   "cell_type": "markdown",
   "metadata": {},
   "source": [
    "#### Pseudocódigo Inverso RSA\n",
    "\n",
    "**Entrada:**\n",
    "- $p$: numero de identidad\n",
    "- $q$: fecha de nacimiento\n",
    "- $y$: el valor al que calcular el inverso\n",
    "\n",
    "**Salida:**\n",
    "- $x$: el inverso de la función RSA para el valor $y$"
   ]
  },
  {
   "cell_type": "markdown",
   "metadata": {},
   "source": [
    "Para mecanizar el proceso, nos creamos una función que calcula el siguiente primo, a partir de un número."
   ]
  },
  {
   "cell_type": "code",
   "execution_count": 14,
   "metadata": {
    "collapsed": true
   },
   "outputs": [],
   "source": [
    "import fun_auxiliares as aux\n",
    "\n",
    "# Función que calcula el siguiente primo\n",
    "# --------------------------------------------------------------------------------------------\n",
    "def NextPrime(p):\n",
    "    \n",
    "    if p%2==0:\n",
    "        p=p+1\n",
    "    \n",
    "    while (not aux.alg_miller_rabin(p)):\n",
    "        p+=2\n",
    "    \n",
    "    return p"
   ]
  },
  {
   "cell_type": "code",
   "execution_count": 15,
   "metadata": {
    "collapsed": true
   },
   "outputs": [],
   "source": [
    "import random\n",
    "import fun_auxiliares as aux\n",
    "\n",
    "# Función Inverso de RSA\n",
    "# --------------------------------------------------------------------------------------------\n",
    "def RSA_Inverso (DNI, fecha, y):\n",
    "    \n",
    "    # Sea p el menor primo entero mayor o igual que mi DNI\n",
    "    p = NextPrime(DNI)\n",
    "    # Sea q el menor primo entero mayor o igual que mi DNI\n",
    "    q = NextPrime(fecha)\n",
    "    \n",
    "    # Calculamo phi\n",
    "    phi_n = (p-1)*(q-1)\n",
    "    \n",
    "    # Obtenemos n como la multiplicación de p y q\n",
    "    n = p*q\n",
    "    \n",
    "    # Damos un valor por defecto a 'e'\n",
    "    e = 2\n",
    "    \n",
    "    # Elegimos un número 'e' que sea primo relativo con phi_n, sino aumentamos uno 'e'\n",
    "    while(aux.mcd(e,phi_n) != 1):\n",
    "        e = e + 1\n",
    "        # e = random.randint(2, p)\n",
    "    \n",
    "    # print(\"\\nLa clave pública es \", n, \",\" , e)\n",
    "    \n",
    "    # Para hallar la clave privada resolvemos la congruencia e·d = 1 (mod phi_n)\n",
    "    # es decir, calculamos el inverso de 'e' en Z(phi_n)\n",
    "    d = aux.alg_inverso(e, phi_n)\n",
    "    \n",
    "    # Inverso de x^e = y --> es sacar x dado y,e\n",
    "    x = aux.alg_potencia(y, d, n)\n",
    "\n",
    "    return x,e,n"
   ]
  },
  {
   "cell_type": "code",
   "execution_count": 16,
   "metadata": {},
   "outputs": [
    {
     "name": "stdout",
     "output_type": "stream",
     "text": [
      "(532151422460233, 3, 1507855417178977)\n"
     ]
    }
   ],
   "source": [
    "p = 75572158\n",
    "q = 19952508\n",
    "\n",
    "# Elemento al que calcular el inverso\n",
    "y = 1234567890 \n",
    "\n",
    "# Calculamos el inverso\n",
    "print (RSA_Inverso(p,q,y))"
   ]
  },
  {
   "cell_type": "markdown",
   "metadata": {},
   "source": [
    "Vamos a comprobar que nos devuelve el elemento original:"
   ]
  },
  {
   "cell_type": "code",
   "execution_count": 17,
   "metadata": {},
   "outputs": [
    {
     "name": "stdout",
     "output_type": "stream",
     "text": [
      "1234567890\n"
     ]
    }
   ],
   "source": [
    "import fun_auxiliares as aux\n",
    "\n",
    "print(aux.alg_potencia(532151422460233, 3, 1507855417178977))"
   ]
  },
  {
   "cell_type": "markdown",
   "metadata": {},
   "source": [
    "#### Interpretación del resultado obtenido \n",
    "\n",
    "1. Sea $p = 75572158$ y $q = 19952519$. Estos valores se mantienen en secreto. Calculamos $n$ que vale $75572183 \\cdot 19952519 = 1507854918366002$. En tal caso se tiene que $\\phi(n) = (p-1) \\cdot (q-1) = (75572158-1) \\cdot (19952519-1) = 1507855321654276$.\n",
    "2. Elegimos un número $e$ que sea primo relativo con $1507855321654276$, por ejemplo $e = 3$. La clave pública es entonces $(1507854918366002, 3)$.\n",
    "3. Para hallar la clave privada resolvemos la congruencia $3 \\cdot d = 1(mód 1507855321654276)$, es decir, calculamos $3^{-1}$ en $\\mathbb{Z}_{1507855321654276}$, que podemos hacerlo usando el algoritmo inverso de la P1. Dicho inverso vale 1005236881102851. La clave privada es entonces 1005236881102851."
   ]
  },
  {
   "cell_type": "markdown",
   "metadata": {},
   "source": [
    "---"
   ]
  },
  {
   "cell_type": "markdown",
   "metadata": {},
   "source": [
    "## Ejercicio 6\n",
    "\n",
    "Sea $n = 50000000385000000551$, y que sabemos que una inversa de $\\mathbb{Z}_n \\rightarrow \\mathbb{Z}_n$, $x \\rightarrow x^5$ es $x \\rightarrow x^{10000000074000000101}$ (esto es, conoces tanto la llave pública como la privada de la función RSA). Encuentra p y q usando el método explicado en _[2, Page 92]_. Compara este procedimiento con el algoritmo de Miller-Rabin y el Ejercicio 3."
   ]
  },
  {
   "cell_type": "markdown",
   "metadata": {},
   "source": [
    "Para realizar este ejercicio nos hemos basado en la referencia aportada en el enunciado en la [página 92](http://www.maths.qmul.ac.uk/~pjc/notes/crypt.pdf)"
   ]
  },
  {
   "cell_type": "markdown",
   "metadata": {},
   "source": [
    "#### Pseudocódigo (Métodos para encontrar los factores primos de $N$,  dados $d$ y $e$)\n",
    "\n",
    "1. Sea $d \\cdot e-1 = 2^a \\cdot b$, donde $b$ es impar. \n",
    "2. Elija un $x$ aleatorio con $0 < x < N$.\n",
    "3. Si $gcd (x, N) != 1$, ya hemos encontrado un factor y podemos detenerlo.\n",
    "4. Sino $y = x^b \\pmod N$.\n",
    "5. Si $y ≡ ± 1 \\pmod N$, el algoritmo ha fallado.\n",
    "6. Guardar el valor de $y$ ($z = y$). \n",
    "7. Ir reemplazando $y$ por $y^2 \\pmod N$.\n",
    "8. Si $y ≡ -1 \\pmod N$, el algoritmo ha fallado.\n",
    "9. Si $y ≡ 1 \\pmod N$, entonces hemos encontrado $z$ tal que $z^2 ≡ 1 \\pmod N)$ y $z !≡ ± 1 \\pmod N$. \n",
    "10. Entonces $gcd (N, z+1)$ y $gcd (N, z-1)$ son los factores primos de $N$.\n",
    "\n",
    "**Entrada:** \n",
    "- $n$: entero a factorizar\n",
    "- $d$: llave pública de la función \n",
    "- $e$: llave privada de la función inversa \n",
    "\n",
    "**Salida:**\n",
    "- $p$ y $q$: factores primos de n\n",
    "- $False$: si no es capaz de encontrar los factores"
   ]
  },
  {
   "cell_type": "code",
   "execution_count": 18,
   "metadata": {
    "collapsed": true
   },
   "outputs": [],
   "source": [
    "import random\n",
    "import fun_auxiliares as aux\n",
    "\n",
    "# Métodos para encontrar los factores primos de un número, dados d y e\n",
    "# --------------------------------------------------------------------------------------------\n",
    "def factorizar_numero(n,d,e):\n",
    "\n",
    "    # Sea d*e-1 = (2**a)*b --> ponemos que de1 = d*e-1, donde b es impar. \n",
    "    de1 = d*e - 1\n",
    "    \n",
    "    # Expresamos d*e-1 como (2**a)*b con b impar --> Calculamos a y b\n",
    "    b = de1\n",
    "    a = 0\n",
    "    while (b%2 == 0):\n",
    "        b = b//2\n",
    "        a = a+1\n",
    "    \n",
    "    # Repetimos con distintos x hasta encontrar factores no triviales\n",
    "    while True: \n",
    "        \n",
    "        # Elija un x aleatorio con 0<x<N, es decir, entre 1 y N\n",
    "        x = random.randint(1,n-1)\n",
    "        \n",
    "        # Calcular gcd(x, N)\n",
    "        gcd = aux.alg_euclides_v2(x, n)[0]\n",
    "        \n",
    "        # Si es distinto de 1, ya hemos encontrado un factor y podemos parar\n",
    "        if (gcd != 1):\n",
    "            return gcd\n",
    "        \n",
    "        # Si gcd (x,N) = 1\n",
    "        if (gcd == 1):\n",
    "            \n",
    "            # y = (x**b) mod n\n",
    "            y = aux.alg_potencia(x,b,n)\n",
    "    \n",
    "        # Repetimos 'a' veces\n",
    "        for i in range(a): \n",
    "            \n",
    "            # Debemos guardar el primer valor de 'y'\n",
    "            z = y\n",
    "            \n",
    "            # Reemplazar 'y' por (y**2) mod N\n",
    "            y = aux.alg_potencia(y,2,n) \n",
    "            \n",
    "            # Si y ≡ ± 1 (mod N), el algoritmo ha fallado\n",
    "            if (y == n-1):\n",
    "                return False # Error\n",
    "            \n",
    "            # Si y ≡ 1 (mod N), entonces hemos encontrado 'z' tal que \n",
    "            # z2 ≡ 1 (mod N) y z !≡ ± 1 (mod N).\n",
    "            if (y == 1):\n",
    "\n",
    "                # Entonces gcd (N, z+1) y gcd (N, z-1) son los factores primos de N\n",
    "                p = aux.alg_euclides_v2(n,z+1)[0]\n",
    "                q = aux.alg_euclides_v2(n,z-1)[0]\n",
    "\n",
    "                # Acabamos solo si no son factores triviales\n",
    "                if(p != n and p != 1):         \n",
    "                    return p,q\n",
    "                \n",
    "    return False"
   ]
  },
  {
   "cell_type": "markdown",
   "metadata": {},
   "source": [
    "Primero, haremos el ejemplo que nos proporciona la referencia, para así comprobar si está bien realizado el ejercicio."
   ]
  },
  {
   "cell_type": "code",
   "execution_count": 19,
   "metadata": {},
   "outputs": [
    {
     "data": {
      "text/plain": [
       "(31, 19)"
      ]
     },
     "execution_count": 19,
     "metadata": {},
     "output_type": "execute_result"
    }
   ],
   "source": [
    "factorizar_numero(589, 7 ,13)"
   ]
  },
  {
   "cell_type": "markdown",
   "metadata": {},
   "source": [
    "#### Interpretación del Resultado Obtenido\n",
    "\n",
    "Supongamos que $N = 589$ y $\\lambda(N) = 90$. Ahora $589 \\pmod 90 = 49$. Tratando que $\\phi(N) = 540$, obtenemos que los factores primos de $N$ son las raíces del polinomio cuadrático $x^2 - 50x + 589 = 0$,\n",
    "así que $p, q = 25 ± \\sqrt{625-589} = 25 ± 6 = 31,19$.\n",
    "\n",
    "No hay necesidad de probar para el otro caso.\n",
    "\n",
    "O supongamos, que $N = 589$ y que nuestro exponente privado correspondiente a $d = 7$ que es $e = 13$. Ahora $d \\cdot (e-1) = 90 = 2 \\cdot 45$. Aplicar el algoritmo con $x = 2$. Ya que $mcd(2,589) = 1$. Ahora $y = 2^{45} \\pmod 589 = 94$. En la etapa siguiente, $z = 94$ e $y = z^{2} \\pmod 589 = 1$. Así que los factores de $mcd(589, 95) = 19$ y $mcd(589, 93) = 31$."
   ]
  },
  {
   "cell_type": "markdown",
   "metadata": {},
   "source": [
    "A continuación, procedemos hacer el ejercicio propuesto en el enunciado."
   ]
  },
  {
   "cell_type": "code",
   "execution_count": 20,
   "metadata": {},
   "outputs": [
    {
     "data": {
      "text/plain": [
       "(5000000029, 10000000019)"
      ]
     },
     "execution_count": 20,
     "metadata": {},
     "output_type": "execute_result"
    }
   ],
   "source": [
    "# Definimos nuestros números\n",
    "n = 50000000385000000551\n",
    "d = 5\n",
    "e = 10000000074000000101\n",
    "\n",
    "# Aplicamos la función factorizar\n",
    "factorizar_numero (n, d, e)"
   ]
  },
  {
   "cell_type": "code",
   "execution_count": 21,
   "metadata": {},
   "outputs": [
    {
     "data": {
      "text/plain": [
       "[1, 589]"
      ]
     },
     "execution_count": 21,
     "metadata": {},
     "output_type": "execute_result"
    }
   ],
   "source": [
    "import random\n",
    "import fun_auxiliares as aux\n",
    "\n",
    "# Métodos para encontrar los factores primos de un número (Versión 2)\n",
    "# --------------------------------------------------------------------------------------------\n",
    "def factorizar_numero_v2(n, d, e):\n",
    "    \n",
    "    assert(e!=0 and d!=0)\n",
    "    \n",
    "    factores = []\n",
    "    \n",
    "    a = 0\n",
    "    \n",
    "    de = d*e\n",
    "    de = de-1\n",
    "    \n",
    "    a = aux.alg_potencia_v2(de)\n",
    "    b = de//aux.alg_potencia(2, a, n)\n",
    "    \n",
    "    x = random.randint(1, n-1)\n",
    "\n",
    "    divisor = aux.alg_euclides_v2(x, n)[0]\n",
    "\n",
    "    if divisor!=1:\n",
    "        return (divisor, n//divisor)\n",
    "\n",
    "    y = aux.alg_potencia(x, b, n)\n",
    "        \n",
    "    r1 = (y-1)%n\n",
    "    r2 = (y+1)%n\n",
    "    \n",
    "    if r1 == 0 and r2 == 0:\n",
    "        return False\n",
    "    \n",
    "    while aux.alg_euclides_v2(y, n)[0]==1:\n",
    "        z = y\n",
    "        y = aux.alg_potencia(y, 2, n)\n",
    "        \n",
    "        if y == n-1:\n",
    "            return False \n",
    "        \n",
    "        if y==1:\n",
    "            \n",
    "            f1 = aux.alg_euclides_v2(n, z-1)[0]\n",
    "            f2 = aux.alg_euclides_v2(n, z+1)[0]\n",
    "            \n",
    "            factores.append(f1)\n",
    "            factores.append(f2)\n",
    "\n",
    "            return factores\n",
    "        \n",
    "        \n",
    "# Probemos un ejemplo        \n",
    "factorizar_numero_v2(589, 7 ,13)"
   ]
  },
  {
   "cell_type": "markdown",
   "metadata": {},
   "source": [
    "**Comparación con el _ejercicio 3_**\n",
    "\n",
    "Debemos tener en cuenta, que ambos algoritmos son equivalentes. Pero para realizar la comparación nos podemos basar en que el ejercicio 3 necesitamos para obtener los factores, el resultado de dos valores para la función _Rabin()_ o en mi caso _alg-descomposicion()_. Y sin embargo, para este ejercicio, solo hace falta obtener la inversa de la función para lograr la factorización (es decir, la llave pública y privada.)\n",
    "\n",
    "_De normal, no hay acceso ni a la llave privada ni a la pública, aunque, es posible adquirir el resultado de dos valores para la función de Rabin() o en mi caso alg-descomposicion()._"
   ]
  },
  {
   "cell_type": "markdown",
   "metadata": {},
   "source": [
    "---"
   ]
  },
  {
   "cell_type": "markdown",
   "metadata": {},
   "source": [
    "## Ejercicio 7\n",
    "\n",
    "En este ejercicio se pide implementar un sistema de firma digital y verificación de la firma. Se puede elegir entre firma RSA o DSS.\n",
    "\n",
    "Al igual que antes, debe realizar tres tareas: generación de claves (ejercicios anteriores), generación de firma y verificación de firma."
   ]
  },
  {
   "cell_type": "markdown",
   "metadata": {},
   "source": [
    "Nos hemos decantado por la firma **RSA**:"
   ]
  },
  {
   "cell_type": "markdown",
   "metadata": {},
   "source": [
    "Para la **generación de la clave**, nos basamos en la función generada en el _ejercicio 5_ que implementa un $RSA$.\n",
    "\n",
    "1. Para elegir la pareja de claves, lo primero que necesitamos es elegir dos primos grandes $p$ y $q$, y calcular su producto $n = p \\cdot q$.\n",
    "2. Ahora se elige un entero $e$ tal que $mcd(e,\\phi(n)) = 1$. Recordemos que $\\phi(n) = (p-1)\\cdot(q-1)$. Ambos valores, $(n, e)$ constituyen la clave pública del criptosistema. El número $n$ se conoce como módulo del Criptosistema.\n",
    "3. La clave privada es un entero $d$ tal que $d \\cdot e = 1 \\pmod {\\phi(n)}$.\n",
    "\n",
    "#### Generación de claves RSA\n",
    "\n",
    "Dichas claves, serán guardadas en un fichero.\n",
    "    \n",
    "- **Entrada**: \n",
    "    - o _p,q_ como dos primos grandes \n",
    "    - o que se generen ambos primos dentro de la función de manera aleatoria\n",
    "    \n",
    "- **Salida**:\n",
    "    - _e,n_: clave publica\n",
    "    - _d_: clave privada"
   ]
  },
  {
   "cell_type": "code",
   "execution_count": 22,
   "metadata": {
    "collapsed": true
   },
   "outputs": [],
   "source": [
    "import random\n",
    "import fun_auxiliares as aux\n",
    "\n",
    "# Método para generar una clave\n",
    "# --------------------------------------------------------------------------------------------\n",
    "def generacion_claves():\n",
    "\n",
    "    # Por seguridad es conveniente elegir dos números de manera aleatoria\n",
    "    p = random.randint(1, 1000000000000000)\n",
    "    q = random.randint(1, 1000000000000000)\n",
    "    \n",
    "    # Si p no es primo, forzamos a que sea\n",
    "    p = NextPrime(p)\n",
    "    \n",
    "    # Si q no es primo, forzamos a que sea\n",
    "    q = NextPrime(q)\n",
    "    \n",
    "    # Realizamos su producto\n",
    "    n = p*q\n",
    "    \n",
    "    # Calculamos phi\n",
    "    phi = (p-1)*(q-1)\n",
    "    \n",
    "    e = 2\n",
    "    # Elegimos un número 'e' que sea primo relativo con phi_n, sino aumentamos uno 'e'\n",
    "    while(aux.alg_euclides_v2(phi,e)[0] != 1):\n",
    "        e = e +1\n",
    "    \n",
    "    # Para hallar la clave privada resolvemos la congruencia e·d = 1 (mod phi_n)\n",
    "    # es decir, calculamos el inverso de 'e' en Z(phi_n)\n",
    "    d = aux.alg_inverso(e,phi)\n",
    "    \n",
    "    # Abrimos los ficheros donde se guardarán las claves (debe tener permiso de escritura)\n",
    "    try:\n",
    "        f_pub = open(\"clave_publica\", \"w\")\n",
    "        f_priv = open(\"clave_privada\", \"w\")\n",
    "    except:\n",
    "        print(\"Error abriendo los ficheros de las claves.\")\n",
    "        \n",
    "    # Escribimos en un fichero la clave publica y privada, separando e y d de n con un espacio\n",
    "    # Clave Pública\n",
    "    f_pub.write(str(e)+\" \")\n",
    "    f_pub.write(str(n))\n",
    "    # Clave Privada\n",
    "    f_priv.write(str(d)+\" \")\n",
    "    f_priv.write(str(n))\n",
    "    \n",
    "    # Devolvemos las claves\n",
    "    return e, n, d"
   ]
  },
  {
   "cell_type": "markdown",
   "metadata": {},
   "source": [
    "Para la **generación de la firma**, se le introducirá un mensaje a cifrar (fichero) y el fichero con la clave (privada), y deberá generar una firma, que se guardará en un fichero de texto.\n",
    "\n",
    "Puesto que lo que realmente se firma no es el mensaje, sino un resumen del mensaje, hay que generar un resumen de dicho mensaje. Para esto emplearemos la función SHA1 (se pueden añadir otras funciones resumen). Cualquiera de las implementaciones de esta función que hay en la red puede ser usada.\n",
    "\n",
    "_Para la función SHAI1_, usaremos la librería de Python **hashlib**, que ya implementa esa función.\n",
    "\n",
    "#### Generación de firma RSA  \n",
    "\n",
    "Como podemos ver en los apuntes de Miranda, para generar una firma, solo nos bastaría hacer $fir(r) = r^d \\pmod n$. Por tanto, el mensaje firmado sería el par $(r, fir(r))$.\n",
    "    \n",
    "- **Entrada**:\n",
    "    - _mensaje_: nombre del fichero del mensaje a firmar en string\n",
    "    - _clave-privada_: nombre del fichero de la clave privada en string (contiene d y n)\n",
    "        \n",
    "- **Salida**:\n",
    "    - _f_: firma del resumen del mensaje"
   ]
  },
  {
   "cell_type": "code",
   "execution_count": 23,
   "metadata": {
    "collapsed": true
   },
   "outputs": [],
   "source": [
    "import hashlib \n",
    "import fun_auxiliares as aux\n",
    "\n",
    "# Método para generar la firma\n",
    "# --------------------------------------------------------------------------------------------\n",
    "def generacion_firma(mensaje, clave_privada):\n",
    "\n",
    "    # Abrimos el fichero de mensaje\n",
    "    try:\n",
    "        myfile = open(mensaje, encoding='utf-8')\n",
    "    except:\n",
    "        print(\"Error abriendo el fichero del mensaje.\")\n",
    "    \n",
    "    # Lo guardamos en una variable \n",
    "    m = myfile.read()  \n",
    "    m = m.encode(\"utf-8\")\n",
    "\n",
    "    # Calculamos un resumen del mensaje\n",
    "    r = hashlib.sha1(m).hexdigest()\n",
    "    \n",
    "    # Como la salida de 'r' es en hexadecimal,\n",
    "    # la convertimos a entero base 10 para poder operar con el resumen\n",
    "    r = int(\"0x\"+r, 0)\n",
    "    \n",
    "    # Leemos la clave del fichero\n",
    "    try:\n",
    "        f_priv = open(\"clave_privada\")\n",
    "    except:\n",
    "        print(\"Error abriendo el fichero de la clave privada.\")\n",
    "        \n",
    "    clave = f_priv.read().split(\" \")\n",
    "    d = int(clave[0])\n",
    "    n = int(clave[1])\n",
    "    \n",
    "    # Generamos la firma (firma del resumen)\n",
    "    f = aux.alg_potencia(r,d,n)\n",
    "    \n",
    "    try:\n",
    "        f_firma = open(\"firma\",\"w\")\n",
    "    except:\n",
    "        print(\"Error abriendo el fichero firma.\")\n",
    "        \n",
    "    # Escribios la firma en el archivo    \n",
    "    f_firma.write(str(f))\n",
    "    \n",
    "    # Devolvemos la firma\n",
    "    return f"
   ]
  },
  {
   "cell_type": "markdown",
   "metadata": {},
   "source": [
    "Para la **verificación de la firma**, se introduce el mensaje (fichero) que se ha firmado, un fichero con la firma (con el mismo formato que el generado en el apartado anterior) y un fichero con la clave (pública). Deberá responder si la firma es o no válida.\n",
    "\n",
    "#### Verificación de firma RSA  \n",
    "\n",
    "Como podemos ver en los apuntes de Miranda, para comprobar si la firma es válida, habría que hacer si $r = fir(r)^e \\pmod n$.\n",
    "\n",
    "- **Entrada**:\n",
    "    - _clave-publica_: nombre del fichero de la clave publica en string (e y n)\n",
    "    - _mensaje_: nombre del fichero del mensaje a verificar en string\n",
    "    - _firma_: nombre del fichero de firma en string\n",
    "    \n",
    "- **Salida**:\n",
    "    - _True_: si la firma es correcta\n",
    "    - _False_: si la firma no es correcta"
   ]
  },
  {
   "cell_type": "code",
   "execution_count": 24,
   "metadata": {
    "collapsed": true
   },
   "outputs": [],
   "source": [
    "import hashlib \n",
    "import fun_auxiliares as aux\n",
    "\n",
    "# Método para verificar la firma\n",
    "# --------------------------------------------------------------------------------------------\n",
    "def verificacion_firma(clave_publica, mensaje, firma):\n",
    "   \n",
    "    # Abrimos el fichero de mensaje\n",
    "    try:\n",
    "        myfile = open(mensaje, encoding='utf-8')\n",
    "    except:\n",
    "        print(\"Error abriendo el fichero del mensaje.\")\n",
    "    \n",
    "    # Lo guardamos en una variable como string\n",
    "    m = myfile.read()\n",
    "    m = m.encode(\"utf-8\")\n",
    "    \n",
    "    # Calculamos un resumen del mensaje\n",
    "    r = hashlib.sha1(m).hexdigest()\n",
    "    \n",
    "    # Como la salida de 'r' es en hexadecimal,\n",
    "    # la convertimos a entero base 10 para poder operar con el resumen\n",
    "    r = int(\"0x\"+r,0)\n",
    "    \n",
    "    # Leemos la clave del fichero\n",
    "    try:\n",
    "        f_pub = open(\"clave_publica\")\n",
    "    except:\n",
    "        print(\"Error abriendo el fichero de la clave pública.\")\n",
    "    \n",
    "    clave = f_pub.read().split(\" \")\n",
    "    e = int(clave[0])\n",
    "    n = int(clave[1])\n",
    "    \n",
    "    # Leemos el fichero con la firma\n",
    "    try:\n",
    "        f_firma = open(\"firma\")\n",
    "    except:\n",
    "        print(\"Error abriendo el fichero de la firma.\")\n",
    "    \n",
    "    f = int(f_firma.read())\n",
    "    \n",
    "    # Verificamos la firma\n",
    "    v = aux.alg_potencia(f,e,n)\n",
    "\n",
    "    # Si la verificacion coincide con la función resumen es válidad\n",
    "    if(v%n == r%n): \n",
    "        return True # Firma válida\n",
    "    else:\n",
    "        return False # Firma no válidad"
   ]
  },
  {
   "cell_type": "code",
   "execution_count": 25,
   "metadata": {
    "scrolled": false
   },
   "outputs": [
    {
     "data": {
      "text/plain": [
       "True"
      ]
     },
     "execution_count": 25,
     "metadata": {},
     "output_type": "execute_result"
    }
   ],
   "source": [
    "# Nombre del fichero de la clave privada\n",
    "clave_privada = \"clave_privada\"\n",
    "\n",
    "# Nombre del fichero de la clave pública\n",
    "clave_publica = \"clave_publica\"\n",
    "\n",
    "# Nombre del fichero del mensaje\n",
    "mensaje = \"mensaje\"\n",
    "\n",
    "# Nombre del fichero de la firma\n",
    "firma = \"firma\" \n",
    "\n",
    "# Hacemos la Firma RSA\n",
    "generacion_claves()\n",
    "generacion_firma(mensaje, clave_privada)\n",
    "verificacion_firma(clave_publica, mensaje, firma)"
   ]
  },
  {
   "cell_type": "markdown",
   "metadata": {},
   "source": [
    "Para comprobar que la verificación funciona, si editamos el fichero de firma y realizamos de nuevo la verificación, obtenemos un valor False."
   ]
  }
 ],
 "metadata": {
  "kernelspec": {
   "display_name": "Python 3",
   "language": "python",
   "name": "python3"
  },
  "language_info": {
   "codemirror_mode": {
    "name": "ipython",
    "version": 3
   },
   "file_extension": ".py",
   "mimetype": "text/x-python",
   "name": "python",
   "nbconvert_exporter": "python",
   "pygments_lexer": "ipython3",
   "version": "3.6.1"
  }
 },
 "nbformat": 4,
 "nbformat_minor": 2
}

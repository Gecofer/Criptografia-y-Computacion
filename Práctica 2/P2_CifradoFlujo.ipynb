{
 "cells": [
  {
   "cell_type": "markdown",
   "metadata": {},
   "source": [
    "# Práctica 2 : Cifrado en Flujo"
   ]
  },
  {
   "cell_type": "markdown",
   "metadata": {},
   "source": [
    "## Ejercicio 1\n",
    "\n",
    "Escribe una función que determine si una secuencia de bits cumple los postulados de Golomb."
   ]
  },
  {
   "cell_type": "markdown",
   "metadata": {},
   "source": [
    "Para realizar este ejercicio nos basamos:\n",
    "- En los **apuntes de Miranda de Criptografía**, en concreto, en la _página 66_ o en la _página 72_ si es abierto desde un visualizador de pdf's. \n",
    "- En las anotaciones tomadas en clase. \n",
    "- En el [Punto 3.5](http://www.maths.qmul.ac.uk/~pjc/notes/crypt.pdf) del libro _Notes on Cryptography, P. J. Cameron_."
   ]
  },
  {
   "cell_type": "markdown",
   "metadata": {},
   "source": [
    "Comencemos explicando que son los **postulados de Golomb**:\n",
    "\n",
    "- **1º Postulado**: En todo periodo, la diferencia entre el número de unos y el número de ceros debe ser a lo sumo uno. \n",
    "- **2º Postulado**: En un periodo, el número de rachas de longitud 1 debe ser el doble al número de rachas de longitud 2, y este a su vez, el doble de rachas de longitud 3, etc. Además, el número de rachas de longitud el último valor debe ser mayor o igual que el anterior. Debemos entender que una _racha_ es un grupo de bits iguales (podría ser de un solo bit) entre dos dígitos distintos.\n",
    "- **3º Postulado**: La distancia Hamming entre dos secuencias diferentes, obtenidas mediante desplazamientos circulares de un periodo, debe ser constante. Debemos saber que la **distancia Hamming** entre dos secuencias es el número de bits diferentes."
   ]
  },
  {
   "cell_type": "markdown",
   "metadata": {},
   "source": [
    "Para realizar este ejercicio, vamos a separar en funciones cada postulado, y luego juntaremos los tres postulado en una función."
   ]
  },
  {
   "cell_type": "code",
   "execution_count": 1,
   "metadata": {
    "collapsed": true
   },
   "outputs": [],
   "source": [
    "# 1º Postulado: La diferencia entre el número de 1 y el número de 0 debe ser a lo sumo 1\n",
    "# --------------------------------------------------------------------------------------\n",
    "def primer_postulado(bits):\n",
    "\n",
    "    # Contar en el vector las veces que aparece el 0\n",
    "    bits_O = bits.count(0)\n",
    "    \n",
    "    # Contar en el vector las veces que aparece el 1\n",
    "    bits_1 = bits.count(1)\n",
    "    \n",
    "    # |nº de ceros - nº de unos| <= 1 para que sea homogéneo\n",
    "    if (abs(bits_O - bits_1) > 1):\n",
    "        print(\"Error: No cumple el primer postulado.\")\n",
    "        return False # No cumple el primer postulado\n",
    "    \n",
    "    return True # Cumple el primer postulado"
   ]
  },
  {
   "cell_type": "code",
   "execution_count": 2,
   "metadata": {
    "collapsed": true
   },
   "outputs": [],
   "source": [
    "# 2º Postulado: el número de rachas de longitud 1 debe ser el doble al número de rachas \n",
    "# de longitud 2 y este a su vez, el doble de rachas de longitud 3, etc.\n",
    "# --------------------------------------------------------------------------------------\n",
    "def segundo_postulado(bits):\n",
    "    \n",
    "    # Mientras el primer y el último bit sean iguales, voy rotando a la izquierda\n",
    "    while (bits[0] == bits[-1]):\n",
    "        \n",
    "        b = bits[0] # Guardo el primer valor\n",
    "        bits.pop(0) # Borro el primer valor\n",
    "        bits.append(b) # Añado el primer valor al último de la lista\n",
    "        \n",
    "    # Muestro los bits, a los cuales les voy a aplicar el 2º postulado\n",
    "    print(\"Secuencia donde el primer y el último bit son distintos:\", bits)\n",
    "    \n",
    "    # Ahora calculo las rachas de esos bits\n",
    "    rachas = {}\n",
    "    anterior = -1\n",
    "    cont_racha = 0\n",
    "    \n",
    "    # Recorro el vector y añado uno más, porque se va a quedar en el anterior\n",
    "    for i in bits + [-1]: # [-1] para actualizar valores\n",
    "        \n",
    "        # Si hay 2 valores juntos, aumento el contador de rachas\n",
    "        if anterior == i:\n",
    "            cont_racha = cont_racha + 1 \n",
    "        \n",
    "        # Si no hay 2 valores juntos, digo las rachas de que longitud son\n",
    "        else:\n",
    "            \n",
    "            if cont_racha in rachas:\n",
    "                rachas[cont_racha] += 1\n",
    "            else:\n",
    "                rachas[cont_racha] = 1\n",
    "                \n",
    "            cont_racha = 1 # Vacío el contador\n",
    "            \n",
    "        anterior = i # Para volver a empezar (actualizar)\n",
    "        \n",
    "    # Borramos la variable que cuenta las longitud de racha 0, ya que es redundante\n",
    "    del rachas[0]\n",
    "    \n",
    "    # Mostramos las rachas que hay en nuestra secuencia\n",
    "    print(\"Rachas:\", rachas)\n",
    "           \n",
    "    # Ahora tengo que contar que las rachas de longitud 1 deben ser el doble al número \n",
    "    # de rachas de longitud 2 y así sucesivamente.\n",
    "    # La última racha será laxo, es decir, será igual o mayor\n",
    "    \n",
    "    # rachas_ordenar = []*(len(rachas)+1)\n",
    "    rachas_ordenar = [-1]*(len(rachas)+1)\n",
    "    \n",
    "    # Si tenemos rachas de solo una longitud\n",
    "    if (len(rachas_ordenar)-1) == 1:\n",
    "        return True\n",
    "    \n",
    "    # Lo que hacemos ahora, es coger solo el valor que hemos obtenido de las rachas, \n",
    "    # para poder hacer la comparación\n",
    "    try:\n",
    "        for key, value in rachas.items():\n",
    "            # rachas_ordenar.append(value)\n",
    "            rachas_ordenar[key] = value\n",
    "\n",
    "    except:\n",
    "        print(\"Error: No cumple el segundo postulado.\")\n",
    "        return False # No cumple el segundo postulado\n",
    "    \n",
    "    # Vamos a comparar las rachas, sin coger el del último elemento\n",
    "    for i in range(1,len(rachas_ordenar)-2):\n",
    "\n",
    "        # El número de rachas de longitud i debe ser el doble al número de rachas de \n",
    "        # longitud i+1\n",
    "        if rachas_ordenar[i] != 2*rachas_ordenar[i+1]:\n",
    "            print(\"Error: No cumple el segundo postulado.\")\n",
    "            return False # No cumple el segundo postulado\n",
    "    \n",
    "    # Se compara el último (laxo)\n",
    "    if rachas_ordenar[-2] < rachas_ordenar[-1]:\n",
    "        print(\"Error: No cumple el segundo postulado.\")\n",
    "        return False # No cumple el segundo postulado\n",
    "    \n",
    "    return True # Cumple el segundo postulado"
   ]
  },
  {
   "cell_type": "code",
   "execution_count": 3,
   "metadata": {
    "collapsed": true
   },
   "outputs": [],
   "source": [
    "# 3º Postulado: La distancia de Hamming entre dos secuencias diferentes, obtenidas \n",
    "# mediante desplazamientos circulares de un periodo, debe ser constante.\n",
    "# --------------------------------------------------------------------------------------\n",
    "def tercer_postulado(bits):\n",
    "\n",
    "    bits_rotado = bits[:] # Copia profunda (coger lista sin punteros)\n",
    "    distancia = []\n",
    "    \n",
    "    # Vamos a ir rotando a la izquierda nuestra secuencia, hasta que recorramos todas \n",
    "    # las posibilidades\n",
    "    for _ in range(len(bits)-1): # '_' es una variable que no se usa (como un while)\n",
    "        \n",
    "        b = bits_rotado[0] # Guardo el primer valor\n",
    "        bits_rotado.pop(0) # Borro el primer valor\n",
    "        bits_rotado.append(b) # Añado el primer valor al último de la lista\n",
    "\n",
    "        contador = 0\n",
    "        \n",
    "        # Voy comparando con la cadena original (bits)\n",
    "        for i in range(len(bits)):\n",
    "            \n",
    "            # Distancia Hamming\n",
    "            if bits[i] != bits_rotado[i]:\n",
    "                contador = contador + 1\n",
    "        \n",
    "        # Añadimos esa distancia a un lista\n",
    "        distancia.append(contador)\n",
    "    \n",
    "    # Visualizamos la distancia\n",
    "    print(\"Distancia Hamming:\", distancia)\n",
    "    \n",
    "    # Comparamos si todos los elementos del array son iguales\n",
    "    # Por eso cogemos uno y comparamos con todos los demás\n",
    "    if distancia.count(distancia[0]) != len(bits)-1:\n",
    "        print(\"Error: No cumple el tercer postulado.\")\n",
    "        return False # No cumple el tercer postulado\n",
    "        \n",
    "    return True # Cumple el segundo postulado"
   ]
  },
  {
   "cell_type": "code",
   "execution_count": 4,
   "metadata": {
    "collapsed": true
   },
   "outputs": [],
   "source": [
    "#  Función que aplica el postulado de golomb a una secuencia binaria\n",
    "# --------------------------------------------------------------------------------------\n",
    "def alg_golomb(bits):\n",
    "    \n",
    "    # Si el primer postulado da FALSE, devuelve FALSE\n",
    "    if(primer_postulado(bits) == False): \n",
    "        return False\n",
    "    \n",
    "    # Si el segundo postulado da FALSE, devuelve FALSE\n",
    "    if(segundo_postulado(bits) == False):\n",
    "        return False\n",
    "    \n",
    "    # Si el tercer postulado da FALSE, devuelve FALSE\n",
    "    if(tercer_postulado(bits) == False):\n",
    "        return False\n",
    "    \n",
    "    # Todos los postulados han dado True, por tanto se cumplen los postulados de Golomb\n",
    "    print(\"Cumple los tres postulados.\")\n",
    "    return True"
   ]
  },
  {
   "cell_type": "markdown",
   "metadata": {},
   "source": [
    "Vamos a realizar un pequeño ejemplo, para comprobar que funcionan correctamente nuestras funciones implementadas."
   ]
  },
  {
   "cell_type": "code",
   "execution_count": 18,
   "metadata": {},
   "outputs": [
    {
     "name": "stdout",
     "output_type": "stream",
     "text": [
      "Secuencia donde el primer y el último bit son distintos: [0, 0, 0, 1, 1, 1, 1, 0, 1, 0, 1, 1, 0, 0, 1]\n",
      "Rachas: {3: 1, 4: 1, 1: 4, 2: 2}\n",
      "Distancia Hamming: [8, 8, 8, 8, 8, 8, 8, 8, 8, 8, 8, 8, 8, 8]\n",
      "Cumple los tres postulados.\n"
     ]
    },
    {
     "data": {
      "text/plain": [
       "True"
      ]
     },
     "execution_count": 18,
     "metadata": {},
     "output_type": "execute_result"
    }
   ],
   "source": [
    "# Probamos la secuencia 000111101011001\n",
    "alg_golomb([0,0,0,1,1,1,1,0,1,0,1,1,0,0,1])"
   ]
  },
  {
   "cell_type": "markdown",
   "metadata": {},
   "source": [
    "#### Interpretación del Resultado Obtenido\n",
    "\n",
    "Como se aprecia en la salida, obtenemos tres listas, vamos a explicar lo que significa cada una de ellas usando un ejemplo. Para ello, partimos de la secuencia:\n",
    "\n",
    "$$000111101011001$$\n",
    "\n",
    "***1***. En el **primer postulado**, basta considerar una secuencia y contar el número de ceros y de unos. En nuestro ejemplo, la secuencia satisface el primer postulado de Golomb, pues está formada por $8$ \"unos\" y $7$ \"ceros\".\n",
    "\n",
    "***2***. En el **segundo postulado**, tenemos que obtener una secuencia donde el primer bit es distinto al último bit (realizando los desplazamientos necesarios) -> [0, 0, 0, 1, 1, 1, 1, 0, 1, 0, 1, 1, 0, 0, 1]. La siguiente lista {1: 4, 2: 2, 3: 1, 4: 1}, nos dice las rachas que existen en nuestra secuencia, es decir:\n",
    "\n",
    " - 1:4, de longitud 1 hay 4 rachas\n",
    " - 2:2, de longitud 2 hay 2 rachas\n",
    " - 3:1, de longitud 3 hay 1 racha\n",
    " - 4:1, de longitud 4 hay 1 racha\n",
    "\n",
    "Por ejemplo, en nuestra secuencia obtendríamos las siguientes rachas:  \n",
    "\n",
    " - De longitud $1$: 0 0 0 1 1 1 1 **0** **1** **0** 1 1 0 0 **1**. Hay cuatro rachas.\n",
    " - De longitud $2$: 0 0 0 1 1 1 1 0 1 **01** 1 0 **01**. Dos rachas.\n",
    " - De longitud $3$: **000** 1 1 1 1 0 1 0 1 1 0 0 1. Una racha.\n",
    " - De longitud $4$: 0 0 0 **1111** 0 1 0 1 1 0 0 1. Una racha.\n",
    "\n",
    "***3***. En el **tercer postulado**, obtenemos la lista [8, 8, 8, 8, 8, 8, 8, 8, 8, 8, 8, 8, 8, 8], que es el vector donde guardaremos la _distancia Hamming_ entre todos los posibles desplazamientos respecto el original. Por consiguiente, la obtendremos desplazando nuestra secuencia una posición a la derecha, tantas veces sea su longitud y contamos el número de bits diferentes entre cada una de las dos secuencias (la original y la generada):\n",
    "\n",
    "Secuencia | Explicación  \n",
    ":---: | :---: \n",
    "0 0 0 1 1 1 1 0 1 0 1 1 0 0 1 | Vemos que hay $8$ bits diferentes,  \n",
    "1 0 0 0 1 1 1 1 0 1 0 1 1 0 0 | luego la distancia de Hamming es $8$\n",
    "\n",
    "Y ahora realizamos la comparación entre todas las posibles secuencias, desplazando un bit a la izquierda.\n",
    "\n",
    "k | 0 0 0 1 1 1 1 0 1 0 1 1 0 0 1 | Distancia  \n",
    ":---: | :---: | :---: \n",
    "1 | 0 0 1 1 1 1 0 1 0 1 1 0 0 1 0 | 8  \n",
    "2 | 0 1 1 1 1 0 1 0 1 1 0 0 1 0 0 | 8  \n",
    "3 | 1 1 1 1 0 1 0 1 1 0 0 1 0 0 0 | 8  \n",
    "4 | 1 1 1 0 1 0 1 1 0 0 1 0 0 0 1 | 8  \n",
    "5 | 1 1 0 1 0 1 1 0 0 1 0 0 0 1 1 | 8  \n",
    "6 | 1 0 1 0 1 1 0 0 1 0 0 0 1 1 1 | 8  \n",
    "7 | 0 1 0 1 1 0 0 1 0 0 0 1 1 1 1 | 8  \n",
    "8 | 1 0 1 1 0 0 1 0 0 0 1 1 1 1 0 | 8 \n",
    "9 | 0 1 1 0 0 1 0 0 0 1 1 1 1 0 1 | 8  \n",
    "10 | 1 1 0 0 1 0 0 0 1 1 1 1 0 1 0 | 8  \n",
    "11 | 1 0 0 1 0 0 0 1 1 1 1 0 1 0 1 | 8  \n",
    "12 | 0 0 1 0 0 0 1 1 1 1 0 1 0 1 1 | 8  \n",
    "13 | 0 1 0 0 0 1 1 1 1 0 1 0 1 1 0 | 8  \n",
    "14 | 1 0 0 0 1 1 1 1 0 1 0 1 1 0 0 | 8  "
   ]
  },
  {
   "cell_type": "markdown",
   "metadata": {},
   "source": [
    "A continuación, vamos a realizar ejemplos en los que no se cumpla alguno de los postulados:"
   ]
  },
  {
   "cell_type": "code",
   "execution_count": 13,
   "metadata": {},
   "outputs": [
    {
     "name": "stdout",
     "output_type": "stream",
     "text": [
      "Error: No cumple el primer postulado.\n"
     ]
    },
    {
     "data": {
      "text/plain": [
       "False"
      ]
     },
     "execution_count": 13,
     "metadata": {},
     "output_type": "execute_result"
    }
   ],
   "source": [
    "# Error en el primer postulado (hay 10 \"unos\" y 6 \"ceros\")\n",
    "primer_postulado([1,0,1,1,1,1,0,1,0,1,1,0,0,1,1,0])"
   ]
  },
  {
   "cell_type": "code",
   "execution_count": 14,
   "metadata": {},
   "outputs": [
    {
     "name": "stdout",
     "output_type": "stream",
     "text": [
      "Secuencia donde el primer y el último bit son distintos: [1, 0, 0, 0, 0, 1, 1, 1, 1, 0, 1, 0, 1, 1, 0, 0, 1, 1, 0]\n",
      "Rachas: {1: 5, 4: 2, 2: 3}\n",
      "Error: No cumple el segundo postulado.\n"
     ]
    },
    {
     "data": {
      "text/plain": [
       "False"
      ]
     },
     "execution_count": 14,
     "metadata": {},
     "output_type": "execute_result"
    }
   ],
   "source": [
    "# Error en el segundo postulado (no existen rachas de longitud 3)\n",
    "segundo_postulado([1,0,0,0,0,1,1,1,1,0,1,0,1,1,0,0,1,1,0])"
   ]
  },
  {
   "cell_type": "code",
   "execution_count": 15,
   "metadata": {},
   "outputs": [
    {
     "name": "stdout",
     "output_type": "stream",
     "text": [
      "Secuencia donde el primer y el último bit son distintos: [0, 0, 1, 0, 1, 1]\n",
      "Rachas: {2: 2, 1: 2}\n",
      "Distancia Hamming: [4, 4, 2, 4, 4]\n",
      "Error: No cumple el tercer postulado.\n"
     ]
    },
    {
     "data": {
      "text/plain": [
       "False"
      ]
     },
     "execution_count": 15,
     "metadata": {},
     "output_type": "execute_result"
    }
   ],
   "source": [
    "# Error en el tercer postulado (una distancia es distinta a las demás)\n",
    "alg_golomb([1,0,0,1,0,1]) "
   ]
  },
  {
   "cell_type": "markdown",
   "metadata": {},
   "source": [
    "---"
   ]
  },
  {
   "cell_type": "markdown",
   "metadata": {
    "collapsed": true
   },
   "source": [
    "## Ejercicio 2\n",
    "\n",
    "Implementa registros lineales de desplazamiento con retroalimentación (LFSR, [1, Chapter 6]). La entrada son los coeficientes del polinomio de conexión, la semilla, y la longitud de la secuencia de salida.\n",
    "\n",
    "Ilustra con ejemplos la dependencia del periodo de la semilla en el caso de polinomios reducibles, la independencia en el caso de polinomios irreducibles, y la maximalidad del periodo en el caso de polinomios primitivos.\n",
    "\n",
    "Comprueba que los ejemplos con polinomios primitivos satisfacen los postulados de Golomb (en [1, §4.5.3] hay tablas de polinomios primitivos)."
   ]
  },
  {
   "cell_type": "markdown",
   "metadata": {},
   "source": [
    "Para realizar este ejercicio, nos basamos en los **apuntes de Miranda de Criptografía**, en concreto, en la _página 69_ o en la _página 75_ si es abierto desde un visualizador de pdf's.\n",
    "\n",
    "#### Implementación de un Registro Lineal de Desplazamiento con Retroalimentación LFSR (Lineal Feedback shift register)\n",
    "\n",
    "**Entrada**: coeficientes, semilla, longitud\n",
    "\n",
    "- **coeficientes**: Lista de coeficientes del polinomio conexión en orden $[c_L,...,c_1]$. Por ejemplo, el polinomio de conexión $[0,1,0,1]$ indica el polinomio: $x^3 + x + 1$. Debemos tener en cuenta que el $ + 1$, en nuestro polinomio de conexión no interesa, por lo que no se cuenta a la hora de representarlo en forma de bits.\n",
    "\n",
    "- **semilla**: Lista de semilla en orden $[s_0,...,s_{L-1}]$ de la misma longitud que _coeficientes_.\n",
    "\n",
    "- **longitud**: Longitud de la secuencia de salida.\n",
    "\n",
    "**Salida**: Secuencia generada (resultado de aplicar el registro de desplazamiento)"
   ]
  },
  {
   "cell_type": "markdown",
   "metadata": {},
   "source": [
    "Vamos a implementar esta idea, pero primero vamos a implementar una función que calcule el **producto escalar** donde:\n",
    "\n",
    "**Entrada**: \n",
    "\n",
    "- **c**: lista de $0$ y $1$\n",
    "\n",
    "- **r**: lista de $0$ y $1$\n",
    "\n",
    "**Salida**: El producto escalar en módulo $2$"
   ]
  },
  {
   "cell_type": "code",
   "execution_count": 6,
   "metadata": {
    "collapsed": true
   },
   "outputs": [],
   "source": [
    "# Función que calcula el producto escalar módulo 2 de dos listas\n",
    "# --------------------------------------------------------------------------------------\n",
    "def producto_escalar(c,r):\n",
    "    resul = 0\n",
    "    \n",
    "    for i in range(len(c)):\n",
    "        resul = resul + c[i]*r[i]\n",
    "    \n",
    "    return resul%2"
   ]
  },
  {
   "cell_type": "code",
   "execution_count": 7,
   "metadata": {
    "collapsed": true
   },
   "outputs": [],
   "source": [
    "# Función que implenta el LFSR\n",
    "# --------------------------------------------------------------------------------------\n",
    "def LFSR(coef, seed, longitud):\n",
    "    \n",
    "    # La longitud del coeficiente y de la semilla, deben ser iguales\n",
    "    if (len(seed) != len(coef)):\n",
    "        print(\"Error: la longitud del coeficiente y de la semilla, son distintos.\")\n",
    "        return False\n",
    "    \n",
    "    # Si la longitud de salida es menor o igual que el tamaño de la semilla\n",
    "    if (longitud <= len(seed)):\n",
    "        return seed[:longitud]\n",
    "    \n",
    "    # Copiamos en seed el r que será nuestro registro\n",
    "    r = seed.copy()\n",
    "    ou = seed.copy()\n",
    "    \n",
    "    # Recorremos hasta la longitud por defecto\n",
    "    # Dentro de la longitud de salida, ya contamos los bits de la semilla\n",
    "    for i in range(longitud-len(seed)):\n",
    "    \n",
    "        # Calculamos el producto escalar\n",
    "        prod = producto_escalar(coef,r)\n",
    "        \n",
    "        # Añado el nuevo valor, obtenido del producto escalar\n",
    "        ou.append(prod)\n",
    "        \n",
    "        # Quitamos el primer elemento, ya que el producto se realiza con el nº de bits \n",
    "        # de la semilla (valores anteriores)\n",
    "        r.pop(0) \n",
    "\n",
    "        # Añadimos el nuevo valor\n",
    "        r.append(prod) \n",
    "        # print(\"r\", r)\n",
    "        \n",
    "    # Devolvemos la secuencia\n",
    "    return ou"
   ]
  },
  {
   "cell_type": "markdown",
   "metadata": {},
   "source": [
    "Ahora vamos a realizar varios ejemplos:"
   ]
  },
  {
   "cell_type": "markdown",
   "metadata": {},
   "source": [
    "Para **ilustrar la dependencia del periodo de la semilla en el caso de polinomios reducibles**, podemos partir del ejemplo $(x^4 + x^2 + 1) = (x^2 + x + 1)^2$ que es reducible y su periodo es menor que el periodo máximo $2^{L}-1$ y depende de la semilla:"
   ]
  },
  {
   "cell_type": "code",
   "execution_count": 8,
   "metadata": {},
   "outputs": [
    {
     "data": {
      "text/plain": [
       "[1, 1, 1, 0, 0, 1, 1, 1, 1, 0, 0, 1, 1, 1, 1]"
      ]
     },
     "execution_count": 8,
     "metadata": {},
     "output_type": "execute_result"
    }
   ],
   "source": [
    "# Tiene periodo 6\n",
    "LFSR([1,0,1,0], [1,1,1,0], 15)"
   ]
  },
  {
   "cell_type": "markdown",
   "metadata": {},
   "source": [
    "Podemos comprobar que tiene periodo $6$. Pero si cambiamos la semilla, cambia el periodo porque el polinomio de conexión es reducible:"
   ]
  },
  {
   "cell_type": "code",
   "execution_count": 19,
   "metadata": {},
   "outputs": [
    {
     "data": {
      "text/plain": [
       "[0, 1, 1, 0, 1, 1, 0, 1, 1, 0, 1, 1, 0, 1, 1]"
      ]
     },
     "execution_count": 19,
     "metadata": {},
     "output_type": "execute_result"
    }
   ],
   "source": [
    "# Tiene periodo 3, aunque tenga el mismo polinomio de conexión\n",
    "LFSR([1,0,1,0], [0,1,1,0], 15) "
   ]
  },
  {
   "cell_type": "markdown",
   "metadata": {},
   "source": [
    "Para **ilustrar la dependencia del periodo de la semilla en el caso de polinomios irreducibles**, podemos comprobar que el periodo no depende de la semilla, pero es divisor del periodo máximo $2^{L}-1$. Veámoslo con el polinomio irreducible $(x^4+x^3+x^2+x+1)$:"
   ]
  },
  {
   "cell_type": "code",
   "execution_count": 20,
   "metadata": {},
   "outputs": [
    {
     "data": {
      "text/plain": [
       "[1, 1, 1, 0, 1, 1, 1, 1, 0, 1, 1, 1, 1, 0, 1, 1, 1, 1, 0, 1]"
      ]
     },
     "execution_count": 20,
     "metadata": {},
     "output_type": "execute_result"
    }
   ],
   "source": [
    "# Tiene periodo 5 (cambia la semilla)\n",
    "LFSR([1,1,1,1], [1,1,1,0], 20) "
   ]
  },
  {
   "cell_type": "code",
   "execution_count": 21,
   "metadata": {},
   "outputs": [
    {
     "data": {
      "text/plain": [
       "[0, 1, 1, 0, 0, 0, 1, 1, 0, 0, 0, 1, 1, 0, 0, 0, 1, 1, 0, 0]"
      ]
     },
     "execution_count": 21,
     "metadata": {},
     "output_type": "execute_result"
    }
   ],
   "source": [
    "# Tiene periodo 5 (cambia la semilla)\n",
    "LFSR([1,1,1,1], [0,1,1,0], 20)"
   ]
  },
  {
   "cell_type": "code",
   "execution_count": 22,
   "metadata": {},
   "outputs": [
    {
     "data": {
      "text/plain": [
       "[0, 0, 1, 0, 1, 0, 0, 1, 0, 1, 0, 0, 1, 0, 1, 0, 0, 1, 0, 1]"
      ]
     },
     "execution_count": 22,
     "metadata": {},
     "output_type": "execute_result"
    }
   ],
   "source": [
    "# Tiene periodo 5 (cambia la semilla)\n",
    "LFSR([1,1,1,1], [0,0,1,0], 20)"
   ]
  },
  {
   "cell_type": "markdown",
   "metadata": {},
   "source": [
    "En el ejemplo que hemos visto nos ha salido que el periodo es $5$, que es un divisor de $2^{L} - 1 = 2^4 - 1 = 15$, además es independiente de la semilla."
   ]
  },
  {
   "cell_type": "markdown",
   "metadata": {},
   "source": [
    "Para **ilustrar la dependencia del periodo de la semilla en el caso de polinomios primitivos**. \n",
    "\n",
    "Si el polinomio de conexión es primitivo, el periodo es siempre $2^L-1$, es decir, tiene periodo máximo, por lo que es independiente de la semilla. Además, satisface los tres postulados de Golomb. Por ejemplo, vamos a usar el polinomio primitivo $(x^{4}+x^{1}+1)$, que aparece en la [Tabla 4.6](http://cacr.uwaterloo.ca/hac/about/chap4.pdf) del libro _Handbook of Applied Cryptography_."
   ]
  },
  {
   "cell_type": "code",
   "execution_count": 23,
   "metadata": {},
   "outputs": [
    {
     "data": {
      "text/plain": [
       "[1, 0, 1, 1, 0, 0, 1, 0, 0, 0, 1, 1, 1, 1, 0, 1, 0, 1, 1, 0, 0, 1, 0, 0, 0, 1]"
      ]
     },
     "execution_count": 23,
     "metadata": {},
     "output_type": "execute_result"
    }
   ],
   "source": [
    "# El polinomio de conexión es primitivo, y tiene periodo maximo 2^(L)-1 = 2^(4)-1 = 15\n",
    "LFSR([1,0,0,1], [1,0,1,1], 26) "
   ]
  },
  {
   "cell_type": "markdown",
   "metadata": {},
   "source": [
    "Ahora vamos a comprobar que satisface los postulados de Golomb:"
   ]
  },
  {
   "cell_type": "code",
   "execution_count": 32,
   "metadata": {},
   "outputs": [
    {
     "name": "stdout",
     "output_type": "stream",
     "text": [
      "Secuencia donde el primer y el último bit son distintos: [1, 0, 1, 1, 0, 0, 1, 0, 0, 0, 1, 1, 1, 1, 0]\n",
      "Rachas: {1: 4, 2: 2, 3: 1, 4: 1}\n",
      "Distancia Hamming: [8, 8, 8, 8, 8, 8, 8, 8, 8, 8, 8, 8, 8, 8]\n",
      "Cumple los tres postulados.\n"
     ]
    },
    {
     "data": {
      "text/plain": [
       "True"
      ]
     },
     "execution_count": 32,
     "metadata": {},
     "output_type": "execute_result"
    }
   ],
   "source": [
    "# El polinomio de conexión es primitivo y tiene periodo maximo 2^(L)-1 = 2^(4)-1 = 15\n",
    "g = LFSR([1,0,0,1], [1,0,1,1], 30) \n",
    "\n",
    "# El periodo es 2^(L)-1 = 2^(4)-1 = 15 (L=4)\n",
    "alg_golomb(g[0:(2**4)-1]) "
   ]
  },
  {
   "cell_type": "markdown",
   "metadata": {},
   "source": [
    "Como vamos a ver a continuación, el _polinomio primitivo_ no va a depender de la semilla, por lo que se puede cambiar:"
   ]
  },
  {
   "cell_type": "code",
   "execution_count": 24,
   "metadata": {},
   "outputs": [
    {
     "name": "stdout",
     "output_type": "stream",
     "text": [
      "Secuencia donde el primer y el último bit son distintos: [1, 1, 0, 0, 1, 0, 0, 0, 1, 1, 1, 1, 0, 1, 0]\n",
      "Rachas: {2: 2, 1: 4, 3: 1, 4: 1}\n",
      "Distancia Hamming: [8, 8, 8, 8, 8, 8, 8, 8, 8, 8, 8, 8, 8, 8]\n",
      "Cumple los tres postulados.\n"
     ]
    },
    {
     "data": {
      "text/plain": [
       "True"
      ]
     },
     "execution_count": 24,
     "metadata": {},
     "output_type": "execute_result"
    }
   ],
   "source": [
    "# El polinomio de conexión es primitivo y tiene periodo maximo 2^(L)-1 = 2^(4)-1 = 15\n",
    "g = LFSR([1,0,0,1], [1,1,0,0], 30) \n",
    "\n",
    "# El periodo es 2^(L)-1 = 2^(4)-1 = 15 (L=4)\n",
    "alg_golomb(g[0:(2**4)-1]) "
   ]
  },
  {
   "cell_type": "markdown",
   "metadata": {},
   "source": [
    "Vamos a realizar dos ejemplos más para polinomios primitivos:\n",
    "- $x^{5}+x^{2}+1$\n",
    "- $x^{10}+x^{3}+1$"
   ]
  },
  {
   "cell_type": "code",
   "execution_count": 25,
   "metadata": {},
   "outputs": [
    {
     "name": "stdout",
     "output_type": "stream",
     "text": [
      "Secuencia donde el primer y el último bit son distintos: [1, 1, 0, 1, 0, 0, 1, 0, 0, 0, 0, 1, 0, 1, 0, 1, 1, 1, 0, 1, 1, 0, 0, 0, 1, 1, 1, 1, 1, 0, 0]\n",
      "Rachas: {2: 4, 1: 8, 4: 1, 3: 2, 5: 1}\n",
      "Distancia Hamming: [16, 16, 16, 16, 16, 16, 16, 16, 16, 16, 16, 16, 16, 16, 16, 16, 16, 16, 16, 16, 16, 16, 16, 16, 16, 16, 16, 16, 16, 16]\n",
      "Cumple los tres postulados.\n"
     ]
    },
    {
     "data": {
      "text/plain": [
       "True"
      ]
     },
     "execution_count": 25,
     "metadata": {},
     "output_type": "execute_result"
    }
   ],
   "source": [
    "# x^5 + x^2 + 1\n",
    "\n",
    "# El polinomio de conexión es primitivo y tiene periodo maximo 2^(5)-1 = 2^(5)-1 = 31\n",
    "g = LFSR([1,0,0,1,0], [1,1,0,1,0], 50) \n",
    "\n",
    "# El periodo es 2^(L)-1 = 2^(5)-1 = 31 (L=5)\n",
    "alg_golomb(g[0:(2**5)-1]) "
   ]
  },
  {
   "cell_type": "code",
   "execution_count": 26,
   "metadata": {},
   "outputs": [
    {
     "name": "stdout",
     "output_type": "stream",
     "text": [
      "Secuencia donde el primer y el último bit son distintos: [1, 1, 1, 0, 0, 1, 0, 0, 1, 0, 1, 0, 1, 1, 0, 0, 1, 0, 1, 1, 1, 1, 0, 0, 1, 0, 1, 1, 1, 0, 0, 0, 0, 0, 1, 0, 1, 0, 1, 1, 0, 1, 1, 0, 0, 1, 1, 0, 0, 0, 0, 1, 1, 0, 1, 0, 1, 1, 0, 1, 1, 1, 0, 1, 0, 0, 0, 1, 0, 1, 0, 1, 1, 1, 1, 1, 1, 0, 1, 0, 0, 0, 1, 1, 1, 0, 0, 1, 1, 0, 1, 1, 1, 0, 0, 1, 0, 1, 0, 0, 0, 1, 1, 0, 1, 0, 0, 0, 0, 0, 0, 1, 1, 0, 0, 1, 0, 0, 1, 0, 0, 0, 1, 0, 0, 0, 0, 0, 1, 0, 0, 1, 1, 0, 1, 1, 0, 1, 0, 0, 1, 1, 1, 1, 0, 0, 1, 1, 0, 1, 0, 1, 0, 1, 1, 0, 0, 0, 0, 1, 0, 1, 1, 1, 0, 1, 1, 0, 1, 0, 0, 0, 1, 1, 0, 0, 0, 0, 1, 0, 0, 1, 1, 1, 1, 1, 1, 1, 0, 1, 1, 1, 0, 0, 0, 1, 1, 1, 1, 0, 0, 0, 0, 0, 0, 1, 1, 1, 0, 1, 1, 0, 1, 1, 0, 0, 0, 1, 0, 1, 0, 0, 0, 1, 0, 0, 1, 1, 0, 0, 1, 0, 0, 0, 0, 0, 1, 1, 0, 1, 0, 0, 1, 0, 0, 1, 1, 1, 1, 0, 1, 1, 1, 1, 1, 0, 0, 0, 1, 0, 1, 0, 1, 0, 1, 1, 0, 1, 0, 0, 0, 0, 1, 0, 1, 0, 0, 0, 0, 0, 0, 0, 1, 0, 1, 1, 0, 1, 1, 0, 1, 1, 1, 1, 0, 0, 1, 1, 1, 1, 0, 0, 0, 1, 0, 0, 0, 1, 1, 1, 1, 1, 1, 0, 1, 1, 0, 0, 0, 1, 1, 1, 0, 1, 0, 1, 1, 0, 1, 0, 1, 0, 0, 0, 0, 1, 1, 0, 0, 1, 1, 0, 1, 1, 0, 0, 0, 0, 0, 1, 1, 0, 0, 0, 0, 0, 0, 0, 0, 1, 1, 0, 1, 1, 0, 1, 1, 0, 1, 0, 1, 1, 1, 0, 1, 0, 1, 1, 1, 1, 0, 0, 0, 0, 1, 0, 1, 0, 1, 0, 0, 1, 0, 0, 0, 0, 1, 0, 1, 1, 0, 0, 1, 0, 0, 1, 1, 0, 0, 0, 0, 0, 1, 0, 0, 0, 1, 0, 0, 1, 0, 0, 0, 0, 0, 0, 1, 0, 0, 0, 0, 0, 0, 0, 0, 0, 1, 0, 0, 1, 0, 0, 1, 0, 0, 1, 1, 0, 1, 0, 0, 1, 1, 0, 1, 0, 1, 1, 1, 1, 1, 0, 0, 1, 1, 0, 0, 0, 1, 1, 1, 1, 1, 0, 0, 1, 0, 0, 0, 1, 1, 1, 0, 1, 1, 1, 1, 1, 1, 0, 0, 0, 0, 1, 1, 1, 0, 0, 0, 0, 0, 0, 0, 1, 1, 1, 1, 1, 1, 1, 1, 1, 1, 0, 0, 0, 1, 1, 1, 0, 0, 0, 1, 0, 0, 1, 1, 1, 0, 1, 1, 0, 0, 1, 0, 1, 0, 1, 1, 1, 0, 1, 1, 1, 1, 0, 1, 0, 1, 0, 0, 0, 1, 1, 1, 1, 0, 1, 0, 0, 1, 0, 1, 0, 1, 0, 0, 0, 0, 0, 1, 0, 1, 1, 1, 1, 1, 1, 1, 1, 0, 1, 0, 1, 0, 1, 0, 1, 0, 1, 1, 1, 1, 0, 1, 0, 0, 0, 0, 1, 1, 1, 0, 1, 0, 0, 1, 0, 0, 0, 1, 1, 0, 0, 1, 0, 1, 1, 0, 1, 0, 1, 1, 0, 0, 1, 1, 1, 1, 0, 1, 0, 1, 1, 0, 0, 0, 1, 1, 0, 0, 1, 1, 1, 1, 1, 1, 0, 0, 1, 0, 1, 0, 1, 0, 1, 0, 0, 1, 1, 0, 0, 1, 1, 0, 0, 1, 0, 1, 0, 0, 1, 1, 1, 1, 1, 0, 1, 0, 0, 1, 1, 1, 0, 0, 0, 0, 1, 0, 0, 0, 1, 1, 0, 1, 1, 0, 0, 1, 0, 0, 0, 1, 0, 1, 0, 0, 1, 1, 0, 1, 1, 1, 1, 0, 1, 1, 1, 0, 1, 0, 1, 0, 1, 1, 1, 0, 0, 1, 1, 0, 0, 1, 1, 1, 0, 1, 1, 1, 0, 1, 1, 1, 0, 0, 1, 1, 1, 0, 1, 0, 1, 0, 0, 1, 1, 1, 0, 1, 0, 0, 0, 0, 0, 1, 1, 1, 1, 0, 1, 1, 0, 1, 1, 1, 0, 0, 0, 0, 1, 1, 0, 0, 0, 1, 0, 0, 1, 0, 1, 0, 0, 1, 0, 1, 1, 0, 0, 1, 1, 0, 1, 0, 0, 0, 1, 0, 0, 0, 1, 0, 1, 1, 0, 1, 0, 0, 1, 0, 1, 1, 1, 0, 1, 0, 0, 1, 1, 0, 0, 0, 1, 0, 1, 1, 0, 0, 0, 0, 0, 0, 1, 0, 1, 0, 0, 1, 0, 0, 1, 0, 1, 1, 1, 1, 1, 0, 1, 1, 1, 1, 0, 0, 0, 1, 1, 0, 0, 0, 1, 1, 0, 1, 1, 1, 0, 1, 1, 0, 0, 0, 0, 1, 1, 1, 1, 0, 0, 1, 0, 0, 1, 1, 1, 0, 0, 1, 0, 1, 1, 0, 0, 0, 1, 0, 0, 0, 0, 1, 1, 0, 1, 1, 1, 1, 1, 1, 1, 0, 0, 1, 1, 1, 0, 0, 0, 1, 1, 0, 1, 0, 1, 0, 0, 1, 0, 1, 0, 0, 0, 0, 1, 0, 0, 0, 0, 1, 0, 0, 1, 0, 1, 1, 0, 1, 1, 1, 1, 1, 0, 1, 0, 1, 1, 1, 0, 0, 0, 1, 0, 1, 1, 1, 0, 0, 1, 0, 0, 0, 0, 1, 1, 1, 1, 1, 0, 1, 1, 0, 1, 0, 1, 0, 1, 0, 0, 0, 1, 0, 1, 1, 1, 1, 0, 1, 1, 0, 0, 1, 1, 1, 0, 0, 1, 1, 1, 1, 1, 0, 0, 0, 0, 0]\n",
      "Rachas: {3: 64, 2: 128, 1: 256, 4: 32, 5: 16, 6: 8, 7: 4, 8: 2, 9: 1, 10: 1}\n",
      "Distancia Hamming: [512, 512, 512, 512, 512, 512, 512, 512, 512, 512, 512, 512, 512, 512, 512, 512, 512, 512, 512, 512, 512, 512, 512, 512, 512, 512, 512, 512, 512, 512, 512, 512, 512, 512, 512, 512, 512, 512, 512, 512, 512, 512, 512, 512, 512, 512, 512, 512, 512, 512, 512, 512, 512, 512, 512, 512, 512, 512, 512, 512, 512, 512, 512, 512, 512, 512, 512, 512, 512, 512, 512, 512, 512, 512, 512, 512, 512, 512, 512, 512, 512, 512, 512, 512, 512, 512, 512, 512, 512, 512, 512, 512, 512, 512, 512, 512, 512, 512, 512, 512, 512, 512, 512, 512, 512, 512, 512, 512, 512, 512, 512, 512, 512, 512, 512, 512, 512, 512, 512, 512, 512, 512, 512, 512, 512, 512, 512, 512, 512, 512, 512, 512, 512, 512, 512, 512, 512, 512, 512, 512, 512, 512, 512, 512, 512, 512, 512, 512, 512, 512, 512, 512, 512, 512, 512, 512, 512, 512, 512, 512, 512, 512, 512, 512, 512, 512, 512, 512, 512, 512, 512, 512, 512, 512, 512, 512, 512, 512, 512, 512, 512, 512, 512, 512, 512, 512, 512, 512, 512, 512, 512, 512, 512, 512, 512, 512, 512, 512, 512, 512, 512, 512, 512, 512, 512, 512, 512, 512, 512, 512, 512, 512, 512, 512, 512, 512, 512, 512, 512, 512, 512, 512, 512, 512, 512, 512, 512, 512, 512, 512, 512, 512, 512, 512, 512, 512, 512, 512, 512, 512, 512, 512, 512, 512, 512, 512, 512, 512, 512, 512, 512, 512, 512, 512, 512, 512, 512, 512, 512, 512, 512, 512, 512, 512, 512, 512, 512, 512, 512, 512, 512, 512, 512, 512, 512, 512, 512, 512, 512, 512, 512, 512, 512, 512, 512, 512, 512, 512, 512, 512, 512, 512, 512, 512, 512, 512, 512, 512, 512, 512, 512, 512, 512, 512, 512, 512, 512, 512, 512, 512, 512, 512, 512, 512, 512, 512, 512, 512, 512, 512, 512, 512, 512, 512, 512, 512, 512, 512, 512, 512, 512, 512, 512, 512, 512, 512, 512, 512, 512, 512, 512, 512, 512, 512, 512, 512, 512, 512, 512, 512, 512, 512, 512, 512, 512, 512, 512, 512, 512, 512, 512, 512, 512, 512, 512, 512, 512, 512, 512, 512, 512, 512, 512, 512, 512, 512, 512, 512, 512, 512, 512, 512, 512, 512, 512, 512, 512, 512, 512, 512, 512, 512, 512, 512, 512, 512, 512, 512, 512, 512, 512, 512, 512, 512, 512, 512, 512, 512, 512, 512, 512, 512, 512, 512, 512, 512, 512, 512, 512, 512, 512, 512, 512, 512, 512, 512, 512, 512, 512, 512, 512, 512, 512, 512, 512, 512, 512, 512, 512, 512, 512, 512, 512, 512, 512, 512, 512, 512, 512, 512, 512, 512, 512, 512, 512, 512, 512, 512, 512, 512, 512, 512, 512, 512, 512, 512, 512, 512, 512, 512, 512, 512, 512, 512, 512, 512, 512, 512, 512, 512, 512, 512, 512, 512, 512, 512, 512, 512, 512, 512, 512, 512, 512, 512, 512, 512, 512, 512, 512, 512, 512, 512, 512, 512, 512, 512, 512, 512, 512, 512, 512, 512, 512, 512, 512, 512, 512, 512, 512, 512, 512, 512, 512, 512, 512, 512, 512, 512, 512, 512, 512, 512, 512, 512, 512, 512, 512, 512, 512, 512, 512, 512, 512, 512, 512, 512, 512, 512, 512, 512, 512, 512, 512, 512, 512, 512, 512, 512, 512, 512, 512, 512, 512, 512, 512, 512, 512, 512, 512, 512, 512, 512, 512, 512, 512, 512, 512, 512, 512, 512, 512, 512, 512, 512, 512, 512, 512, 512, 512, 512, 512, 512, 512, 512, 512, 512, 512, 512, 512, 512, 512, 512, 512, 512, 512, 512, 512, 512, 512, 512, 512, 512, 512, 512, 512, 512, 512, 512, 512, 512, 512, 512, 512, 512, 512, 512, 512, 512, 512, 512, 512, 512, 512, 512, 512, 512, 512, 512, 512, 512, 512, 512, 512, 512, 512, 512, 512, 512, 512, 512, 512, 512, 512, 512, 512, 512, 512, 512, 512, 512, 512, 512, 512, 512, 512, 512, 512, 512, 512, 512, 512, 512, 512, 512, 512, 512, 512, 512, 512, 512, 512, 512, 512, 512, 512, 512, 512, 512, 512, 512, 512, 512, 512, 512, 512, 512, 512, 512, 512, 512, 512, 512, 512, 512, 512, 512, 512, 512, 512, 512, 512, 512, 512, 512, 512, 512, 512, 512, 512, 512, 512, 512, 512, 512, 512, 512, 512, 512, 512, 512, 512, 512, 512, 512, 512, 512, 512, 512, 512, 512, 512, 512, 512, 512, 512, 512, 512, 512, 512, 512, 512, 512, 512, 512, 512, 512, 512, 512, 512, 512, 512, 512, 512, 512, 512, 512, 512, 512, 512, 512, 512, 512, 512, 512, 512, 512, 512, 512, 512, 512, 512, 512, 512, 512, 512, 512, 512, 512, 512, 512, 512, 512, 512, 512, 512, 512, 512, 512, 512, 512, 512, 512, 512, 512, 512, 512, 512, 512, 512, 512, 512, 512, 512, 512, 512, 512, 512, 512, 512, 512, 512, 512, 512, 512, 512, 512, 512, 512, 512, 512, 512, 512, 512, 512, 512, 512, 512, 512, 512, 512, 512, 512, 512, 512, 512, 512, 512, 512, 512, 512, 512, 512, 512, 512, 512, 512, 512, 512, 512, 512, 512, 512, 512, 512, 512, 512, 512, 512, 512, 512, 512, 512, 512, 512, 512, 512, 512, 512, 512, 512, 512, 512, 512, 512, 512, 512, 512, 512, 512, 512, 512, 512, 512, 512, 512, 512, 512, 512, 512, 512, 512, 512, 512, 512, 512, 512, 512, 512, 512, 512, 512, 512, 512, 512, 512, 512, 512, 512, 512, 512, 512, 512, 512, 512, 512, 512, 512, 512, 512, 512, 512, 512, 512, 512, 512, 512, 512, 512, 512, 512, 512, 512, 512, 512, 512, 512, 512, 512, 512, 512, 512, 512, 512, 512, 512, 512, 512, 512, 512, 512, 512, 512, 512, 512, 512, 512, 512, 512, 512, 512, 512, 512, 512, 512, 512, 512, 512, 512, 512, 512, 512, 512, 512, 512, 512, 512, 512, 512, 512, 512, 512, 512, 512, 512, 512, 512, 512, 512, 512, 512, 512, 512, 512, 512, 512, 512, 512, 512, 512, 512, 512, 512, 512, 512, 512, 512, 512, 512, 512, 512, 512, 512]\n",
      "Cumple los tres postulados.\n"
     ]
    },
    {
     "data": {
      "text/plain": [
       "True"
      ]
     },
     "execution_count": 26,
     "metadata": {},
     "output_type": "execute_result"
    }
   ],
   "source": [
    "# x^10 + x^3 + 1\n",
    "\n",
    "# El polinomio de conexión es primitivo y tiene periodo maximo 2^(10)-1 = 2^(10)-1 = 1023\n",
    "g = LFSR([1,0,0,0,0,0,0,1,0,0], [1,1,1,0,0,1,0,0,1,0], 1200) \n",
    "\n",
    "# El periodo es 2^(L)-1 = 2^(10)-1 = 1023 (L=10)\n",
    "alg_golomb(g[0:(2**10)-1]) "
   ]
  },
  {
   "cell_type": "markdown",
   "metadata": {},
   "source": [
    "---"
   ]
  },
  {
   "cell_type": "markdown",
   "metadata": {
    "collapsed": true
   },
   "source": [
    "## Ejercicio 3\n",
    "\n",
    "Un polinomio en varias variables con coeficientes en $\\mathbb{Z}_2$ se puede expresar como suma de monomios, simplemente usando la propiedad distributiva. Cualquier monomio $x_1^{e1} · · · x_n^{en}, e_i \\in \\mathbf{N}$, es,\n",
    "como función, equivalente a un monomio de la forma $x_{i_1} · · · x_{i_r}$ ($x^2 = x$ para todo $x \\in \\mathbb{Z}_2$ , los $i_j$ son precisamente los índices tales que $e_{i_j} \\ne 0$). Por ejemplo, $1 + x_2 (y + x) = 1 + x^3 + x^2 y$, es esta expresión es equivalente a $1 + x + x y$, por lo que la representamos mediante $[[0, 0], [1, 0], [1, 1]]$, que se corresponde con la lista de exponentes en las dos variables: $x^0 y^0 + x^1 y^0 + x^1 y^1$. Así un polinomio en $\\mathbb{Z}_2$ se puede representar por una lista monomios. Y cada monomio como una lista de $0$ y $1$, que corresponden con los exponentes de cada una de las variables que intervienen en el polinomio.\n",
    "\n",
    "Escribe una función que toma como argumentos una función polinómica $f$, una semilla $s$ y un entero positivo $k$, y devuelve una secuencia de longitud $k$ generada al aplicar a $s$ el registro no lineal de desplazamiento con retroalimentación asociado a $f$.\n",
    "\n",
    "Encuentra el periodo de la NLFSR $((x ∧ y) ∨ ¬z) ⊕ t$ con semilla $1011$."
   ]
  },
  {
   "cell_type": "markdown",
   "metadata": {},
   "source": [
    "Antes de implementar el **NLFSR**, hace falta que implementemos una función de exponenciación modular. Para ello hago uso de la implementada en la práctica 1, basándonos en el [Algoritmo 2.143](http://cacr.uwaterloo.ca/hac/about/chap2.pdf)\n",
    "\n",
    "**ENTRADA**: $a\\in \\mathbb{Z}_n$, y dos enteros $0 <= k < n$  \n",
    "**SALIDA**: $a^k \\pmod n$  \n",
    "\n",
    "1. Inicializar $b = 1$  \n",
    "**{$k = {k}_0 · {k}_1 · .... · {k}_r$}**\n",
    "2. Mientras $k > 0$  \n",
    "    2.1\\. ${k}_0 = k \\pmod 2$  \n",
    "    2.2\\. Si ${k}_0 = 0$ entonces $b = a·b \\pmod n$  \n",
    "    2.3\\. $k = (k - {k}_0) \\div 2$  \n",
    "    2.4\\. $a = a^2 \\pmod n$\n",
    "3. Devolvemos $b$"
   ]
  },
  {
   "cell_type": "code",
   "execution_count": 28,
   "metadata": {
    "collapsed": true
   },
   "outputs": [],
   "source": [
    "# Función que cálcula a^k mod n (Versión 2)\n",
    "# --------------------------------------------------------------------------------------\n",
    "def alg_potencia(a, k, n):\n",
    "    if k == 0:\n",
    "        return 1\n",
    "    return a"
   ]
  },
  {
   "cell_type": "markdown",
   "metadata": {},
   "source": [
    "A continuación, vamos a implementar los **Registros de Desplazamiento Retroalimentados No Lineales**, para ello partimos de la idea de los _registros de desplazamiento retroalimentados lineales_ y del _enunciado del ejercicio_.\n",
    "\n",
    "#### Implementación de un Registro No Lineal de Desplazamiento con Retroalimentación NLFSR \n",
    "\n",
    "**Entrada**: función polinómica ($f$), semilla ($s$) y un entero positivo ($k$)\n",
    "\n",
    " - _f_: función polinómica como lista de exponentes de monomios $[[],[],[]]$  \n",
    " - _s_: semilla en forma de lista $[1,1,1...]$ de la misma longitud que $f$  \n",
    " - _k_: longitud del registro generado\n",
    "        \n",
    "**Salida**:\n",
    "\n",
    " -  _result_: secuencia de longitud $k$ obtenida al aplicar a $s$ el registro no lineal de desplazamiento con\n",
    " retroalimentación asociado a $f$"
   ]
  },
  {
   "cell_type": "code",
   "execution_count": 29,
   "metadata": {
    "collapsed": true
   },
   "outputs": [],
   "source": [
    "# Función que aplica el registro no lineal de desplazamiento asociado a f\n",
    "# --------------------------------------------------------------------------------------\n",
    "def NLFSR(f, s, k):\n",
    "\n",
    "    # La longitud de la función y de la semilla deben ser iguales\n",
    "    if (len(s) != len(f)):\n",
    "        print(\"Error: la longitud de la función y de la semilla son distintos.\")\n",
    "        return False\n",
    "    \n",
    "    # Si la longitud de salida es menor o igual que el tamaño de la semilla\n",
    "    if(k <= len(s)):\n",
    "        return s[:k]\n",
    "    \n",
    "    result = []\n",
    "    \n",
    "    # Generamos k veces, para tener una secuencia de tamaño k\n",
    "    for i in range(k-len(s)+1): \n",
    "        suma = 0\n",
    "        prod = 1\n",
    "        # Repetimos tantas veces como listas haya en f\n",
    "        for l in range(len(f)):\n",
    "            \n",
    "            # Calculamos la potencia en cada indice de s y f\n",
    "            for j in range(len(f[0])):\n",
    "                prod = prod * alg_potencia(s[j], f[l][j], 2)\n",
    "            \n",
    "            # Hacemos la suma para todas las lista dada una semilla\n",
    "            suma = (suma + prod) % 2\n",
    "            \n",
    "            prod = 1  \n",
    "        \n",
    "        # Cambiamos semilla y repetimos\n",
    "        result.append(s.pop(0))\n",
    "        s.append(suma)\n",
    "        \n",
    "        total = 0\n",
    "    \n",
    "    return result"
   ]
  },
  {
   "cell_type": "markdown",
   "metadata": {},
   "source": [
    "Vamos a aplicar el **NLFSR** para una función $f = ((x∧y)∨¬z)⊕t$ \n",
    "\n",
    "El polinomio resultante en forma de lista es $[[0,0,0,0], [0,0,0,1], [0,0,1,0], [1,1,1,0]]$ y se obtiene porque $f = 2xy + xyz + 1 + z + t = 1 + t + z + xyz = x^0y^0z^0t^0 + x^0y^0z^0t^1 + x^0y^0z^1t^0 +  x^1y^1z^1t^0 $ ya que las operaciones son en módulo $2$. \n",
    "\n",
    "O también podemos llegar a a la función de otra manera: $f(x,y,z,t) = ((x*y) + !z) + t = ((!(xy) * z) + 1) + t = ((x*y + 1) * z) + 1 + t = (x*y*z + z) + 1 + t = x*y*z + z + t + 1$"
   ]
  },
  {
   "cell_type": "code",
   "execution_count": 30,
   "metadata": {},
   "outputs": [
    {
     "name": "stdout",
     "output_type": "stream",
     "text": [
      "[1, 0, 1, 1, 1, 1, 0, 1, 0, 0, 1, 0, 0, 1, 0, 0, 1]\n"
     ]
    }
   ],
   "source": [
    "# Función Polinómica\n",
    "f = [[0,0,0,0], [0,0,0,1], [0,0,1,0], [1,1,1,0]]\n",
    "\n",
    "# Semilla\n",
    "s = [1,0,1,1] \n",
    "\n",
    "# Obtenemos el NLFSR\n",
    "print (NLFSR(f, s, 20))"
   ]
  },
  {
   "cell_type": "markdown",
   "metadata": {},
   "source": [
    "---"
   ]
  },
  {
   "cell_type": "markdown",
   "metadata": {},
   "source": [
    "## Ejercicio 4\n",
    "\n",
    "Implementa el generador de Geffe ([1, 6.50]). \n",
    "\n",
    "Encuentra ejemplos donde el periodo de la salida es $p_1 p_2 p_3$ , con $p_1$, $p_2$ y $p_3$ los periodos de los tres LFSRs usados en el generador de Geffe. \n",
    "\n",
    "Usa este ejercicio para construir un cifrado en flujo. Con entrada un mensaje $m$, construye una llave $k$ con la misma longitud que $m$, y devuelve $m ⊕ k$ (donde $⊕$ significa suma componente a componente en $\\mathbb{Z}_2$). \n",
    "\n",
    "El descifrado se hace de la misma forma: $c ⊕ k$ (nótese que $c ⊕ k = (m ⊕ k) ⊕ k = m ⊕ (k ⊕ k) = m,$ ya que $x ⊕ x = 0$ en $\\mathbb{Z}_2$)."
   ]
  },
  {
   "cell_type": "markdown",
   "metadata": {},
   "source": [
    "Para realizar el **Generador de Geffe**, partimos de los **apuntes de Miranda de Criptografía**, en concreto, en la _página 74_ o en la _página 80_ si es abierto desde un visualizador de pdf's.\n",
    "\n",
    "El generador de Geffe toma como entrada tres LFSR, de longitudes $L_1$, $L_2$ y $L_3$ y periodo $2^{L_1} - 1$, $2^{L_2} - 1$ y $2^{L_3} - 1$. La función de mezcla de los tres LFSR es $F(x_1, x_2, x_3) = x_1x_2 + (1 + x_2 x_3 = x_1x_2 + x_2x_3 + x_3$, y por tanto, su complejidad lineal es $L_1 L_2 + L_2 L_3 + L_3$, y su periodo $mcm(2^{L_1} - 1, 2^{L_2} - 1, 2^{L_3} - 1)$. Aunque, si $L_1$, $L_2$ y $L_3$ son primos entre si, el periodo es $p_1·p_2·p_3$\n",
    "\n",
    "#### Implementación del Generador de Geffe \n",
    "\n",
    "**Entrada**: 3 LFSR\n",
    "\n",
    " - (lfsr_1, lfsr_2, lfsr_3)\n",
    "        \n",
    "**Salida**:\n",
    "\n",
    " - _f_: será el resultado de hacer [ (lfsr_1*lfsr_2) + (lfsr_2*lfsr_3) + (lfsr_3) ]"
   ]
  },
  {
   "cell_type": "code",
   "execution_count": 34,
   "metadata": {
    "collapsed": true
   },
   "outputs": [],
   "source": [
    "# Función que implementa el Generador de Geffe\n",
    "# --------------------------------------------------------------------------------------\n",
    "def generador_geffe(coef1, seed1, coef2, seed2, coef3, seed3, longitud):\n",
    "   \n",
    "    result = []  \n",
    "    \n",
    "    x1 = LFSR(coef1, seed1, longitud)\n",
    "    x2 = LFSR(coef2, seed2, longitud)\n",
    "    x3 = LFSR(coef3, seed3, longitud) \n",
    "\n",
    "    for i in range(longitud):\n",
    "        f = (x1[i]*x2[i]) ^(x2[i]*x3[i]) ^ x3[i]\n",
    "        result.append(f)\n",
    "    \n",
    "    return result"
   ]
  },
  {
   "cell_type": "markdown",
   "metadata": {},
   "source": [
    "Si los periodos de $lfsr\\_1$, $lfsr\\_2$ y $lfsr\\_3$ son primos entre sí, o lo que es lo mismo, si sus complejidades lineales $L_1$, $L_2$ y $L_3$ son primos entre sí, el periodo de la secuencia obtenida con Geffe es $p_1·p_2·p_3$. Si no lo fueran, el periodo sería el mínimo común múltiplo de los tres periodos."
   ]
  },
  {
   "cell_type": "code",
   "execution_count": 101,
   "metadata": {},
   "outputs": [
    {
     "name": "stdout",
     "output_type": "stream",
     "text": [
      "LFSR1: [1, 1, 0, 1, 1, 0, 1, 1, 0, 1, 1, 0, 1, 1, 0, 1, 1, 0, 1, 1, 0, 1, 1, 0, 1, 1, 0, 1, 1, 0, 1]\n",
      "([1, 1, 1], 2)\n",
      "LFSR2: [1, 1, 1, 0, 1, 0, 0, 1, 1, 1, 0, 1, 0, 0, 1, 1, 1, 0, 1, 0, 0, 1, 1, 1, 0, 1, 0, 0, 1, 1, 1]\n",
      "([1, 1, 0, 1], 3)\n",
      "LFSR3: [1, 0, 1, 0, 0, 1, 0, 0, 0, 0, 1, 0, 1, 0, 1, 1, 1, 0, 1, 1, 0, 0, 0, 1, 1, 1, 1, 1, 0, 0, 1]\n",
      "([1, 0, 1, 0, 0, 1], 5)\n",
      "([1, 1, 1, 0, 0, 0, 0, 0, 1, 1, 1, 0, 1, 1, 0, 1, 1, 1, 0, 0, 0, 1, 1, 0, 1, 0, 1], 26)\n",
      "[1, 1, 0, 0, 1, 1, 0, 1, 0, 1, 1, 0, 1, 0, 0, 1, 1, 0, 1, 1, 0, 1, 1, 0, 1, 1, 1, 1, 1, 0, 1, 1, 0, 1, 0, 0, 1, 1, 0, 1, 0, 1, 1, 1, 0, 1, 1, 1, 0, 1, 0, 1, 0, 0, 1, 1, 0, 1, 1, 0, 1, 1, 1, 1, 1, 0, 0, 1, 0, 0, 1, 0, 1, 0, 0, 0, 1, 0, 1, 1, 1, 1, 0, 0, 1, 1, 0, 1, 1, 1, 0, 1, 0, 1, 0, 0, 0, 0, 0, 1, 1, 0, 1, 1, 0, 1, 1, 0, 1, 1, 0, 1, 1, 0, 1, 0, 0, 1, 1, 0, 1, 1, 0, 1, 1, 0, 1, 1, 0, 1, 1, 0, 0, 1, 0, 1, 1, 0, 1, 1, 0, 1, 1, 1, 1, 0, 0, 1, 1, 0, 1, 1, 0, 0, 1, 0, 1, 1, 0, 0, 1, 0, 1, 1, 0, 1, 0, 1, 1, 1, 0, 1, 1, 1, 1, 1, 0, 1, 1, 0, 1, 1, 0, 1, 1, 1, 1, 0, 1, 1, 1, 0, 0, 1, 0, 0, 1, 0, 1, 0, 0, 1, 1, 0, 1, 1, 0, 1, 0, 1, 1, 1, 0, 1, 1, 0, 1, 1, 0, 1, 0, 0, 1, 0, 0, 1, 1, 1, 1, 1, 0, 1, 1, 0, 0, 1, 1, 0, 1, 0, 1, 1, 0, 1, 1, 0, 1, 1, 1, 1, 1, 0, 1, 1, 0, 0, 1, 0, 1, 1, 0, 1, 1, 0, 1, 0, 0, 1, 1, 0, 1, 1, 1, 1, 1, 0, 0, 1, 1, 1, 1, 0, 1, 0, 0, 0, 0, 0, 1, 1, 0, 1, 0, 1, 1, 1, 0, 1, 1, 0, 0, 1, 0, 1, 1, 0, 1, 0, 0, 1, 1, 0, 1, 0, 0, 1, 1, 0, 0, 1, 1, 0, 1, 0, 1, 1, 0, 0, 1, 0, 1, 1, 0, 1, 1, 1, 1, 1, 0, 0, 1, 1, 0, 1, 0, 1, 1, 0, 0, 0, 0, 1, 1, 1, 1, 1, 1, 1, 1, 0, 1, 1, 0, 0, 1, 0, 1, 1, 0, 0, 0, 0, 1, 1, 1, 1, 0, 1, 1, 1, 0, 0, 1, 0, 1, 1, 0, 1, 1, 0, 1, 1, 0, 1, 1, 1, 1, 1, 1, 1, 1, 0, 1, 1, 0, 1, 1, 0, 1, 0, 0, 0, 0, 0, 1, 1, 0, 1, 1, 1, 1, 1, 0, 0, 1, 0, 1, 1, 0, 1, 1, 0, 0, 1, 0, 1, 1, 0, 1, 1, 0, 1, 1, 0, 1, 1, 1, 0, 1, 0, 1, 0, 0, 1, 0, 0, 1, 1, 1, 1, 1, 1, 1, 1, 0, 1, 1, 1, 0, 1, 0, 1, 0, 0, 0, 1, 0, 1, 1, 1, 1, 1, 0, 1, 1, 0, 0, 1, 1, 1, 1, 0, 1, 0, 0, 1, 1, 0, 1, 1, 0, 1, 0, 0, 1, 1, 0, 0, 1, 0, 1, 1, 0, 1, 1, 0, 0, 0, 0, 1, 1, 1, 1, 1, 0, 1, 1, 0, 0, 1, 0, 0, 1, 0, 1, 0, 0, 1, 0, 0, 1, 1, 1, 1, 0, 1, 1, 1, 0, 0, 1, 1, 1, 1, 0, 1, 0, 0, 1, 0, 0, 1, 1, 1, 1, 0, 0, 1, 1, 0, 1, 1, 1, 1, 1, 0, 1, 1, 0, 0, 0, 0, 1, 1, 1, 1, 0, 0, 1, 1, 0, 1, 1, 0, 1, 1, 0, 1, 0, 0, 0, 1, 0, 1, 1, 1, 1, 1, 1, 1, 1, 0, 1, 1, 1, 1, 1, 0, 1, 1, 0, 0, 1, 0, 1, 1, 0, 1, 0, 0, 1, 1, 0, 0, 1, 1, 1, 1, 0, 1, 0, 0, 0, 1, 0, 1, 1, 1, 1, 0, 1, 1, 1, 0, 0, 1, 1, 0, 1, 0, 1, 1, 0, 1, 0, 0, 1, 1, 0, 1, 1, 0, 1, 1, 0, 1, 1, 1, 1, 1, 0, 1, 1, 0, 1, 0, 0, 1, 1, 0, 1, 0, 1, 1, 1, 0, 1, 1, 1, 0, 1, 0, 1, 0, 0, 1, 1, 0, 1, 1, 0, 1, 1, 1, 1, 1, 0, 0, 1, 0, 0, 1, 0, 1, 0, 0, 0, 1, 0, 1, 1, 1, 1, 0, 0, 1, 1, 0, 1, 1, 1, 0, 1, 0, 1, 0, 0, 0, 0, 0, 1, 1, 0, 1, 1, 0, 1, 1, 0, 1, 1, 0, 1, 1, 0, 1, 0, 0, 1, 1, 0, 1, 1, 0, 1, 1, 0, 1, 1, 0, 1, 1, 0, 0, 1, 0, 1, 1, 0, 1, 1, 0, 1, 1, 1, 1, 0, 0, 1, 1, 0, 1, 1, 0, 0, 1, 0, 1, 1, 0, 0, 1, 0, 1, 1, 0, 1, 0, 1, 1, 1, 0, 1, 1, 1, 1, 1, 0, 1, 1, 0, 1, 1, 0, 1, 1, 1, 1, 0, 1, 1, 1, 0, 0, 1, 0, 0, 1, 0, 1, 0, 0, 1, 1, 0, 1, 1, 0, 1, 0, 1, 1, 1, 0, 1, 1, 0, 1, 1, 0, 1, 0, 0, 1, 0, 0, 1, 1, 1, 1, 1, 0, 1, 1, 0, 0, 1, 1, 0, 1, 0, 1, 1, 0, 1, 1, 0, 1, 1, 1, 1, 1, 0, 1, 1, 0, 0, 1, 0, 1, 1, 0, 1, 1, 0, 1, 0, 0, 1, 1, 0, 1, 1, 1, 1, 1, 0, 0, 1, 1, 1, 1, 0, 1, 0, 0, 0, 0, 0, 1, 1, 0, 1, 0, 1, 1, 1, 0, 1, 1, 0, 0, 1, 0, 1, 1, 0, 1, 0, 0, 1, 1, 0, 1, 0, 0, 1, 1, 0, 0, 1, 1, 0, 1, 0, 1, 1, 0, 0, 1, 0, 1, 1, 0, 1, 1, 1, 1, 1, 0, 0, 1, 1, 0, 1, 0, 1, 1, 0, 0]\n"
     ]
    },
    {
     "data": {
      "text/plain": [
       "[0, 651]"
      ]
     },
     "execution_count": 101,
     "metadata": {},
     "output_type": "execute_result"
    }
   ],
   "source": [
    "# Ejemplo donde el periodo de salida sea p1*p2*p3\n",
    "# Cogemos 3 LFSR que sean primos entre sí -> L1=2, L2=3, L3=5\n",
    "\n",
    "longitud = 31\n",
    "\n",
    "# Tiene periodo 3\n",
    "print(\"LFSR1:\", LFSR([1,1], [1,1], longitud)) \n",
    "print(Berlekamp_Massey(LFSR([1,1], [1,1], longitud))) \n",
    "\n",
    "# Tiene periodo 7\n",
    "print(\"LFSR2:\", LFSR([1,0,1], [1,1,1], 31)) \n",
    "print(Berlekamp_Massey(LFSR([1,0,1], [1,1,1], longitud)))\n",
    "\n",
    "# Tiene periodo 31\n",
    "print(\"LFSR3:\", LFSR([1,0,0,1,0], [1,0,1,0,0], 31)) \n",
    "print(Berlekamp_Massey(LFSR([1,0,0,1,0], [1,0,1,0,0], longitud)))\n",
    "\n",
    "# generador_geffe(coef1, seed1, coef2, seed2, coef3, seed3, longitud)\n",
    "s = generador_geffe([1,1], [1,1], [1,0,1], [1,1,1], [1,0,0,1,0], [1,0,1,0,0], 1000)\n",
    "\n",
    "# Tiene que tener periodo 3*7*31 = 651\n",
    "print(Berlekamp_Massey(s)) # Berlekamp_Massey no tiene porque darte el periodo\n",
    "print(s)\n",
    "\n",
    "# Para calcular el periodo\n",
    "# ------------------------------------------------------------------------------\n",
    "seed = s[:26]\n",
    "[i for i in range(1000) if s[i:i+26]==seed]"
   ]
  },
  {
   "cell_type": "markdown",
   "metadata": {},
   "source": [
    "Hemos escogido tres LFSR, donde:\n",
    " \n",
    " - $LFSR_1$ tiene periodo $3$\n",
    " - $LFSR_2$ tiene periodo $7$\n",
    " - $LFSR_3$ tiene periodo $31$\n",
    " \n",
    "Por tanto, al usar el _generador de Geffer_, como $L_1$, $L_2$ y $L_3$ son primos entre si, el periodo es $p_1·p_2·p_3$, que es lo mismo que $3·7·31 = 651$."
   ]
  },
  {
   "cell_type": "markdown",
   "metadata": {},
   "source": [
    "Ahora vamos a construir un cifrado en flujo usando Geffe para obtener una clave $k$. Hay que tener en cuenta que debemos usar la misma llave, para cifrar y para encriptar."
   ]
  },
  {
   "cell_type": "markdown",
   "metadata": {},
   "source": [
    "Primero, vamos a **implementar un cifrado de flujo**:\n",
    "\n",
    "**Entrada**:\n",
    " - _m_: mensaje a cifrar\n",
    "    \n",
    "**Salida**:\n",
    " - $m ⊕ k$ (donde $⊕$ significa suma componente a componente en $\\mathbb{Z}_2$)"
   ]
  },
  {
   "cell_type": "code",
   "execution_count": 35,
   "metadata": {
    "collapsed": true
   },
   "outputs": [],
   "source": [
    "# Función que implementa un cifrado en flujo\n",
    "# --------------------------------------------------------------------------------------\n",
    "def cifrado(m):\n",
    "\n",
    "    # Longitud del mensaje a cifrar\n",
    "    longitud = len(m)\n",
    "    \n",
    "    # Generamos la llave con Geffe\n",
    "    k = generador_geffe([1,1,0,1], [1,1,0,1], [1,1,1,1], [1,1,1,0], [0,1,1,1], [1,0,1,0], longitud)\n",
    "    \n",
    "    resul = []\n",
    "    \n",
    "    for i in range(longitud):\n",
    "        e = (m[i]+k[i]) %2\n",
    "        resul.append(e)\n",
    "        \n",
    "    return resul"
   ]
  },
  {
   "cell_type": "markdown",
   "metadata": {},
   "source": [
    "Segundo, vamos a **implementar el descifrado de flujo**:\n",
    "\n",
    " - **Entrada**:\n",
    " \n",
    "     - _c_: mensaje cifrado  \n",
    "     \n",
    " - **Salida**:\n",
    " \n",
    "     - c ⊕ k (donde ⊕ significa suma componente a componente en $\\mathbb{Z}_2$)"
   ]
  },
  {
   "cell_type": "code",
   "execution_count": 36,
   "metadata": {
    "collapsed": true
   },
   "outputs": [],
   "source": [
    "# Función que implementa un descifrado en flujo\n",
    "# --------------------------------------------------------------------------------------\n",
    "def descifrado(c):\n",
    "    \n",
    "    # Longitud del mensaje cifrado\n",
    "    longitud = len(c)\n",
    "    \n",
    "    # Generamos la llave con Geffe\n",
    "    k = generador_geffe([1,1,0,1], [1,1,0,1], [1,1,1,1], [1,1,1,0], [0,1,1,1], [1,0,1,0], longitud)\n",
    "    \n",
    "    resul = []\n",
    "    \n",
    "    for i in range(longitud):\n",
    "        e = (c[i]+k[i]) % 2\n",
    "        resul.append(e)\n",
    "        \n",
    "    return resul"
   ]
  },
  {
   "cell_type": "code",
   "execution_count": 37,
   "metadata": {},
   "outputs": [
    {
     "name": "stdout",
     "output_type": "stream",
     "text": [
      "mensaje: \t [1, 0, 1, 1, 0, 1, 1, 0, 1, 0, 0, 1, 0, 0, 1, 1, 0, 1, 0, 1]\n",
      "cifrado: \t [0, 1, 1, 1, 1, 1, 0, 1, 0, 1, 1, 1, 1, 0, 1, 0, 1, 1, 1, 0]\n",
      "descifrado:\t [1, 0, 1, 1, 0, 1, 1, 0, 1, 0, 0, 1, 0, 0, 1, 1, 0, 1, 0, 1]\n"
     ]
    }
   ],
   "source": [
    "# Nuestro mensaje\n",
    "m = [1,0,1,1,0,1,1,0,1,0,0,1,0,0,1,1,0,1,0,1]\n",
    "print (\"mensaje: \\t\", m)\n",
    "\n",
    "# Lo ciframos\n",
    "c = cifrado(m)\n",
    "print (\"cifrado: \\t\", c)\n",
    "\n",
    "# Lo desciframos\n",
    "d = descifrado(c)\n",
    "print (\"descifrado:\\t\", d)"
   ]
  },
  {
   "cell_type": "markdown",
   "metadata": {},
   "source": [
    "Vamos a realizar otro ejemplo, introduciendo como entrada un mensaje (string), que sera convertido a bits. Por lo que nuestro objetivo será encontrar ese mensaje cifrado."
   ]
  },
  {
   "cell_type": "code",
   "execution_count": 38,
   "metadata": {
    "collapsed": true
   },
   "outputs": [],
   "source": [
    "# Funcion que convierte un string a bits \n",
    "# --------------------------------------------------------------------------------------\n",
    "def str_to_binlist(message):\n",
    "    \n",
    "    # get a binary list\n",
    "    binary = list(bin(int.from_bytes(message.encode('utf-8'), byteorder='big')))\n",
    "    \n",
    "    # return the stream of 0s and 1s\n",
    "    binary.remove('b')\n",
    "    \n",
    "    return list(map(lambda x: int(x), binary))\n",
    "\n",
    "\n",
    "# Funcion que convierte de bits a string\n",
    "# --------------------------------------------------------------------------------------\n",
    "def bin_to_str(bin_message):\n",
    "    \n",
    "    # pass elements from int to str\n",
    "    message = list(map(lambda x: str(x), bin_message))\n",
    "    \n",
    "    # create a full str\n",
    "    complete_msg = ''.join(message)\n",
    "    \n",
    "    # convert to str using a integer in Z_2\n",
    "    int_msg = int(complete_msg,2)\n",
    "    \n",
    "    return int_msg.to_bytes((int_msg.bit_length() + 7) // 8, byteorder='big').decode('utf-8', 'ignore')"
   ]
  },
  {
   "cell_type": "code",
   "execution_count": 115,
   "metadata": {},
   "outputs": [
    {
     "name": "stdout",
     "output_type": "stream",
     "text": [
      "Mensaje (string): hola y adios \n",
      "\n",
      "mensaje (bits): [0, 1, 1, 0, 1, 0, 0, 0, 0, 1, 1, 0, 1, 1, 1, 1, 0, 1, 1, 0, 1, 1, 0, 0, 0, 1, 1, 0, 0, 0, 0, 1, 0, 0, 1, 0, 0, 0, 0, 0, 0, 1, 1, 1, 1, 0, 0, 1, 0, 0, 1, 0, 0, 0, 0, 0, 0, 1, 1, 0, 0, 0, 0, 1, 0, 1, 1, 0, 0, 1, 0, 0, 0, 1, 1, 0, 1, 0, 0, 1, 0, 1, 1, 0, 1, 1, 1, 1, 0, 1, 1, 1, 0, 0, 1, 1]\n",
      "cifrado: [1, 0, 1, 0, 0, 0, 1, 1, 1, 0, 0, 0, 0, 1, 1, 0, 1, 1, 0, 1, 1, 0, 1, 0, 1, 0, 1, 1, 1, 0, 1, 0, 0, 0, 0, 0, 1, 1, 1, 1, 1, 1, 0, 1, 1, 1, 1, 1, 1, 1, 1, 1, 1, 0, 1, 1, 0, 0, 0, 0, 1, 1, 0, 1, 1, 1, 0, 1, 1, 0, 1, 0, 1, 1, 1, 1, 0, 0, 1, 0, 0, 0, 0, 0, 0, 0, 1, 0, 1, 1, 0, 0, 0, 0, 0, 1]\n",
      "descifrado: [0, 1, 1, 0, 1, 0, 0, 0, 0, 1, 1, 0, 1, 1, 1, 1, 0, 1, 1, 0, 1, 1, 0, 0, 0, 1, 1, 0, 0, 0, 0, 1, 0, 0, 1, 0, 0, 0, 0, 0, 0, 1, 1, 1, 1, 0, 0, 1, 0, 0, 1, 0, 0, 0, 0, 0, 0, 1, 1, 0, 0, 0, 0, 1, 0, 1, 1, 0, 0, 1, 0, 0, 0, 1, 1, 0, 1, 0, 0, 1, 0, 1, 1, 0, 1, 1, 1, 1, 0, 1, 1, 1, 0, 0, 1, 1]\n",
      "hola y adios\n"
     ]
    }
   ],
   "source": [
    "# Nuestro mensaje\n",
    "m_s = \"hola y adios\"\n",
    "print (\"Mensaje (string):\", m_s, \"\\n\")\n",
    "\n",
    "# Convertimos el mensaje en bits\n",
    "m_b = str_to_binlist(m_s)\n",
    "print (\"Mensaje (bits):\", m_b, \"\\n\")\n",
    "\n",
    "# Lo ciframos\n",
    "c = cifrado(m_b)\n",
    "print (\"Mensaje Cifrado:\", c, \"\\n\")\n",
    "\n",
    "# Lo desciframos\n",
    "d = descifrado(c)\n",
    "print (\"Mensaje descifrado (bits):\", d, \"\\n\")\n",
    "\n",
    "# Convertimos el mensaje en string (obteniendo el mensaje original)\n",
    "print (bin_to_str(d))"
   ]
  },
  {
   "cell_type": "markdown",
   "metadata": {},
   "source": [
    "---"
   ]
  },
  {
   "cell_type": "markdown",
   "metadata": {},
   "source": [
    "## Ejercicio 5 \n",
    "\n",
    "Dada una sucesión de bits periódica, determina la complejidad lineal de dicha sucesión, y el polinomio de conexión que la genera. Para esto, usa el algoritmo de Berlekamp-Massey ([1, Algorithm 6.30]).\n",
    "\n",
    "Haz ejemplos con sumas y productos de secuencias para ver qué ocurre con la complejidad lineal."
   ]
  },
  {
   "cell_type": "markdown",
   "metadata": {},
   "source": [
    "Para realizar el segundo algoritmo nos basamos en el aportado por el ejercicio [Algoritmo 6.30](http://cacr.uwaterloo.ca/hac/about/chap6.pdf)\n",
    "\n",
    "#### Pseudocódigo de Algoritmo Berlekamp-Massey\n",
    "\n",
    "**Entrada**: Una secuencia binaria $s^n = s_0, s_1, s_2, ... , s_{n-1}$ de longitud $n$  \n",
    "**Salida**: La complejidad lineal $L(s^n)$ de $s^n$, $0 ≤ L(s^n) ≤ n$  \n",
    "\n",
    "1. Inicializar $C(D) = 1$, $L = 0$, $m = −1$, $B(D) = 1$, $N = 0$  \n",
    "2. **Mientras** $(N < n)$, hacer:  \n",
    "    2.1\\. Calcular la siguiente discrepancia $d$ donde $d = s_N + \\displaystyle\\sum_{i=1}^L c_i · s_{N−i} \\pmod{2}$  \n",
    "    2.2\\. **Si** $d = 1$, hacer: $T(D) = C(D)$, $C(D) = C(D) + B(D) · D^{N−m}$, **Si** $L ≤ N/2$ hacer $L = N+1−L$, $m=N$, $B(D) = T(D)$  \n",
    "    2.3\\. $N = N +1 $\n",
    "3. **Devolver** $L$ Return(L)."
   ]
  },
  {
   "cell_type": "code",
   "execution_count": 39,
   "metadata": {
    "collapsed": true
   },
   "outputs": [],
   "source": [
    "# Algoritmo de Berlekamp-Massey (versión 2)\n",
    "# --------------------------------------------------------------------------------------\n",
    "def Berlekamp_Massey(secuencia):\n",
    "    \n",
    "    # Obtenemos el tamaño de la secuencia\n",
    "    n = len(secuencia)\n",
    "    \n",
    "    # Inicialiazmos\n",
    "    C = [0 for i in range(n)]\n",
    "    B = C[:]\n",
    "    \n",
    "    # Inicializamos el primer elemento \n",
    "    C[0] = 1\n",
    "    B[0] = 1\n",
    "    L = 0\n",
    "    N = 0\n",
    "    m = -1\n",
    "    \n",
    "    # Mientras N < n\n",
    "    while N < n:\n",
    "        \n",
    "        # Calculamos la discrepancia\n",
    "        d = secuencia[N] # Sn\n",
    "\n",
    "        for i in range (1, L+1):\n",
    "            d += C[i] *secuencia[N-i]\n",
    "            \n",
    "        d = d % 2 # Hacemos el modulo 2\n",
    "        \n",
    "        # Si d==1\n",
    "        if d==1:\n",
    "            t = C[:]\n",
    "        \n",
    "            # C(D) = C(D) + B(D) · D^(N−m)\n",
    "            j = 0\n",
    "            while(j + N-m) < n:\n",
    "                C[(j+N-m)] ^= B[j]\n",
    "                j += 1\n",
    "                \n",
    "            # Otra forma\n",
    "            # BB = [0]*(N*m)+B\n",
    "            # C = [(C[i]+BB[i])%2 for i in rangen (n)]\n",
    "\n",
    "            if L <= N/2:\n",
    "                L = N+1-L\n",
    "                m = N\n",
    "                B = t[:]\n",
    "                \n",
    "        N = N + 1\n",
    "        \n",
    "    return C[:L+1], L"
   ]
  },
  {
   "cell_type": "code",
   "execution_count": 40,
   "metadata": {},
   "outputs": [
    {
     "name": "stdout",
     "output_type": "stream",
     "text": [
      "La secuencia es  (1, 0, 1, 1, 1, 1, 0, 0, 0, 1, 0, 0, 1, 1)\n",
      "El polinomio es: [1, 0, 0, 1, 1]\n",
      "y la complejidad:  4\n"
     ]
    }
   ],
   "source": [
    "secuencia = (1,0,1,1,1,1,0,0,0,1,0,0,1,1)\n",
    "polinomio, complejidad = Berlekamp_Massey(secuencia) \n",
    "\n",
    "print (\"La secuencia es \", secuencia)\n",
    "print (\"El polinomio es:\",  polinomio)\n",
    "print ('y la complejidad: ',  complejidad)"
   ]
  },
  {
   "cell_type": "code",
   "execution_count": 42,
   "metadata": {},
   "outputs": [
    {
     "name": "stdout",
     "output_type": "stream",
     "text": [
      "(4, [1, 0, 0, 1, 1])\n"
     ]
    }
   ],
   "source": [
    "def Berlekamp_Massey_v2(secuencia):\n",
    "    \n",
    "    b=[0]*len(secuencia)\n",
    "    c=[0]*len(secuencia)\n",
    "    \n",
    "    b[0]=1\n",
    "    c[0]=1\n",
    "    \n",
    "    L=0\n",
    "    m=-1\n",
    "    N=0\n",
    "    \n",
    "    while(N < len(secuencia)):\n",
    "        d = secuencia[N]\n",
    "        \n",
    "        for i in range(1, L+1):\n",
    "            d = d + c[i]*secuencia[N-i]         \n",
    "        \n",
    "        d = d%2 \n",
    "\n",
    "        if(d==1):\n",
    "            t=c[:]\n",
    "            # i=0\n",
    "            \n",
    "            Bd=b[:]\n",
    "            for i in range(N-m):\n",
    "                Bd.insert(0,0)\n",
    "            \n",
    "            for i in range(len(secuencia)): \n",
    "                c[i]=(c[i]+Bd[i])%2\n",
    "            \n",
    "            if(L<=N/2):\n",
    "                \n",
    "                L=N+1-L\n",
    "                m=N\n",
    "                b=t[:]\n",
    "                \n",
    "        N=N+1\n",
    "        \n",
    "    return L, c[:L+1]\n",
    "\n",
    "# Ejemplo\n",
    "l = Berlekamp_Massey_v2([1,0,1,1,1,1,0,0,0,1,0,0,1,1])\n",
    "print(l)"
   ]
  },
  {
   "cell_type": "code",
   "execution_count": 44,
   "metadata": {},
   "outputs": [
    {
     "data": {
      "text/plain": [
       "[1, 0, 1, 1, 1, 1, 0, 0, 0, 1, 0, 0, 1, 1, 0, 1, 0, 1, 1, 1]"
      ]
     },
     "execution_count": 44,
     "metadata": {},
     "output_type": "execute_result"
    }
   ],
   "source": [
    "LFSR([1, 1, 0, 0], [1, 0, 1, 1], 20)"
   ]
  },
  {
   "cell_type": "code",
   "execution_count": 45,
   "metadata": {},
   "outputs": [
    {
     "name": "stdout",
     "output_type": "stream",
     "text": [
      "La secuencia es  (1, 0, 1, 1, 1, 1, 0, 1, 1, 0, 0, 1)\n",
      "El polinomio es: [1, 0, 1, 0, 0, 0, 1]\n",
      "y la complejidad:  6\n"
     ]
    }
   ],
   "source": [
    "secuencia = (1,0,1,1,1,1,0,1,1,0,0,1)\n",
    "polinomio, complejidad = Berlekamp_Massey(secuencia) \n",
    "\n",
    "print (\"La secuencia es \", secuencia)\n",
    "print (\"El polinomio es:\",  polinomio)\n",
    "print ('y la complejidad: ',  complejidad)"
   ]
  },
  {
   "cell_type": "code",
   "execution_count": 46,
   "metadata": {},
   "outputs": [
    {
     "data": {
      "text/plain": [
       "[1, 0, 1, 1, 1, 1, 0, 1, 1, 0, 0, 1, 0, 0, 1, 0, 1, 1, 1, 1]"
      ]
     },
     "execution_count": 46,
     "metadata": {},
     "output_type": "execute_result"
    }
   ],
   "source": [
    "LFSR([1, 0, 0, 0, 1, 0], [1, 0, 1, 1, 1, 1] ,20)"
   ]
  },
  {
   "cell_type": "markdown",
   "metadata": {},
   "source": [
    "**Nota: La función Berlekamp_Massey devuelve el polinomio ordenado de $c_0, ... ,c_N$, es decir, al revés de como se introduce en un LFSR.**"
   ]
  },
  {
   "cell_type": "markdown",
   "metadata": {},
   "source": [
    "Ahora, comprobamos que el **polinomio de conexión C** que devuelve genera la secuencia $s$ original al aplicarle un LFSR. Hay que tener en cuenta que la función _Berlekamp-Massey-v2_ devuelve $C$ ordenado de $c_0, ... ,c_N$, y la función _LFSR_, lo introducimos al revés, de $c_N$ hasta $c_1$, sin contar el término independiente $1$, que es $c_0$. Como semilla usamos la secuencia $s$ cortada a la longitud de $C$. Como semilla usamos la secuencia $s$ cortada a la longitud de $C$."
   ]
  },
  {
   "cell_type": "code",
   "execution_count": 48,
   "metadata": {},
   "outputs": [
    {
     "name": "stdout",
     "output_type": "stream",
     "text": [
      "[1, 0, 1, 1, 1, 1, 0, 0, 0, 1, 0, 0, 1, 1, 0, 1, 0, 1, 1, 1]\n",
      "[1, 0, 1, 1, 1, 1, 0, 0, 0, 1, 0, 0, 1, 1]\n"
     ]
    }
   ],
   "source": [
    "secuencia = [1,0,1,1,1,1,0,0,0,1,0,0,1,1]\n",
    "print (LFSR([1,1,0,0], [1,0,1,1], 20))\n",
    "print (secuencia)"
   ]
  },
  {
   "cell_type": "markdown",
   "metadata": {},
   "source": [
    "Ahora vamos hacer ejemplos con sumas y productos de secuencias para ver qué ocurre con la complejidad lineal."
   ]
  },
  {
   "cell_type": "markdown",
   "metadata": {},
   "source": [
    "Primero, haremos **ejemplos con sumas**:\n",
    "\n",
    "Si las secuencias se han obtenido por LFSR usando polinomios de conexión primitivos, la suma de ellas tendrá una complejidad lineal que es la suma de las complejidades lineales de los polinomios de conexión generadores. \n",
    "\n",
    "_Ejemplo_: Sean dos polinomios de conexión $C_1 = x^2 + x + 1$ y $C_2 = x^3 + x + 1$. Sus complejidades lineales son respectivamente $L_1 = 2$ y $L_2 = 3$. Consideramos las secuencias que generan por LFSR a partir de las semillas $11$ y $111$ respectivamente:"
   ]
  },
  {
   "cell_type": "code",
   "execution_count": 49,
   "metadata": {},
   "outputs": [
    {
     "name": "stdout",
     "output_type": "stream",
     "text": [
      "LFSR_1:  [1, 1, 0, 1, 1, 0, 1, 1, 0, 1, 1, 0, 1, 1, 0, 1, 1, 0, 1, 1, 0, 1, 1, 0, 1, 1, 0, 1, 1, 0]\n",
      "LFSR_2:  [1, 1, 1, 0, 1, 0, 0, 1, 1, 1, 0, 1, 0, 0, 1, 1, 1, 0, 1, 0, 0, 1, 1, 1, 0, 1, 0, 0, 1, 1]\n"
     ]
    }
   ],
   "source": [
    "# Primera secuencia\n",
    "LFSR_1 = LFSR([1,1], [1,1], 30) # Tiene periodo 3\n",
    "print ('LFSR_1: ', LFSR_1)\n",
    "\n",
    "# Segunda secuencia \n",
    "LFSR_2 = LFSR([1,0,1], [1,1,1], 30) # Tiene periodo 7\n",
    "print ('LFSR_2: ', LFSR_2)"
   ]
  },
  {
   "cell_type": "markdown",
   "metadata": {},
   "source": [
    "La primera secuencia resultante tiene periodo $3$ y la segunda, periodo $7$. Si ahora realizamos la suma de ambas, las complejidades lineales se suman y el periodo es $mcm(3, 7) = 21$."
   ]
  },
  {
   "cell_type": "code",
   "execution_count": 50,
   "metadata": {},
   "outputs": [
    {
     "name": "stdout",
     "output_type": "stream",
     "text": [
      "[0, 0, 1, 1, 0, 0, 1, 0, 1, 0, 1, 1, 1, 1, 1, 0, 0, 0, 0, 1, 0, 0, 0, 1, 1, 0, 0, 1, 0, 1]\n"
     ]
    }
   ],
   "source": [
    "# Sumamos LFSR_1 + LFSR_2\n",
    "suma = list(LFSR_1)\n",
    "\n",
    "for i in range(len(LFSR_1)):\n",
    "    suma[i] = (LFSR_1[i] + LFSR_2[i]) %2\n",
    "    \n",
    "print (suma)"
   ]
  },
  {
   "cell_type": "markdown",
   "metadata": {},
   "source": [
    "Como hemos dicho antes, tiene un periodo de $21$."
   ]
  },
  {
   "cell_type": "code",
   "execution_count": 51,
   "metadata": {},
   "outputs": [
    {
     "name": "stdout",
     "output_type": "stream",
     "text": [
      "Polinomio:  [1, 0, 0, 0, 1, 1]\n",
      "Complejidad:  5\n"
     ]
    }
   ],
   "source": [
    "print (\"Polinomio: \", Berlekamp_Massey(suma)[0])\n",
    "print (\"Complejidad: \", Berlekamp_Massey(suma)[1])"
   ]
  },
  {
   "cell_type": "markdown",
   "metadata": {},
   "source": [
    "Se ve que tiene una complejidad lineal de $5$, que es suma de $L_1 + L_2 = 2 + 3$. El polinomio de conexión obtenido es $x^5 + x^4 + 1$. Comprobamos que este polinomio genera la secuencia suma:"
   ]
  },
  {
   "cell_type": "code",
   "execution_count": 52,
   "metadata": {},
   "outputs": [
    {
     "data": {
      "text/plain": [
       "[0, 0, 1, 1, 0, 0, 1, 0, 1, 0, 1, 1, 1, 1, 1, 0, 0, 0, 0, 1, 0]"
      ]
     },
     "execution_count": 52,
     "metadata": {},
     "output_type": "execute_result"
    }
   ],
   "source": [
    "LFSR([1,1,0,0,0], [0,0,1,1,0], 21)"
   ]
  },
  {
   "cell_type": "markdown",
   "metadata": {},
   "source": [
    "Segundo, haremos **ejemplos con el producto**:\n",
    "\n",
    "Con el producto pasa igual que con la suma, la complejidad lineal del producto será el producto de las complejidades lineales. Realizaremos el mismo ejemplo que antes:"
   ]
  },
  {
   "cell_type": "code",
   "execution_count": 54,
   "metadata": {},
   "outputs": [
    {
     "name": "stdout",
     "output_type": "stream",
     "text": [
      "[1, 1, 0, 0, 1, 0, 0, 1, 0, 1, 0, 0, 0, 0, 0, 1, 1, 0, 1, 0, 0, 1, 1, 0, 0, 1, 0, 0, 1, 0]\n"
     ]
    }
   ],
   "source": [
    "# Multiplicamos LFSR_1 * LFSR_2\n",
    "producto = list(LFSR_1)\n",
    "\n",
    "for i in range(len(LFSR_1)):\n",
    "    producto[i] = (LFSR_1[i] * LFSR_2[i]) %2\n",
    "\n",
    "print (producto)"
   ]
  },
  {
   "cell_type": "markdown",
   "metadata": {},
   "source": [
    "Como se ve tiene el mismo periodo que para la suma, $21$. "
   ]
  },
  {
   "cell_type": "code",
   "execution_count": 55,
   "metadata": {},
   "outputs": [
    {
     "name": "stdout",
     "output_type": "stream",
     "text": [
      "Polinomio:  [1, 1, 1, 0, 1, 0, 1]\n",
      "Complejidad:  6\n"
     ]
    }
   ],
   "source": [
    "print (\"Polinomio: \", Berlekamp_Massey(producto)[0])\n",
    "print (\"Complejidad: \", Berlekamp_Massey(producto)[1])"
   ]
  },
  {
   "cell_type": "markdown",
   "metadata": {},
   "source": [
    "Ahora, la complejidad lineal del producto $6$, es decir, $L_1*L_2 = 2*3$. Además se obtiene un polinomio de conexión $x^6 + x^4 + x^2 + x + 1$. Comprobamos que el polinomio de conexión genera la secuencia producto:"
   ]
  },
  {
   "cell_type": "code",
   "execution_count": 56,
   "metadata": {},
   "outputs": [
    {
     "data": {
      "text/plain": [
       "[1, 1, 0, 0, 1, 0, 0, 1, 0, 1, 0, 0, 0, 0, 0, 1, 1, 0, 1, 0, 0]"
      ]
     },
     "execution_count": 56,
     "metadata": {},
     "output_type": "execute_result"
    }
   ],
   "source": [
    "LFSR([1,0,1,0,1,1], [1,1,0,0,1,0], 21)"
   ]
  }
 ],
 "metadata": {
  "kernelspec": {
   "display_name": "Python 3",
   "language": "python",
   "name": "python3"
  },
  "language_info": {
   "codemirror_mode": {
    "name": "ipython",
    "version": 3
   },
   "file_extension": ".py",
   "mimetype": "text/x-python",
   "name": "python",
   "nbconvert_exporter": "python",
   "pygments_lexer": "ipython3",
   "version": "3.6.1"
  }
 },
 "nbformat": 4,
 "nbformat_minor": 2
}

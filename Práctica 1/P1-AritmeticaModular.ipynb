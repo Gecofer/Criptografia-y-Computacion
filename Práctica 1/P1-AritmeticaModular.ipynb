{
 "cells": [
  {
   "cell_type": "markdown",
   "metadata": {
    "deletable": true,
    "editable": true
   },
   "source": [
    "# Ejercicio 1\n",
    "\n",
    "Implementa el algoritmo extendido de Euclides para el cálculo del máximo común divisor: dados dos enteros $a$ y $b$, encuentra $u, v ∈ Z$ tales que $au + bv$ es el máximo común divisor de $a$ y $b$.  \n",
    "\n",
    "Para la realización del algoritmo, nos basamos en la referencia aportada en el _pdf_, en concreto en el [Algoritmo 2.107](http://cacr.uwaterloo.ca/hac/about/chap2.pdf).\n",
    "\n",
    "### Pseudocódigo del Algoritmo Extendido de Euclides\n",
    "\n",
    "**ENTRADA**: Dos enteros positivos $a$ y $b$ donde $a ≥ b$  \n",
    "**SALIDA**: $d = mcd(a, b)$ y enteros $u$, $v$ donde $a(u) + b(v) = d$     \n",
    "  \n",
    "- Si $b = 0$ hemos terminado el algoritmo y se devuelve $d = a$, $u = 1$, $v = 0$\n",
    "- Sino $u_0 = 1$, $u_1 = 0$, $v_0 = 0$, $v_1 = 1$\n",
    "    - Mientras $b > 0$ hacer\n",
    "        - $q = a\\ div\\ b$ \n",
    "        - $(a, b) = (b, a - q·b)$\n",
    "        - $(u_0, u_1) = (u_1, u_0 - q·u_1)$\n",
    "        - $(v_0, v_1) = (v_1, v_0 - q·v_1)$  \n",
    "        \n",
    "    - Se devuelve $d = a$, $u = u_0$, $v = v_0$\n",
    "   \n",
    "_**Nota**: Si el valor es negativo, le cambiamos el signo._"
   ]
  },
  {
   "cell_type": "code",
   "execution_count": 1,
   "metadata": {
    "collapsed": true,
    "deletable": true,
    "editable": true
   },
   "outputs": [],
   "source": [
    "# -*- coding: utf-8 -*-\n",
    "\n",
    "# Ahora procedemos a calcular el Algoritmo Extendido de Euclides\n",
    "# donde a y b son los enteros positivos que se pasan como entrada\n",
    "def alg_euclides(a, b):\n",
    "    \n",
    "    # Nos creamos una lista que devolverá los valores de la ecuación\n",
    "    euclides = []\n",
    "    \n",
    "    # Si el valor es negativo de ambos valores\n",
    "    # los convertimos a positivos\n",
    "    if a < 0 or b < 0:\n",
    "        a = -(a) # Convierto 'a' en positivo\n",
    "        b = -(b) # Convierto 'b' en positivo\n",
    "    \n",
    "    # Si a = 0 y b = 0 hemos terminado y se devuelve \"Error\"\n",
    "    if a == 0 and b == 0:\n",
    "        print(\"Error, los dos números introducidos son cero.\")\n",
    "    \n",
    "    # Si a = 0 hemos terminado y se devuelve 0\n",
    "    if a == 0:\n",
    "        d = 0\n",
    "        u = 0\n",
    "        v = 0\n",
    "    \n",
    "    # Si b = 0 hemos terminado y se devuelve d = a, u = 1, v = 0\n",
    "    if b == 0:\n",
    "        d = a\n",
    "        u = 1\n",
    "        v = 0\n",
    "    \n",
    "    # En caso contrario donde a y b sean positivos\n",
    "    else:\n",
    "        \n",
    "        # Comprobamos si a < b, en caso afirmativo\n",
    "        # cambiamos el orden de los valores dejando a > b\n",
    "        if a < b:\n",
    "            tmp = a\n",
    "            a = b\n",
    "            b = tmp\n",
    "    \n",
    "        # Guardamos el valor de la entrada, para no perderlos\n",
    "        a0 = a\n",
    "        b0 = b\n",
    "    \n",
    "        # Inicializamos las variables a manejar\n",
    "        u0 = 1\n",
    "        u1 = 0\n",
    "        v0 = 0\n",
    "        v1 = 1\n",
    "        \n",
    "        # Mientras b > 0\n",
    "        while b > 0:\n",
    "            \n",
    "            # q = a div b\n",
    "            q = a // b\n",
    "            \n",
    "            # (a, b) = (b, a-q*b)\n",
    "            r = a - q*b\n",
    "            a = b\n",
    "            b = r\n",
    "            \n",
    "            # (u0, u1) = (u1, u0-q*u1)\n",
    "            u = u0 - q*u1\n",
    "            u0 = u1\n",
    "            u1 = u\n",
    "            \n",
    "            # (v0, v1) = (v1, v0-q*v1)\n",
    "            v = v0 - q*v1\n",
    "            v0 = v1\n",
    "            v1 = v\n",
    "         \n",
    "        # Guardamos el valor que nos interesa\n",
    "        d = a\n",
    "        u = u0\n",
    "        v = v0\n",
    "        \n",
    "    # Añadimos a la lista los valores para la ecuación\n",
    "    euclides.append(a0)\n",
    "    euclides.append(u)\n",
    "    euclides.append(b0)\n",
    "    euclides.append(v)\n",
    "    euclides.append(d)\n",
    "\n",
    "    # Devolvemos la lista\n",
    "    return euclides"
   ]
  },
  {
   "cell_type": "code",
   "execution_count": 2,
   "metadata": {
    "collapsed": false,
    "deletable": true,
    "editable": true
   },
   "outputs": [
    {
     "data": {
      "text/plain": [
       "[393, -36, 267, 53, 3]"
      ]
     },
     "execution_count": 2,
     "metadata": {},
     "output_type": "execute_result"
    }
   ],
   "source": [
    "alg_euclides(267, 393)"
   ]
  },
  {
   "cell_type": "markdown",
   "metadata": {
    "deletable": true,
    "editable": true
   },
   "source": [
    "### Interpretación del Resultado Obtenido    \n",
    "\n",
    "Nos devuelve una lista como: $[a_0, u, b_0, v, d]$ donde $a_0(u) + b_0(v) = d$ siendo $a_0$ y $b_0$ los valores introducidos por parámetro. \n",
    "\n",
    "En este ejemplo **alg_euclides(393, 267)**, la ecuación quedaría de la siguiente manera: $393(-36) + 267(53) = 3$ donde $u = -36$ y $v = 53$\n",
    "\n",
    "Veamos como se ha obtenido el resultado:\n",
    "\n",
    "$q$ | $r$ | $u$ | $v$ | $a$ | $b$ | $u_0$ | $u_1$ | $v_0$ | $v_1$\n",
    ":---: | :---: | :---: | :---: | :---: | :---: | :---: | :---: | :---: | :---:  \n",
    " $-$ | $-$ | $-$ | $-$ | * $393$ | * $267$  | $1$ | $0$ | $0$ | $1$\n",
    " $1$ | $126$ | $1$ | $-1$ | $267$ | $126$ | $0$ | $1$ | $1$ | $-1$\n",
    " $2$ | $15$ | $-2$ | $3$ | $126$ | $15$ | $1$ | $-2$ | $-1$ | $3$\n",
    " $8$ | $6$ | $17$ | $-25$ | $15$ | $6$ | $-2$ | $17$ | $3$ | $-25$\n",
    " $2$ | $3$ | $-36$ | $53$ | $6$ | $3$ | $17$ | $-36$ | $-25$ | $53$\n",
    " $2$ | $0$ | $-$ | $-$ | * $3$ | $0$ | * $-36$ | $-$ | * $53$ | $-$"
   ]
  },
  {
   "cell_type": "code",
   "execution_count": 3,
   "metadata": {
    "collapsed": false,
    "deletable": true,
    "editable": true
   },
   "outputs": [
    {
     "data": {
      "text/plain": [
       "[123456789101119, -2517705255944, 28564333765949, 10881675356013, 1]"
      ]
     },
     "execution_count": 3,
     "metadata": {},
     "output_type": "execute_result"
    }
   ],
   "source": [
    "# Como lo que nos interesa es usar números muy grandes, vamos \n",
    "# a probar con otros números, para ver que el AEC, lo calcula bien\n",
    "alg_euclides(28564333765949, 123456789101119)"
   ]
  },
  {
   "cell_type": "code",
   "execution_count": 4,
   "metadata": {
    "collapsed": false,
    "deletable": true,
    "editable": true
   },
   "outputs": [
    {
     "data": {
      "text/plain": [
       "1"
      ]
     },
     "execution_count": 4,
     "metadata": {},
     "output_type": "execute_result"
    }
   ],
   "source": [
    "# Comprobamos que el resultado de antes es correcto\n",
    "((123456789101119*-2517705255944) + (28564333765949*10881675356013))"
   ]
  },
  {
   "cell_type": "markdown",
   "metadata": {
    "deletable": true,
    "editable": true
   },
   "source": [
    "Para comprobar que el resultado es correcto, podemos usar la función implementada ya en **GAP**: \n",
    "> GcdRepresentation(28564333765949, 123456789101119);"
   ]
  },
  {
   "cell_type": "markdown",
   "metadata": {
    "deletable": true,
    "editable": true
   },
   "source": [
    "---"
   ]
  },
  {
   "cell_type": "markdown",
   "metadata": {
    "deletable": true,
    "editable": true
   },
   "source": [
    "# Ejercicio 2 \n",
    "\n",
    "Usando el ejercicio anterior, escribe una función que calcule $a^{-1} \\pmod b$ para cualesquiera $a, b$ enteros que sean primos relativos.\n",
    "\n",
    "Dos números son **primos relativos** si los únicos divisores que tienen en común, son el $1$ y el $-1$. Para ello haremos uso del **Teorema de Bezout** que dice que dos números enteros $a$ y $b$ son primos relativos, si y solo si, existen números enteros $u$ y $v$, tal que $a(u) + b(v) = 1$. Por tanto, para que un número tenga inverso, el máximo común divisor de ambos debe ser $1$.\n",
    "\n",
    "Para realizar este ejercicio, nos basamos en el **pdf de Jesús Miranda de Criptografía**, en concreto en la _página 175_ o _185_, abierto desde el visualizador de pdf's. \n",
    "\n",
    "### Pseudocódigo\n",
    "\n",
    "1. Calculamos el Algoritmo Extendido de Euclides para $a$ y $b$\n",
    "2. Si $mcd(a,b)\\ != 1$  \n",
    "    2.1\\. No existe el inverso\n",
    "3. Si $mcd(a,b) = 1$  \n",
    "    3.1\\. Existe el inverso, el cual será la variable $v$ del Algoritmo Extendido de Euclides. Donde $a*u + b*v = 1$, siendo $v$ el inverso de $a$  \n",
    "    3.2\\. Si el inverso es negativo, lo convertiremos en postivo con $\\pmod {a}$ "
   ]
  },
  {
   "cell_type": "code",
   "execution_count": 5,
   "metadata": {
    "collapsed": true,
    "deletable": true,
    "editable": true
   },
   "outputs": [],
   "source": [
    "# -*- coding: utf-8 -*-\n",
    "\n",
    "# Algoritmo que calcula el inverso de dos numeros \n",
    "# que son primos relativos\n",
    "def alg_inverso(a, b):\n",
    "    \n",
    "    # Calculamos el Algoritmo Extendido de Euclides para a y b\n",
    "    euclides = alg_euclides(a, b)\n",
    "        \n",
    "    # Si el mcd es distinto de 1, no tiene inverso    \n",
    "    if euclides[4] != 1:\n",
    "        print(\"\\nNo existe inverso para {0}^(-1) en Z({1})\".format(a,b))\n",
    "        \n",
    "    # Si el mcd es igual a 1, si tiene inverso  \n",
    "    if euclides[4] == 1:\n",
    "    \n",
    "        # a(u) * b(v) = d\n",
    "        # Como [a*u (mod a)] = 0. Nos quedamos con b*v\n",
    "        # siendo el v el inverso de a\n",
    "        \n",
    "        # Si el inverso es positivo, es decir, v, lo dejo tal cual\n",
    "        if (euclides[3] > 0) :\n",
    "            return euclides[3] % b\n",
    "        \n",
    "        # Si el inverso es negativo, le cambio el signo en módulo 'a'\n",
    "        elif (euclides[3] < 0):\n",
    "            \n",
    "            nuevo = b + euclides[3]\n",
    "            \n",
    "            # Mientras el valor siga siendo negativo, le vamos sumando 'a'\n",
    "            while nuevo < 0:\n",
    "                nuevo = b + euclides[3]\n",
    "                \n",
    "            return nuevo % b"
   ]
  },
  {
   "cell_type": "code",
   "execution_count": 6,
   "metadata": {
    "collapsed": false,
    "deletable": true,
    "editable": true
   },
   "outputs": [
    {
     "data": {
      "text/plain": [
       "631"
      ]
     },
     "execution_count": 6,
     "metadata": {},
     "output_type": "execute_result"
    }
   ],
   "source": [
    "alg_inverso(391,1542)"
   ]
  },
  {
   "cell_type": "code",
   "execution_count": 7,
   "metadata": {
    "collapsed": false,
    "deletable": true,
    "editable": true
   },
   "outputs": [
    {
     "data": {
      "text/plain": [
       "[1542, -160, 391, 631, 1]"
      ]
     },
     "execution_count": 7,
     "metadata": {},
     "output_type": "execute_result"
    }
   ],
   "source": [
    "alg_euclides(391,1542)"
   ]
  },
  {
   "cell_type": "markdown",
   "metadata": {
    "collapsed": true,
    "deletable": true,
    "editable": true
   },
   "source": [
    "### Interpretación del Resultado Obtenido    \n",
    "\n",
    "Nos devuelve la solución del _Algoritmo Extendido de Euclides_: $[a, u, b, v, d]$ donde $a*u + b*v = d$ siendo $a$ y $b$ los valores introducidos por parámetro. \n",
    "\n",
    "En este ejemplo **alg_inverso(391, 1542)**, la ecuación quedaría de la siguiente manera: $1542(-160) + 391(631) = 1$ donde $u = -160$ y $v = 631$ como $1542*-160 \\pmod 1542 = 0$, nos quedamos con $v$\n",
    "\n",
    "Veamos como se ha obtenido el inverso:\n",
    "\n",
    "$(a, b) = (1542,391)_{q=3} = (391,369)_{q=1} = (369,22)_{q=16} = (22,17)_{q=1} = (17,5)_{q=3} = (5,2)_{q=2} = (2,1)_{q=2} = (1,0)$  \n",
    "  \n",
    "$(u_0, u_1) = (1,0)_{q=3} = (0,1)_{q=1} = (1,-1)_{q=16} = (-1,17)_{q=1} = (17,-18)_{q=3} = (-18,71)_{q=2} = (71,-160)_{q=2} = (-160,\\_)$  \n",
    "  \n",
    "$(v_0, v_1) = (0,1)_{q=3} = (1,-3)_{q=1} = (-3,4)_{q=16} = (4,-67)_{q=1} = (-67,71)_{q=3} = (71,-280)_{q=2} = (-280,631)_{q=2} = (631,\\_)$  \n",
    "\n",
    "Lo que acabamos de hacer, es calcular el _Algoritmo Extendido de Euclides_, no hacía falta calcular todo, ya que con $(v_0, v_1)$, hubiéramos llegado al mismo resultado.\n",
    "\n",
    "Por tanto, el inverso de $391^{-1} \\pmod {1542} = 631$"
   ]
  },
  {
   "cell_type": "code",
   "execution_count": 8,
   "metadata": {
    "collapsed": false,
    "deletable": true,
    "editable": true
   },
   "outputs": [
    {
     "data": {
      "text/plain": [
       "10881675356013"
      ]
     },
     "execution_count": 8,
     "metadata": {},
     "output_type": "execute_result"
    }
   ],
   "source": [
    "# Como lo que nos interesa es usar números muy grandes, vamos \n",
    "# a probar con otros números, para ver que el inverso, lo calcula bien.\n",
    "alg_inverso(28564333765949, 123456789101119)"
   ]
  },
  {
   "cell_type": "code",
   "execution_count": 9,
   "metadata": {
    "collapsed": false,
    "deletable": true,
    "editable": true
   },
   "outputs": [
    {
     "data": {
      "text/plain": [
       "1"
      ]
     },
     "execution_count": 9,
     "metadata": {},
     "output_type": "execute_result"
    }
   ],
   "source": [
    "# Comprobamos que el mcd de ambos números es 1\n",
    "(28564333765949*_)%123456789101119"
   ]
  },
  {
   "cell_type": "markdown",
   "metadata": {
    "deletable": true,
    "editable": true
   },
   "source": [
    "Para comprobar que el resultado es correcto, podemos usar la función implementada ya en **GAP**: \n",
    "> GcdRepresentation(28564333765949, 123456789101119)[1];"
   ]
  },
  {
   "cell_type": "markdown",
   "metadata": {
    "deletable": true,
    "editable": true
   },
   "source": [
    "---"
   ]
  },
  {
   "cell_type": "markdown",
   "metadata": {
    "deletable": true,
    "editable": true
   },
   "source": [
    "# Ejercicio 3 \n",
    "\n",
    "Escribe una función que calcule $a^k \\pmod n$ para cualesquiera $a$, $k$ y $n$ enteros positivos. La implementación debería tener en cuenta la representación binaria de k. _(No hace falta calcular la expresión binaria)_\n",
    "\n",
    "Para realizar este ejercicio, nos basamos en la referencia aportada en el ejercicio, en concreto en el [Algoritmo 2.143](http://cacr.uwaterloo.ca/hac/about/chap2.pdf)\n",
    "\n",
    "### Pseudocódigo\n",
    "\n",
    "**ENTRADA**: $a\\in \\mathbb{Z}_n$, y dos enteros $0 <= k < n$  \n",
    "**SALIDA**: $a^k \\pmod n$  \n",
    "\n",
    "1. Inicializar $b = 1$  \n",
    "**{$k = {k}_0 · {k}_1 · .... · {k}_r$}**\n",
    "2. Mientras $k > 0$  \n",
    "    2.1\\. ${k}_0 = k \\pmod 2$  \n",
    "    2.2\\. Si ${k}_0 = 0$ entonces $b = a·b \\pmod n$  \n",
    "    2.3\\. $k = (k - {k}_0) \\div 2$  \n",
    "    2.4\\. $a = a^2 \\pmod n$\n",
    "3. Devolvemos $b$"
   ]
  },
  {
   "cell_type": "code",
   "execution_count": 10,
   "metadata": {
    "collapsed": true,
    "deletable": true,
    "editable": true
   },
   "outputs": [],
   "source": [
    "# -*- coding: utf-8 -*-\n",
    "\n",
    "# Algoritmo que calcula el a^k mod n\n",
    "def alg_potencia(a, k, n):\n",
    "    \n",
    "    # Inicializamos b a 1\n",
    "    b = 1\n",
    "\n",
    "    # Si k = 0, ya hemos terminado y devolvemos 1\n",
    "    \n",
    "    # Pero mientras k > 0    \n",
    "    while k > 0:\n",
    "        \n",
    "        # Iremos descomponiendo k0 \n",
    "        # Y comprobaremos si su resto es 0 ó 1\n",
    "        k0 = k % 2\n",
    "        \n",
    "        # Si el resto es 1\n",
    "        if k0 == 1:\n",
    "            \n",
    "            # Cambiamos el valor de b\n",
    "            b = a*b % n\n",
    "        \n",
    "        # Como k = k0 ... kr\n",
    "        # Nos quedamos con el k sin usar\n",
    "        k = (k-k0) / 2 \n",
    "        \n",
    "        # Cambiamos el valor de a\n",
    "        a = (a**2) % n\n",
    "\n",
    "    # Devolvemos b    \n",
    "    return b"
   ]
  },
  {
   "cell_type": "code",
   "execution_count": 11,
   "metadata": {
    "collapsed": false,
    "deletable": true,
    "editable": true
   },
   "outputs": [
    {
     "data": {
      "text/plain": [
       "1013"
      ]
     },
     "execution_count": 11,
     "metadata": {},
     "output_type": "execute_result"
    }
   ],
   "source": [
    "alg_potencia(5, 596, 1234)"
   ]
  },
  {
   "cell_type": "markdown",
   "metadata": {
    "deletable": true,
    "editable": true
   },
   "source": [
    "### Interpretación del Resultado Obtenido    \n",
    "\n",
    "Al hacer **alg_potencia(5, 596, 1234)**, lo que estamos haciendo es $5^{596} \\pmod {1234}$, el resultado de todo esto es $1013$. ¿Pero cómo hemos obtenido ese resultado? Veámoslo gráficamente:\n",
    "\n",
    "_Recuerda que estamos en $\\pmod {1234}$_\n",
    "\n",
    "$iteracion$ | ${k}_i$ | $Valor\\ de\\ a$ | $Valor\\ de\\ b\\ =(a*b)$\n",
    ":---: | :---: | :---: | :---:  \n",
    "0 | 0 | 5² = 25 | 1 \n",
    "1 | 0 | 25² = 625 | 1 \n",
    "2 | 1 | 625² = 681 | 625·1 = 625 \n",
    "3 | 0 | 681² = 1011 | 625·1 = 625\n",
    "4 | 1 | 1011² = 369 | 1011·625 = 67 \n",
    "5 | 0 | 369² = 421 | 1011·625 = 67\n",
    "6 | 1 | 421² = 779 | 421·67 = 1059 \n",
    "7 | 0 | 779² = 947 | 421·67 = 1059 \n",
    "8 | 0 | 947² = 925 | 421·67 = 1059 \n",
    "9 | 1 | 925² = 463 | 925·1059 = 1013 "
   ]
  },
  {
   "cell_type": "code",
   "execution_count": 12,
   "metadata": {
    "collapsed": false,
    "deletable": true,
    "editable": true
   },
   "outputs": [
    {
     "data": {
      "text/plain": [
       "65615831162116"
      ]
     },
     "execution_count": 12,
     "metadata": {},
     "output_type": "execute_result"
    }
   ],
   "source": [
    "# Como lo que nos interesa es usar números muy grandes, vamos \n",
    "# a probar con otros números, para ver que la potencia, lo calcula bien.\n",
    "alg_potencia(8590365927553, 28564333765949, 123456789101119)"
   ]
  },
  {
   "cell_type": "markdown",
   "metadata": {
    "deletable": true,
    "editable": true
   },
   "source": [
    "Para comprobar que el resultado es correcto, lo comprobamos haciendo en **GAP**:\n",
    "> PowerModInt(8590365927553, 28564333765949, 123456789101119);"
   ]
  },
  {
   "cell_type": "markdown",
   "metadata": {
    "deletable": true,
    "editable": true
   },
   "source": [
    "---"
   ]
  },
  {
   "cell_type": "markdown",
   "metadata": {
    "deletable": true,
    "editable": true
   },
   "source": [
    "# Ejercicio 4\n",
    "\n",
    "Dado un entero $p$, escribe una función para determinar si $p$ es (probablemente) primo usando el **método de Miller-Rabin**.\n",
    "\n",
    "Para realizar este ejercicio, nos basamos en el **pdf de Jesús Miranda de Criptografía**, en concreto en la _página 193_ o _199_, abierto desde el visualizador de pdf's. \n",
    "\n",
    "### Pseudocódigo\n",
    "\n",
    "**ENTRADA**: Un número entero que sea $p >= 5$  \n",
    "**SALIDA**: Si $p$ es problamente primo o no.\n",
    "\n",
    "1. Descompongo $p-1$  \n",
    "    1.1\\. $p-1 = 2^{u} * s$  \n",
    "    1.2\\. Elijo aleatoriamente un número de $a \\in{}_R \\{2, ..., p-2\\}$\n",
    "2. Calculo $a^{s}$  \n",
    "    2.1\\. Si es $1$ o $-1$ devuelvo _probablemente primo_  \n",
    "    2.2\\. Si no es $1$ o $-1$ calculo $a^{2*s}$ y luego voy elevando al cuadrado como $(a^{2*s})^{2} = a^{2^{2}*s} = ... = a^{2^{u}*s}$ "
   ]
  },
  {
   "cell_type": "code",
   "execution_count": 13,
   "metadata": {
    "collapsed": true,
    "deletable": true,
    "editable": true
   },
   "outputs": [],
   "source": [
    "# -*- coding: utf-8 -*-\n",
    "\n",
    "# Algoritmo que calcula la primalidad de un numero\n",
    "import random\n",
    "\n",
    "def alg_miller_rabin(p):\n",
    "    \n",
    "    # Primero sacamos la primalidad para los números del 1 al 5\n",
    "    \n",
    "    # Si el número es 1 o 4, no es primo\n",
    "    if p == 1 or p == 4:\n",
    "        return False # No primo\n",
    "    \n",
    "    # Si el número es 2, 3, es primo\n",
    "    if p == 2 or p == 3:\n",
    "        return True #Primo\n",
    "        \n",
    "    # En caso de que el número sea mayor que 5\n",
    "    # Descompongo en p-1\n",
    "    p1 = p - 1\n",
    "    u = 0\n",
    "\n",
    "    # Descompongo p-1 en 2^(u) * s\n",
    "    while p1%2 == 0:\n",
    "        p1 = p1 // 2\n",
    "        u = u + 1\n",
    "    \n",
    "    s = p1\n",
    "\n",
    "    # Eligo aleatoriamente un número entre 2 y p-2\n",
    "    a = random.randint(2, p-2)\n",
    "\n",
    "    # Calculo a^(s) -> a = a**s\n",
    "    a = alg_potencia(a,s,p)\n",
    "\n",
    "    # Y compruebo si es 1 o-1,\n",
    "    if a == 1 or a == p-1:\n",
    "        return True # Problamente primo\n",
    "\n",
    "    # Sino es primo, voy elevando al cuadrado    \n",
    "    for i in range(1, u):\n",
    "        a = alg_potencia(a, 2, p) # a = (a**2) % p\n",
    "\n",
    "        # Si 'a' es p-1\n",
    "        if a == p-1:\n",
    "            return True # Problamente primo\n",
    "\n",
    "        # Si 'a' es 1\n",
    "        if a == 1:\n",
    "            return False # Probalmemente no primo\n",
    "\n",
    "    return False # Probalmemente no primo"
   ]
  },
  {
   "cell_type": "code",
   "execution_count": 14,
   "metadata": {
    "collapsed": false,
    "deletable": true,
    "editable": true
   },
   "outputs": [
    {
     "data": {
      "text/plain": [
       "False"
      ]
     },
     "execution_count": 14,
     "metadata": {},
     "output_type": "execute_result"
    }
   ],
   "source": [
    "alg_miller_rabin(21)"
   ]
  },
  {
   "cell_type": "markdown",
   "metadata": {
    "deletable": true,
    "editable": true
   },
   "source": [
    "### Interpretación del Resultado Obtenido    \n",
    "\n",
    "Ejecutamos **alg_miller_rabin(21)**, siendo nuestro número $p = 1$.  \n",
    "  \n",
    "Por tanto $p-1 = 20 = 2^{2} * 5$ siendo $u = 2$ y $s = 5$. Escojo aleatoriamente un número de la siguiente lista: $a \\in{}_R \\{2, ..., 19\\}$  \n",
    "- Si $a = 7$ -> $7^5 = 7$, $7² = 7$, $7² = 7$ _(voy elevando al cuadrado a partir del segundo)_\n",
    "- Si $a = 4$ -> $4^5 = 16$, $16² = 4^{2*5} = 4$, $4^{2^{2}*5} = 16$ _(voy elevando al cuadrado a partir del segundo)_\n",
    "\n",
    "Como no aparece ningún $1$ o $-1$, $21$ es probablemente no primo."
   ]
  },
  {
   "cell_type": "markdown",
   "metadata": {
    "deletable": true,
    "editable": true
   },
   "source": [
    "La función que hemos creado, solo se ejecuta 1 vez, ahora hay que crear otra función que se llame $n$ veces, para comprobar si ese número es primo o no."
   ]
  },
  {
   "cell_type": "code",
   "execution_count": 15,
   "metadata": {
    "collapsed": true,
    "deletable": true,
    "editable": true
   },
   "outputs": [],
   "source": [
    "def alg_miller_rabin1(p, k):\n",
    "    return all(alg_miller_rabin(p) for a in range(k))"
   ]
  },
  {
   "cell_type": "code",
   "execution_count": 16,
   "metadata": {
    "collapsed": false,
    "deletable": true,
    "editable": true
   },
   "outputs": [
    {
     "data": {
      "text/plain": [
       "False"
      ]
     },
     "execution_count": 16,
     "metadata": {},
     "output_type": "execute_result"
    }
   ],
   "source": [
    "alg_miller_rabin1(21,10)"
   ]
  },
  {
   "cell_type": "markdown",
   "metadata": {
    "deletable": true,
    "editable": true
   },
   "source": [
    "A continuación, vamos a calcular el test de Miller-Rabin para la lista de primos proporcionados por la práctica en el pdf."
   ]
  },
  {
   "cell_type": "code",
   "execution_count": 17,
   "metadata": {
    "collapsed": false,
    "deletable": true,
    "editable": true
   },
   "outputs": [
    {
     "name": "stdout",
     "output_type": "stream",
     "text": [
      "El numero 46381 es primo\n",
      "El numero 768479 es primo\n",
      "El numero 9476407 es primo\n",
      "El numero 36780481 es primo\n",
      "El numero 562390847 es primo\n",
      "El numero 1894083629 es primo\n",
      "El numero 65398261921 es primo\n",
      "El numero 364879542899 es primo\n",
      "El numero 8590365927553 es primo\n",
      "El numero 28564333765949 es primo\n",
      "El numero 123456789101119 es primo\n"
     ]
    }
   ],
   "source": [
    "# Lista de números primos\n",
    "lista=[46381, 768479, 9476407, 36780481, 562390847, 1894083629, 65398261921, \n",
    "       364879542899, 8590365927553, 28564333765949, 123456789101119]\n",
    "\n",
    "for i in lista:\n",
    "    print(\"El numero {0} es {1}\".format(i, \"primo\" if alg_miller_rabin1(i,10) else \"no primo\"))"
   ]
  },
  {
   "cell_type": "markdown",
   "metadata": {
    "deletable": true,
    "editable": true
   },
   "source": [
    "Para comprobar que el resultado es correcto, lo comprobamos haciendo en **GAP**:\n",
    "> IsPrime(123456789101119);"
   ]
  },
  {
   "cell_type": "markdown",
   "metadata": {
    "deletable": true,
    "editable": true
   },
   "source": [
    "----"
   ]
  },
  {
   "cell_type": "markdown",
   "metadata": {
    "deletable": true,
    "editable": true
   },
   "source": [
    "# Ejercicio 5\n",
    "\n",
    "Implementa el algoritmo **paso enano-paso gigante** para el cálculo de algoritmos discretos en $\\mathbb{Z}_p$.\n",
    "\n",
    "Para la realización de este ejercicio, nos hemos basado en los apuntes copiados en clase (_página 15 de mis apuntes_).\n",
    "\n",
    "### Pseudocódigo\n",
    "\n",
    "**ENTRADA**: $a\\in \\mathbb{Z^*}_p$, $b\\in \\mathbb{Z^*}_p$ y $p$ siendo primo.  \n",
    "**SALIDA**: ¿Existe un $k$ con $a^k = b$?  \n",
    "\n",
    "1. Encontrar un $s$ tal que $s^2 ≥ p$ y $s = \\sqrt{(p-1)}$, donde escogemos la parte entera redondeada hacia arriba.\n",
    "2. Calcular los valores que tendrá la lista para el paso gigante. La lista empieza en el índice 1 hasta s+1  \n",
    "    2.1\\. $L = \\{a^{s}, a^{2·s}, ..., a^{s·s}\\}$ todo en $\\pmod{p}$\n",
    "3. Calcular los valores que tendrá la lista para el paso enano. La lista empieza en el índice 0 hasta s-1  \n",
    "    3.1\\. $l = \\{b·a^{0}, b·a^{1}, ..., b·a^{s-1}\\}$ todo en $\\pmod{p}$\n",
    "4. Recorremos las dos listas, buscando el elemento común y la posición de ese elemento en ambas listas.\n",
    "5. Devolvemos el $k$ que será $a^k = b$, siendo $k = \\{{L[posicion+1]}_{elemento-comun} * s - {l[posicion]}_{elemento-comun} \\}\\pmod p$  "
   ]
  },
  {
   "cell_type": "code",
   "execution_count": 18,
   "metadata": {
    "collapsed": true,
    "deletable": true,
    "editable": true
   },
   "outputs": [],
   "source": [
    "# -*- coding: utf-8 -*-\n",
    "\n",
    "# Función para calcular la raíz cuadrada de un número\n",
    "def isqrt(n):\n",
    "    x = n\n",
    "    y = (x+1) // 2\n",
    "    \n",
    "    while(y < x):\n",
    "        x = y\n",
    "        y = (x+n // x) // 2\n",
    "        \n",
    "    return x\n",
    "\n",
    "# Función que calcula el Algoritmo de\n",
    "# Paso Enano Paso Gigante\n",
    "def paso_enano_paso_gigante(a, b, p):\n",
    "    \n",
    "    # Nos creamos una lista con todos los posibles a^(cs)\n",
    "    # Esta lista será el paso gigante\n",
    "    L = []\n",
    "    \n",
    "    # Nos creamos una lista con todos los posibles b*a^(r)\n",
    "    # Esta lista será el paso enano\n",
    "    l = []\n",
    "    \n",
    "    # Obtenemos s = [sqrt(p-1)], con redondeo hacia arriba\n",
    "    s = isqrt(p-1)+1\n",
    "    \n",
    "    # Calculamos los valores que tendrá la lista para el\n",
    "    # paso gigante que empieza el índice en 1 hasta s+1\n",
    "    for i in range(1, s+1):\n",
    "        # Los valores de la lista serán [a^(i*s) % p]\n",
    "        gigante = alg_potencia(a, i*s, p)\n",
    "        L.append(gigante)\n",
    "    \n",
    "    # Calculamos los valores que tendrá la lista para el\n",
    "    # paso enano que empieza el índice en 0 hasta s-1\n",
    "    for i in range(0, s):\n",
    "        # Los valores de la lista serán [b*a^(i) % p]\n",
    "        enano = (b*alg_potencia(a, i, p))% p;\n",
    "        l.append(enano)\n",
    "        \n",
    "    # Nos creamos una variable, donde se guardará la\n",
    "    # posición de ambas listas\n",
    "    aux_l = 0.0\n",
    "    aux_L = 0.0\n",
    "    \n",
    "    # Recorremos la primera lista y buscamos ese elemento\n",
    "    # en la siguiente lista\n",
    "    for x in L:\n",
    "        \n",
    "        # Si tienen ambas listas un elemento común\n",
    "        if x in l:\n",
    "            \n",
    "            # Posición donde se encuentra el elemento\n",
    "            # repetido en la lista L\n",
    "            aux_L = L.index(x)\n",
    "            \n",
    "            # Posición donde se encuentra el elemento\n",
    "            # repetido en la lista l\n",
    "            aux_l = l.index(x)\n",
    "               \n",
    "    # k = c*s - r = (aux_L+1)*s - (aux_l) = (aux_L+1)*s-aux_l) % p)\n",
    "    return (((aux_L+1)*s-aux_l) % p)"
   ]
  },
  {
   "cell_type": "code",
   "execution_count": 19,
   "metadata": {
    "collapsed": false,
    "deletable": true,
    "editable": true
   },
   "outputs": [
    {
     "data": {
      "text/plain": [
       "10"
      ]
     },
     "execution_count": 19,
     "metadata": {},
     "output_type": "execute_result"
    }
   ],
   "source": [
    "paso_enano_paso_gigante(6, 32, 41)"
   ]
  },
  {
   "cell_type": "markdown",
   "metadata": {
    "deletable": true,
    "editable": true
   },
   "source": [
    "### Interpretación del Resultado Obtenido    \n",
    "\n",
    "Ejecutamos **paso_enano_paso_gigante(6, 32, 41)**, siendo $a = 6$, $b = 32$ y $p = 41$. Por tanto:  \n",
    "- $s^2 >= p-1 = 40$ \n",
    "- $s = \\sqrt{(p-1)} = \\sqrt{40} = 6'32 = 7$ (_debemos escoger la parte entera redondeando hacia arriba_)  \n",
    "  \n",
    "Calculamos la lista del _paso gigante_, desde $1$ hasta $s$:  \n",
    "- $L = \\{6^{7}, 6^{2·7}, 6^{3·7}, 6^{4·7}, 6^{5·7}, 6^{6·7}, 6^{7·7}\\}$ todo en $\\pmod{41}$ sería $L = \\{29, 21, 35, 31, 38, 36, 19\\}$  \n",
    "  \n",
    "Calculamos la lista del _paso enano_, desde $0$ hasta $s-1$:  \n",
    "- $l = \\{32·6^{0}, 32·6^{1}, 32·6^{2}, 32·6^{3}, 32·6^{4}, 32·6^{5}, 32*6^{6}\\}$ todo en $\\pmod{41}$ sería $l = \\{32, 28, 4, 24, 21, 3, 18\\}$  \n",
    "  \n",
    "Obtenemos que el elemento que se repite es el $21$, y se encuentra en la posición:  \n",
    "- En la posición $[2]$ de la lista $L$ (_empezamos a contar desde_ $1$)  \n",
    "- En la posición $[4]$ de la lista $l$ (_empezamos a contar desde_ $0$)  \n",
    "  \n",
    "Por consiguiente, $6^{2·7} = 32·6^{4}$, luego $32 = 6^{2·7-4}$. Por tanto, $k = c*s - r = 2*7 - 4 = 10$"
   ]
  },
  {
   "cell_type": "markdown",
   "metadata": {
    "deletable": true,
    "editable": true
   },
   "source": [
    "Para comprobar que el resultado es correcto, lo podemos comprobar usando la función implementada en **GAP**:\n",
    "> LogModShanks(a,b,m);"
   ]
  },
  {
   "cell_type": "markdown",
   "metadata": {
    "deletable": true,
    "editable": true
   },
   "source": [
    "---"
   ]
  },
  {
   "cell_type": "markdown",
   "metadata": {
    "deletable": true,
    "editable": true
   },
   "source": [
    "# Ejercicio 6 "
   ]
  },
  {
   "cell_type": "markdown",
   "metadata": {
    "deletable": true,
    "editable": true
   },
   "source": [
    "## Ejercicio 6.1\n",
    "\n",
    "Sea $n = pq$, con $p$ y $q$ enteros primos positivos.\n",
    "\n",
    "1. Escribe una función que, dado un entero $a$ y un primo $p$ con $(\\frac{a}{p}) = 1$, devuelve $r$ tal que $r² = a \\pmod p$; primero te hará falta implementar el símbolo de Jacobi."
   ]
  },
  {
   "cell_type": "markdown",
   "metadata": {
    "deletable": true,
    "editable": true
   },
   "source": [
    "### Jacobi\n",
    "\n",
    "Para la realización del algoritmo de Jacobi, nos basamos en la referencia aportada en el _pdf_, en concreto en el [Algoritmo 2.149](http://cacr.uwaterloo.ca/hac/about/chap2.pdf).\n",
    "\n",
    "#### Pseudocódigo\n",
    "\n",
    "**ENTRADA**: Dos enteros, donde $p ≥ 3$ y donde $a$ sea $0 ≤ a < n$  \n",
    "**SALIDA**: El simbolo de Jacobi (y por lo tanto, el símbolo de Legendre cuando $p$ es primo)\n",
    "\n",
    "1. Si $a = 0$ se devuelve $0$\n",
    "2. Si $a = 1$ se devuelve $1$\n",
    "3. Ir dividiendo $a$ entre $2$ hasta que sea impar ($a = 2^ea_1$).  A la vez vamos calculando el número de veces que se ha dividido el número, para ello usamos la variable $e$\n",
    "4. Si $e \\div 2 = 1$ devuelvo $s = 1$  \n",
    "    4.1\\. Sino, si $p ≡ 1\\ or\\ 7 \\pmod 8$ devuelvo $s = 1$  \n",
    "    4.2\\. Sino, si $p ≡ 3\\ or\\ 5 \\pmod 8$ devuelvo $s = -1$  \n",
    "5. Si $p ≡ 3 \\pmod 4$ y $a ≡ 3 \\pmod 4$ devuelvo $s = -s$  \n",
    "6. Divido $p \\div a$\n",
    "7. Si $a = 1$ devuelvo $s$\n",
    "8. Sino, devuelvo $(s * jacobi(p,a))$"
   ]
  },
  {
   "cell_type": "code",
   "execution_count": 20,
   "metadata": {
    "collapsed": true,
    "deletable": true,
    "editable": true
   },
   "outputs": [],
   "source": [
    "# -*- coding: utf-8 -*-\n",
    "\n",
    "# Función que calcula si un número es símbolo de Jacibo\n",
    "def jacobi(a, p):\n",
    "        \n",
    "    # Si a es 0 se devuelve 0\n",
    "    if a == 0:\n",
    "        return 0\n",
    "    \n",
    "    # Si a es 1 se devuelve 1\n",
    "    if a == 1:\n",
    "        return 1\n",
    "    \n",
    "    # Variable que cuenta el numero de veces que se \n",
    "    # ha dividido el número\n",
    "    e = 0\n",
    "    \n",
    "    # Vamos diviendiendo 'a' hasta que sea impar\n",
    "    while a % 2 == 0:\n",
    "        a /= 2\n",
    "        e += 1\n",
    "      \n",
    "    # Si e % 2 = 1, devuelvo s=1\n",
    "    if e % 2 == 0:\n",
    "        s = 1 \n",
    "    else:  \n",
    "        # Si p ≡ 1 or 7 (mod 8) devuelvo s=1\n",
    "        if p%8 == 1 or p%8 == 7:\n",
    "            s = 1\n",
    "\n",
    "        # Si p ≡ 3 or 5 (mod 8) devuelvo s=-1\n",
    "        elif p%8==3 or p%8==5:\n",
    "            s = -1\n",
    "    # Si p ≡ 3 (mod 4) y a ≡ 3 (mod 4) devuelvo s=-s\n",
    "    if (p%4) == 3 and (a%4) == 3: \n",
    "        s = -s\n",
    "    \n",
    "    # Divido 'p' entre 'a'\n",
    "    p = p % a\n",
    "    \n",
    "    # Si a es 1, devuelvo s\n",
    "    if a==1:\n",
    "        return s\n",
    "    # Sino deevuelvo (s*jacobi1(p,a))\n",
    "    else:\n",
    "        return (s*jacobi(p,a))"
   ]
  },
  {
   "cell_type": "code",
   "execution_count": 21,
   "metadata": {
    "collapsed": false,
    "deletable": true,
    "editable": true
   },
   "outputs": [
    {
     "data": {
      "text/plain": [
       "-1"
      ]
     },
     "execution_count": 21,
     "metadata": {},
     "output_type": "execute_result"
    }
   ],
   "source": [
    "# Para comprobar que funciona, vamos a realizar un ejemplo\n",
    "jacobi(5, 17)"
   ]
  },
  {
   "cell_type": "markdown",
   "metadata": {
    "deletable": true,
    "editable": true
   },
   "source": [
    "### Interpretación del Resultado Obtenido    \n",
    "\n",
    "Partimos de la _página 22 y 23 de mis apuntes_:\n",
    "\n",
    "Ejecutamos **jacobi(5,17)**, siendo $a = 5$, $p = 17$. Por tanto:  \n",
    "$$\\frac{a}{p} = \\frac{5}{17} {(1)}  = \\frac{17}{5} {(2)}  = \\frac{2}{5} {(3)}  = (-1)^{\\frac{25-1}{8}} = (-1)^{3} = -1$$\n",
    "\n",
    "- (1): Le doy la vuelta, no cumple la Ley de Criprocidad Cuadrática (propiedad 6)\n",
    "- (2): Aplicamos la propiedad 1, que dice que $\\frac{a}{p} = \\frac{a \\pmod p}{p}$ y como $\\frac{17 \\pmod 5}{5} = \\frac{2}{5}$\n",
    "- (3): Aplicamos la propiedad 3, que dice que $\\frac{2}{p} = (-1)^{\\frac{p^{2}-1}{8}}$ y como $\\frac{2}{5}  = (-1)^{\\frac{5^{2}-1}{8}} = (-1)^{\\frac{25-1}{8}} = (-1)^{\\frac{24}{8}} = (-1)^{3}$\n"
   ]
  },
  {
   "cell_type": "markdown",
   "metadata": {
    "deletable": true,
    "editable": true
   },
   "source": [
    "Para comprobar que el resultado es correcto, lo comprobamos haciendo en **GAP**:\n",
    "> Jacobi(5,17);"
   ]
  },
  {
   "cell_type": "markdown",
   "metadata": {
    "deletable": true,
    "editable": true
   },
   "source": [
    "### Residuo Cuadrático\n",
    "\n",
    "Ahora, pasamos a calcular el residuo cuadrático. Para ello, nos basamos en el **pdf de Jesús Miranda de Criptografía**, en concreto en la _página 182_ o _188_, abierto desde el visualizador de pdf's. \n",
    "\n",
    "#### Pseudocódigo\n",
    "\n",
    "**ENTRADA**: Supongamos que tenemos un número primo $p$, un número $a$ tal que $\\frac{a}{p} = 1$.  \n",
    "**SALIDA**: La raíz cuadrada de $a \\pmod p$\n",
    "\n",
    "- Si $jacobi(a,p) = 1$\n",
    "- Buscamos $n$ tal que $\\frac{n}{p} = -1$\n",
    "- Descomponemos $p-1$ como $p-1 = 2^{u}·s$, con $s$ un número impar.\n",
    "- Si $u = 1$ hacemos $r = a^{\\frac{p+1}{4}}$\n",
    "- Si $u >= 2$ entonces:\n",
    "    - Hacemos $r = a^{\\frac{s+1}{2}}$\n",
    "    - Hacemos $b = n^s$\n",
    "    - Hacemos $j = 0$ \n",
    "    - Mientras $j <= u-2$\n",
    "        - Si $(a^{-1}·r^{2})^{2^{u-2-j}} = -1$ hacemos $r = r·b$ \n",
    "        - Hacemos $b = b^2$\n",
    "        - Hacemos $j = j + 1$\n",
    "- Devuelve $r$"
   ]
  },
  {
   "cell_type": "code",
   "execution_count": 22,
   "metadata": {
    "collapsed": true,
    "deletable": true,
    "editable": true
   },
   "outputs": [],
   "source": [
    "# -*- coding: utf-8 -*-\n",
    "\n",
    "# Algoritmo que calcula la primalidad de un numero\n",
    "import random\n",
    "\n",
    "def residuo_cuadratico(a, p):\n",
    "    \n",
    "    if jacobi(a,p) == 1:\n",
    "        i = 1\n",
    "        n = 0\n",
    "        r = 0\n",
    "        \n",
    "        # Buscamos aleatorio entre entre 2 y p-1 \n",
    "        # tal que (i/p) = -1\n",
    "        while (i != -1):\n",
    "            # el randint coge hasta p-1 por eso solo ponemos p\n",
    "            n = random.randint(2,p)\n",
    "            i = jacobi(n,p)\n",
    "        \n",
    "        # Descomponemos p-1 en 2^u * s\n",
    "        p1 = p-1\n",
    "        u = 0\n",
    "        \n",
    "        while p1%2 == 0:\n",
    "            p1 = p1 // 2\n",
    "            u = u + 1\n",
    "    \n",
    "        s = p1\n",
    "        \n",
    "        # Si 'u' es igual 1\n",
    "        if u == 1:\n",
    "            r = alg_potencia(a, (p+1)//4, p)\n",
    "        \n",
    "        # Sino \n",
    "        elif u >= 2:\n",
    "            r = alg_potencia(a, (s+1)//2, p)\n",
    "            b = alg_potencia(n, s, p)\n",
    "            \n",
    "            j = 0\n",
    "            \n",
    "            a_i = alg_inverso(a, p)\n",
    "            \n",
    "            # Mientras j <= u-2\n",
    "            while (j <= u-2):\n",
    "                if alg_potencia(a_i*r**2, 2**(u-2-j), p) == p-1:\n",
    "                    r = (r*b) % p \n",
    "                    \n",
    "                b = (b*b)%p\n",
    "                j = j + 1\n",
    "        \n",
    "        # Devolvemos r\n",
    "        return r                      \n",
    "        \n",
    "    # elif jacobi1(a,p) == 1: ->  No tiene raíces\n",
    "    # Sino devuelve nada, no tiene raíces"
   ]
  },
  {
   "cell_type": "code",
   "execution_count": 23,
   "metadata": {
    "collapsed": false,
    "deletable": true,
    "editable": true
   },
   "outputs": [
    {
     "data": {
      "text/plain": [
       "242"
      ]
     },
     "execution_count": 23,
     "metadata": {},
     "output_type": "execute_result"
    }
   ],
   "source": [
    "residuo_cuadratico(319, 353)"
   ]
  },
  {
   "cell_type": "markdown",
   "metadata": {
    "deletable": true,
    "editable": true
   },
   "source": [
    "Hay que tener en cuenta, que existen dos raíces $111$ y $242$, así de que dependiendo de la ejecución, nos podrá dar una u otra. Para comprobar que está bien, hacemos:"
   ]
  },
  {
   "cell_type": "code",
   "execution_count": 24,
   "metadata": {
    "collapsed": false,
    "deletable": true,
    "editable": true
   },
   "outputs": [
    {
     "data": {
      "text/plain": [
       "319"
      ]
     },
     "execution_count": 24,
     "metadata": {},
     "output_type": "execute_result"
    }
   ],
   "source": [
    "alg_potencia(_, 2, 353)"
   ]
  },
  {
   "cell_type": "markdown",
   "metadata": {
    "deletable": true,
    "editable": true
   },
   "source": [
    "### Interpretación del Resultado Obtenido    \n",
    "\n",
    "Partimos de la _página 184 o 190, abierto desde el visualizador de pdf's_ de los **apuntes de Miranda**.\n",
    "\n",
    "Vamos a calcular la raíz cuadrada de $319 \\pmod 353$. En primer lugar comprobamos si dicha raíz existe (bueno, habría que ver antes que 353 es primo).\n",
    "\n",
    "$$ \\frac{319}{353} = \\frac{353}{319} = \\frac{34}{319} = \\frac{2}{319} · \\frac{17}{319} = \\frac{17}{319} = \\frac{319}{17} = \\frac{13}{17} = \\frac{17}{13} = \\frac{4}{13} = 1 $$\n",
    "\n",
    "Una vez hecho esto, necesitamos expresar $352$ como $2^u·s$, y encontrar $n$ tal que $\\frac{n}{353} = -1$  \n",
    "Para lo primero vamos dividiendo $352$ por dos hasta que nos dé impar:\n",
    "\n",
    "$$ 352 -> 176 -> 88 -> 44 -> 22 -> 11 $$\n",
    "\n",
    "es decir, $352 = 2^5·11$ ($u = 5$; $s = 11$).  \n",
    "Para encontrar $n$, vamos probando con $2, 3, ...$. hasta que obtengamos uno.\n",
    "\n",
    "- $\\frac{2}{353} = 1$ pues $353 = 1 \\pmod 8$\n",
    "- $\\frac{3}{353} = \\frac{325}{3} = \\frac{2}{353} = -1$\n",
    "\n",
    "Por tanto, $n = 3$ _(o en nuestro caso la $i$)_  \n",
    "Inicializamos las contantes:  \n",
    "$r = a^{\\frac{s+1}{2}} = 319^6$  \n",
    "$b = n^s = 3^{11} = 294$  \n",
    "Y calculamos $a^{-1}$, que vale $218$.\n",
    "\n",
    "$j$ | $a^{-1}r^{2}$ | $(a^{-1}$r²$)^{2^{3-j}}$ | $r$ | $b$\n",
    ":--: | :--: | :--: | :--: |:--:\n",
    " |  | | 168 | 294 \n",
    "0 | 42 | 1 |  | 304\n",
    "1 | 42 | 1 |  | 283 \n",
    "2 | 42 | -1 | 242 | 311\n",
    "3 | 1 | 1 |  | 352 \n",
    "\n",
    "El valor de $r$, es $242$ que es una raíz cuadrada de $319$. La otra raíz cuadrada es $353-242=111$. "
   ]
  },
  {
   "cell_type": "markdown",
   "metadata": {
    "deletable": true,
    "editable": true
   },
   "source": [
    "Para comprobar que el resultado es correcto, lo comprobamos haciendo en **GAP**:\n",
    "> RootsMod(319,353);"
   ]
  },
  {
   "cell_type": "markdown",
   "metadata": {
    "deletable": true,
    "editable": true
   },
   "source": [
    "## Ejercicio 6.2. \n",
    "\n",
    "Sea $n = pq$, con $p$ y $q$ enteros primos positivos.\n",
    "\n",
    "2. Sea a un entero que es residuo cuadrático módulo $p$ y $q$. Usa el teorema chino de los restos para calcular todas las raíces cuadradas de $a \\pmod n$ a partir de las raíces cuadradas de $a$ módulo $p$ y $q$."
   ]
  },
  {
   "cell_type": "markdown",
   "metadata": {
    "deletable": true,
    "editable": true
   },
   "source": [
    "### Teorema Chino de los Restos\n",
    "\n",
    "Para calcular el teorema chino de los restos, me baso en mis apuntes tomandos en clase (_página 18_). En concreto, en la fórmula:  \n",
    "\n",
    "$$x = rp + p·(rq-rp)·p^{-1}$$"
   ]
  },
  {
   "cell_type": "code",
   "execution_count": 25,
   "metadata": {
    "collapsed": true,
    "deletable": true,
    "editable": true
   },
   "outputs": [],
   "source": [
    "# -*- coding: utf-8 -*-\n",
    "\n",
    "# Algoritmo que calcula el teorema chino de los restos\n",
    "def teorema_chino_restos(rp, rq, p, q):\n",
    "    n = p*q\n",
    "    inverso_p = alg_inverso(p, q)\n",
    "    return ((rp + p *(rq - rp)*inverso_p) % (n))"
   ]
  },
  {
   "cell_type": "markdown",
   "metadata": {
    "deletable": true,
    "editable": true
   },
   "source": [
    "### Calcular Raíces\n",
    "\n",
    "Para calcular las raíces, me baso en mis apuntes tomandos en clase (_página 19_)."
   ]
  },
  {
   "cell_type": "code",
   "execution_count": 26,
   "metadata": {
    "collapsed": true,
    "deletable": true,
    "editable": true
   },
   "outputs": [],
   "source": [
    "# -*- coding: utf-8 -*-\n",
    "\n",
    "# Algoritmo que calcula las raíces modulares\n",
    "def raices(a, p, q):\n",
    "    n = p * q\n",
    "    \n",
    "    # Calculo el residuo cuadrático de p y q\n",
    "    rp = residuo_cuadratico(a,p)\n",
    "    rq = residuo_cuadratico(a,q)\n",
    "    \n",
    "    # jacobi != 1, no es residuo cuadratico\n",
    "    if (rp != None and rq != None):\n",
    "        # A continuación, cálculo las 4 raíces\n",
    "        r1 = teorema_chino_restos(rp, rq, p, q) \n",
    "        r2 = teorema_chino_restos(p-rp, rq, p, q)\n",
    "        r3 = (p*q - r1)\n",
    "        r4 = (p*q - r2)\n",
    "        \n",
    "        return ([r1, r2, r3, r4]) \n",
    "    \n",
    "    # Sino devuelve nada, no tiene raíces"
   ]
  },
  {
   "cell_type": "code",
   "execution_count": 27,
   "metadata": {
    "collapsed": false,
    "deletable": true,
    "editable": true
   },
   "outputs": [
    {
     "data": {
      "text/plain": [
       "[1, 11, 14, 4]"
      ]
     },
     "execution_count": 27,
     "metadata": {},
     "output_type": "execute_result"
    }
   ],
   "source": [
    "raices(1,3,5)"
   ]
  },
  {
   "cell_type": "markdown",
   "metadata": {
    "deletable": true,
    "editable": true
   },
   "source": [
    "### Interpretación del Resultado Obtenido    \n",
    "\n",
    "Quiero calcular $\\sqrt{1}$ en $\\mathbb{Z}_3$, en $\\mathbb{Z}_5$ y en $\\mathbb{Z}_{15}$"
   ]
  },
  {
   "cell_type": "markdown",
   "metadata": {
    "deletable": true,
    "editable": true
   },
   "source": [
    "---"
   ]
  },
  {
   "cell_type": "markdown",
   "metadata": {
    "deletable": true,
    "editable": true
   },
   "source": [
    "# Ejercicio 7"
   ]
  },
  {
   "cell_type": "markdown",
   "metadata": {
    "deletable": true,
    "editable": true
   },
   "source": [
    "## Ejercicio 7.1\n",
    "\n",
    "Implementa el Método de Fermat para factorización de enteros.\n",
    "\n",
    "Ahora, pasamos a calcular el residuo cuadrático. Para ello, nos basamos en el **pdf de Jesús Miranda de Criptografía**, en concreto en la _página 198_ o _204_, abierto desde el visualizador de pdf's. \n",
    "\n",
    "### Pseudocódigo\n",
    "\n",
    "1. Calculamos la raíz cuadrada de $n$, y llamamos x al entero inmediatamente superior.\n",
    "2. Mientras $x²−n$ no sea un cuadrado perfecto, incrementamos $x$ en una unidad.\n",
    "3. Cuando sea un cuadrado perfecto, le damos a $y$ el valor igual a la raíz cuadrada de $x²−n$\n",
    "4. Con los valores de $x$ e $y$ conseguimos una factorización de $n$."
   ]
  },
  {
   "cell_type": "code",
   "execution_count": 28,
   "metadata": {
    "collapsed": true,
    "deletable": true,
    "editable": true
   },
   "outputs": [],
   "source": [
    "# -*- coding: utf-8 -*-\n",
    "\n",
    "# Algoritmo que calcula la factorización de fermar de un número\n",
    "def fermat(n):\n",
    "    # Raiz cuadrada de n\n",
    "    x = isqrt(n)+1\n",
    "    y = 2\n",
    "    \n",
    "    # Hacemos uso de la función creada anteriormente para sacar raíces\n",
    "    while y != isqrt(y)**2:\n",
    "        y = x*x - n\n",
    "        x = x+1\n",
    "        \n",
    "    return(x-1,isqrt(y))"
   ]
  },
  {
   "cell_type": "code",
   "execution_count": 29,
   "metadata": {
    "collapsed": false,
    "deletable": true,
    "editable": true
   },
   "outputs": [
    {
     "data": {
      "text/plain": [
       "(2524, 135)"
      ]
     },
     "execution_count": 29,
     "metadata": {},
     "output_type": "execute_result"
    }
   ],
   "source": [
    "fermat(6352351)"
   ]
  },
  {
   "cell_type": "markdown",
   "metadata": {
    "deletable": true,
    "editable": true
   },
   "source": [
    "### Interpretación del resultado obtenido\n",
    "\n",
    "Sea $n = 6352351$. Vamos a factorizarlo usando este método.\n",
    "Se tiene que $\\sqrt n = 2520.387$. Por tanto, le damos a $x$ el valor $2521$. Nos quedaría:\n",
    "\n",
    "$x$ | $x²$-$n$ | ¿Es $x²-n$ cuadrado perfecto?\n",
    ":---: | :---: | :---: \n",
    "2521 | 3090 | No \n",
    "2522 | 8133 | No\n",
    "2523 | 13171 | No\n",
    "2524 | 18225 | Si"
   ]
  },
  {
   "cell_type": "code",
   "execution_count": 30,
   "metadata": {
    "collapsed": false,
    "deletable": true,
    "editable": true
   },
   "outputs": [
    {
     "data": {
      "text/plain": [
       "135.0"
      ]
     },
     "execution_count": 30,
     "metadata": {},
     "output_type": "execute_result"
    }
   ],
   "source": [
    "# Para comprobar que es un cuadrado perfecto\n",
    "import math\n",
    "math.sqrt(18225)"
   ]
  },
  {
   "cell_type": "markdown",
   "metadata": {
    "deletable": true,
    "editable": true
   },
   "source": [
    "## Ejercicio 7.2\n",
    "\n",
    "Implementa el algoritmo de factorización Ω de Pollard.\n",
    "\n",
    "Para ello nos basamos, en la referencia aportada por el _pdf's_. En concreto, nos basaremos en el [Algoritmo 3.9](http://cacr.uwaterloo.ca/hac/about/chap3.pdf)\n",
    " \n",
    "### Pseudocódigo\n",
    "\n",
    "**ENTRADA**: Un entero $n$.  \n",
    "**SALIDA**: Un factor no trivial de $n$.  \n",
    "\n",
    "1. Inicializar $a←2$, $b←2$.\n",
    "2. Para $i = 1,2,...$ hacer:  \n",
    "    2.1\\. Inicializar $a←a^{2}+1 \\pmod n$, $b←b^{2}+1 \\pmod n$, $b←b^{2}+1 \\pmod n$  \n",
    "    2.2\\. Obtener $d = mcd(a − b, n)$.  \n",
    "    2.3\\. Si $1 < d < n$ devolver $d$ y terminar.  \n",
    "    2.4\\. Si $d = n$ terminar la ejecución del algoritmo con un error."
   ]
  },
  {
   "cell_type": "code",
   "execution_count": 31,
   "metadata": {
    "collapsed": true,
    "deletable": true,
    "editable": true
   },
   "outputs": [],
   "source": [
    "# -*- coding: utf-8 -*-\n",
    "\n",
    "# Calculamos el mcd(a,b)\n",
    "def mcd (a, b):\n",
    "    if a % b == 0:\n",
    "        return b\n",
    "    \n",
    "    return mcd(b, a%b)\n",
    "\n",
    "# Algoritmo que calcula el método de pollard\n",
    "def alg_pollard(n):\n",
    "    a = 2\n",
    "    b = 2\n",
    "    \n",
    "    while (True) :\n",
    "        a = ((a**2)+1) % n\n",
    "        b = ((b**2)+1) % n\n",
    "        b = ((b**2)+1) % n\n",
    "        \n",
    "        # Obtener el mcd(a-b, n)\n",
    "        d = mcd(a-b, n)\n",
    "        \n",
    "        if (1<d and d<n):\n",
    "            return d\n",
    "        \n",
    "        # Terminar la ejecución del algoritmo con un error\n",
    "        if (d == n):\n",
    "            print(\"Error\")\n",
    "            return None"
   ]
  },
  {
   "cell_type": "code",
   "execution_count": 32,
   "metadata": {
    "collapsed": false,
    "deletable": true,
    "editable": true
   },
   "outputs": [
    {
     "data": {
      "text/plain": [
       "743"
      ]
     },
     "execution_count": 32,
     "metadata": {},
     "output_type": "execute_result"
    }
   ],
   "source": [
    "alg_pollard(455459)"
   ]
  },
  {
   "cell_type": "markdown",
   "metadata": {
    "deletable": true,
    "editable": true
   },
   "source": [
    "### Interpretación del resultado obtenido\n",
    "\n",
    "A continuación, vamos a comprobar de donde ha salido el resultado, recordar que estamos en $\\pmod 455459$:\n",
    "\n",
    "a | b | d\n",
    ":---: | :---: | :---: | \n",
    "5 = $(2^{2}+1)$ | 26 | 1 = $mcd(-21, 455459)$\n",
    "26 = $(5^{2}+1)$ | 2871 | 1 = $mcd(-2845, 455459)$\n",
    "677 = $(26^{2}+1)$ | 179685 | 1 = $mcd(-179008, 455459)$\n",
    "2871 = $(677^{2}+1)$| 155260 | 1 = $mcd(-152389, 455459)$\n",
    "44380 = $(2871^{2}+1)$ | 416250 |1 = $mcd(-371870, 455459)$\n",
    "179685 = $(44380^{2}+1)$ | 43670 | 1 = $mcd(136015, 455459)$\n",
    "121634 = $(179685^{2}+1)$ | 164403 | 1 = $mcd(-42769, 455459)$\n",
    "155260 = $(121634^{2}+1)$ | 247944 | 1 = $mcd(-92684, 455459)$\n",
    "44567 = $(15526^{2}+1)$ | 68343 | 743 = $mcd(-23776, 455459)$"
   ]
  },
  {
   "cell_type": "markdown",
   "metadata": {
    "deletable": true,
    "editable": true
   },
   "source": [
    "Para comprobar que el resultado es correcto, lo comprobamos haciendo en **GAP**:\n",
    "> FactorsRho(n);"
   ]
  },
  {
   "cell_type": "markdown",
   "metadata": {
    "deletable": true,
    "editable": true
   },
   "source": [
    "---"
   ]
  },
  {
   "cell_type": "markdown",
   "metadata": {
    "deletable": true,
    "editable": true
   },
   "source": [
    "# Ejercicio 8\n",
    "\n",
    "Compara los tiempos de ejecución de tus implementaciones con las de tus compañeros y con las\n",
    "primitivas de algunos paquetes de cálculo simbólico como (GAP, maxima...)"
   ]
  },
  {
   "cell_type": "markdown",
   "metadata": {
    "deletable": true,
    "editable": true
   },
   "source": [
    "Primero, calcularemos los tiempos que tardan mis algoritmos."
   ]
  },
  {
   "cell_type": "code",
   "execution_count": 33,
   "metadata": {
    "collapsed": false,
    "deletable": true,
    "editable": true
   },
   "outputs": [
    {
     "name": "stdout",
     "output_type": "stream",
     "text": [
      "['Euclides: 0.00011491775512695312', 'Algoritmo Inverso: 9.250640869140625e-05', 'Algoritmo Potencia: 0.00014209747314453125', 'Algoritmo Miller-Rabin: 0.0007910728454589844', 'Paso enano paso gigante: 0.006052494049072266', 'Residuo cuadrático: 0.0003809928894042969', 'Raices: 0.0006351470947265625', 'Fermat: 2.684865951538086', 'Pollard: 4.76837158203125e-05']\n"
     ]
    }
   ],
   "source": [
    "import time\n",
    "\n",
    "tiempos = []\n",
    "\n",
    "# Algoritmo extendido de euclides\n",
    "t1 = time.time()\n",
    "alg_euclides(28564333765949, 123456789101119)\n",
    "t2 = time.time()\n",
    "tiempos.append(\"Euclides: \" + str(t2 - t1))\n",
    "\n",
    "# Algoritmo Inverso\n",
    "t1 = time.time()\n",
    "alg_inverso(28564333765949, 123456789101119)\n",
    "t2 = time.time()\n",
    "tiempos.append(\"Algoritmo Inverso: \" + str(t2 - t1))\n",
    "\n",
    "# Algoritmo Potencia\n",
    "t1 = time.time()\n",
    "alg_potencia(8590365927553, 28564333765949, 123456789101119)\n",
    "t2 = time.time()\n",
    "tiempos.append(\"Algoritmo Potencia: \" + str(t2 - t1))\n",
    "\n",
    "# Miller-rabin\n",
    "t1 = time.time()\n",
    "alg_miller_rabin1(123456789101119, 10)\n",
    "t2 = time.time()\n",
    "tiempos.append(\"Algoritmo Miller-Rabin: \" + str(t2 - t1))\n",
    "\n",
    "# Paso enano paso gigante\n",
    "t1 = time.time()\n",
    "paso_enano_paso_gigante(859036592, 285643337, 46381)\n",
    "t2 = time.time()\n",
    "tiempos.append(\"Paso enano paso gigante: \" + str(t2 - t1))\n",
    "\n",
    "# Residuo Cuadratico\n",
    "t1 = time.time()\n",
    "residuo_cuadratico(123458977,8590365927553)\n",
    "t2 = time.time()\n",
    "tiempos.append(\"Residuo cuadrático: \" + str(t2 - t1))\n",
    "\n",
    "# Raíces\n",
    "t1 = time.time()\n",
    "raices(123458977,8590365927553, 28564333765949)\n",
    "t2 = time.time()\n",
    "tiempos.append(\"Raices: \" + str(t2 - t1))\n",
    "\n",
    "# Fermat\n",
    "t1 = time.time()\n",
    "fermat(1234568977)\n",
    "t2 = time.time()\n",
    "tiempos.append(\"Fermat: \" + str(t2 - t1))\n",
    "\n",
    "# Pollard\n",
    "t1 = time.time()\n",
    "alg_pollard(8590365927554)\n",
    "t2 = time.time()\n",
    "tiempos.append(\"Pollard: \" + str(t2 - t1))\n",
    "\n",
    "print(tiempos)"
   ]
  },
  {
   "cell_type": "markdown",
   "metadata": {
    "deletable": true,
    "editable": true
   },
   "source": [
    "En el enunciado, se nos pide que compararemos con las primitivias de algunos paquetes de cálcula simbólico como $GAP$ o $Maxima$. Pues bien, al haber realizado los ejercicios anteriores en $GAP$, el tiempo que tarda en ejecutarlos, es alrededor de cero. Por tanto, he considerado despreciar tal comparación y centrarme en la de mis compañeros. Del mismo modo, probé a realizarlos en $Maxima$."
   ]
  },
  {
   "cell_type": "markdown",
   "metadata": {
    "deletable": true,
    "editable": true
   },
   "source": [
    "Para realizar la comparación con mis compañeros, se han usado los mismos números. Lo único que difieren son los algoritmos y la máquina donde se han sacado los tiempos:\n",
    "\n",
    "**Algoritmo** | **Compañero 1** | **Compañero 2** | **Yo**\n",
    ":---: | :---: | :---: \n",
    "Euclides | 7.46e-05 | 0.00053 | 4.91e-05\n",
    "Inverso | 7.96e-05 | 1.41E-05 | 4.34e-05\n",
    "Potencia | 0.00011 | 7.20E-05 | 7.25e-05\n",
    "Miller-Rabin | 0.000603 | 0.000622 | 0.000391\n",
    "Paso Enano Paso Gigante | 0.000329 | 0.00154 | 0.0036\n",
    "Residuo Cuadratico (raíz de $p$) | 9.49e-05 | 2.19E-05 | 6.19e-05 \n",
    "Raices Modulares (raíz de $pq$) | 0.000143 | 2.72E-05 | 7.41e-05\n",
    "Fermat | 3.91 | 1.710 | 2.63\n",
    "Pollard | 9.87e-05 | 2.00E-05 |  5.32e-05\n",
    "**Media** | **4.35e-01** | **1.90e-01** | **2.93e-01**\n",
    "\n",
    "Para el **Compañero 1**, como se puede apreciar, en casi todos los algoritmos mi ordenador obtiene un mejor tiempo. Esto es debido, a que las prestaciones ofrecidas por mi ordenador son mejores incluso usando una máquina virtual, y también que mi ordenador tiene 2-3 años y el de mi compañero, 7. Por ejemplo, en el algoritmo de **paso enano paso gigante**, obtengo un peor resultado, esto es así ya que mi algoritmos tiene orden de eficiencia alrededor del cuadrático, mientras que mi compañero tiene un algoritmo con un orden de eficiencia menor.\n",
    "\n",
    "Pero como se la **Compañera 2**, obtiene los mejores resultados, obtiendo $0.1s$ menos que mis algoritmos.\n",
    "\n",
    "Además, junto a mi **Compañero 1**, hemos realizado otro tipo de comparación. Básicamente consiste, en que tanto él como yo, hemos ejecutado los algoritmos de ambos. \n",
    "\n",
    "_**Nota**: PC.1 será el PC del Compañero 1 y PC.YO será mi ordenador._\n",
    "\n",
    "**Algoritmo** | **Yo en PC.1** | **Yo PC.YO** | **Compañero 1 en PC.1** | **Compañero 1 en PC.YO**\n",
    ":---: | :---: | :---: | :---: \n",
    "Euclides | 0.000281| 4.91E-05 | 8.44E-05 | 4.12E-05\n",
    "Inverso | 0.00028 | 4.34E-05 | 7.70E-05 | 4.43E-05\n",
    "Potencia | 0.00041 | 7.25E-05 | 0.0001084 | 6.56E-05\n",
    "Miller-Rabin | 0.0014 | 0.000391 | 0.000554561615 | 0.0003833\n",
    "Paso Enano Paso Gigante | 0.0133 | 0.003590345383 | 0.0003039 | 0.000207\n",
    "Residuo Cuadratico (raíz de $p$) | 0.000307 | 6.20E-05 | 8.54E-05 | 5.46E-05\n",
    "Raices Modulares (raíz de $pq$) | 0.000340 | 7.41E-05 | 0.000125 | 9.01E-05\n",
    "Fermat | 3.896 | 2.633 | 3.8872 | 2.787\n",
    "Pollard | 7.94E-05 | 5.32E-05 |  0.000184 | 4.39E-05\n",
    "**Media** | **4.34e-01** | **2.93E-01** | **4.32E-01** | **3.10E-01**\n",
    "\n",
    "Una vez obtenida la tabla vamos a dar una conclusión. Como se puede ver, los algoritmos tanto míos como de mi compañero en la máquina de mi compañero, tardan aproximadamente lo mismo. Igual ocurre en mi ordenador. Sin embargo, cuando lanzamos un mismo algoritmo en distintas máquinas, mi ordenador tarda menos que en el de mi compañero. Esto quiere decir que aunque tengamos algoritmos parecidos, depende de la carga y la máquina en que se este ejecutando, y como dije antes, mi ordenador tiene mejores prestaciones que el de mi compañero. "
   ]
  }
 ],
 "metadata": {
  "kernelspec": {
   "display_name": "Python 3",
   "language": "python",
   "name": "python3"
  },
  "language_info": {
   "codemirror_mode": {
    "name": "ipython",
    "version": 3
   },
   "file_extension": ".py",
   "mimetype": "text/x-python",
   "name": "python",
   "nbconvert_exporter": "python",
   "pygments_lexer": "ipython3",
   "version": "3.5.2"
  }
 },
 "nbformat": 4,
 "nbformat_minor": 2
}
